{
 "cells": [
  {
   "cell_type": "markdown",
   "metadata": {
    "colab_type": "text"
   },
   "source": [
    "This is a companion notebook for the book [Deep Learning with Python, Second Edition](https://www.manning.com/books/deep-learning-with-python-second-edition?a_aid=keras&a_bid=76564dff). For readability, it only contains runnable code blocks and section titles, and omits everything else in the book: text paragraphs, figures, and pseudocode.\n",
    "\n",
    "**If you want to be able to follow what's going on, I recommend reading the notebook side by side with your copy of the book.**\n",
    "\n",
    "This notebook was generated for TensorFlow 2.6."
   ]
  },
  {
   "cell_type": "markdown",
   "metadata": {
    "colab_type": "text"
   },
   "source": [
    "## The Transformer architecture"
   ]
  },
  {
   "cell_type": "markdown",
   "metadata": {
    "colab_type": "text"
   },
   "source": [
    "### Understanding self-attention"
   ]
  },
  {
   "cell_type": "markdown",
   "metadata": {
    "colab_type": "text"
   },
   "source": [
    "#### Generalized self-attention: the query-key-value model"
   ]
  },
  {
   "cell_type": "markdown",
   "metadata": {
    "colab_type": "text"
   },
   "source": [
    "### Multi-head attention"
   ]
  },
  {
   "cell_type": "markdown",
   "metadata": {
    "colab_type": "text"
   },
   "source": [
    "### The Transformer encoder"
   ]
  },
  {
   "cell_type": "markdown",
   "metadata": {
    "colab_type": "text"
   },
   "source": [
    "**Getting the data**"
   ]
  },
  {
   "cell_type": "markdown",
   "metadata": {
    "colab_type": "text"
   },
   "source": [
    "**Preparing the data**"
   ]
  },
  {
   "cell_type": "code",
   "execution_count": 1,
   "metadata": {
    "colab_type": "code"
   },
   "outputs": [
    {
     "name": "stdout",
     "output_type": "stream",
     "text": [
      "Found 20000 files belonging to 2 classes.\n",
      "Found 5000 files belonging to 2 classes.\n",
      "Found 25000 files belonging to 2 classes.\n"
     ]
    }
   ],
   "source": [
    "import os, pathlib, shutil, random\n",
    "from tensorflow import keras\n",
    "batch_size = 32\n",
    "\n",
    "train_ds = keras.utils.text_dataset_from_directory(\n",
    "    \"../data/aclImdb/train\", batch_size=batch_size\n",
    ")\n",
    "val_ds = keras.utils.text_dataset_from_directory(\n",
    "    \"../data/aclImdb/val\", batch_size=batch_size\n",
    ")\n",
    "test_ds = keras.utils.text_dataset_from_directory(\n",
    "    \"../data/aclImdb/test\", batch_size=batch_size\n",
    ")\n",
    "text_only_train_ds = train_ds.map(lambda x, y: x)"
   ]
  },
  {
   "cell_type": "markdown",
   "metadata": {
    "colab_type": "text"
   },
   "source": [
    "**Vectorizing the data**"
   ]
  },
  {
   "cell_type": "code",
   "execution_count": 2,
   "metadata": {
    "colab_type": "code"
   },
   "outputs": [],
   "source": [
    "from tensorflow.keras import layers\n",
    "\n",
    "max_length = 600\n",
    "max_tokens = 20000\n",
    "text_vectorization = layers.TextVectorization(\n",
    "    max_tokens=max_tokens,\n",
    "    output_mode=\"int\",\n",
    "    output_sequence_length=max_length,\n",
    ")\n",
    "text_vectorization.adapt(text_only_train_ds)\n",
    "\n",
    "int_train_ds = train_ds.map(\n",
    "    lambda x, y: (text_vectorization(x), y),\n",
    "    num_parallel_calls=4)\n",
    "int_val_ds = val_ds.map(\n",
    "    lambda x, y: (text_vectorization(x), y),\n",
    "    num_parallel_calls=4)\n",
    "int_test_ds = test_ds.map(\n",
    "    lambda x, y: (text_vectorization(x), y),\n",
    "    num_parallel_calls=4)"
   ]
  },
  {
   "cell_type": "markdown",
   "metadata": {
    "colab_type": "text"
   },
   "source": [
    "**Transformer encoder implemented as a subclassed `Layer`**"
   ]
  },
  {
   "cell_type": "code",
   "execution_count": 3,
   "metadata": {
    "colab_type": "code"
   },
   "outputs": [],
   "source": [
    "import tensorflow as tf\n",
    "from tensorflow import keras\n",
    "from tensorflow.keras import layers\n",
    "\n",
    "class TransformerEncoder(layers.Layer):\n",
    "    def __init__(self, embed_dim, dense_dim, num_heads, **kwargs):\n",
    "        super().__init__(**kwargs)\n",
    "        # 输入词元向量的尺寸\n",
    "        self.embed_dim = embed_dim\n",
    "        # Dense层的尺寸\n",
    "        self.dense_dim = dense_dim\n",
    "        # 注意力头的个数\n",
    "        self.num_heads = num_heads\n",
    "        self.attention = layers.MultiHeadAttention(\n",
    "            num_heads=num_heads, key_dim=embed_dim)\n",
    "        self.dense_proj = keras.Sequential(\n",
    "            [layers.Dense(dense_dim, activation=\"relu\"),\n",
    "             layers.Dense(embed_dim),]\n",
    "        )\n",
    "        # 规范化层\n",
    "        self.layernorm_1 = layers.LayerNormalization()\n",
    "        self.layernorm_2 = layers.LayerNormalization()\n",
    "\n",
    "    def call(self, inputs, mask=None):\n",
    "        # 增加维度\n",
    "        if mask is not None:\n",
    "            mask = mask[:, tf.newaxis, :]\n",
    "        attention_output = self.attention(\n",
    "            inputs, inputs, attention_mask=mask)\n",
    "        proj_input = self.layernorm_1(inputs + attention_output)\n",
    "        proj_output = self.dense_proj(proj_input)\n",
    "        return self.layernorm_2(proj_input + proj_output)\n",
    "\n",
    "    def get_config(self):\n",
    "        # 实现序列化，用于保存模型\n",
    "        config = super().get_config()\n",
    "        config.update({\n",
    "            \"embed_dim\": self.embed_dim,\n",
    "            \"num_heads\": self.num_heads,\n",
    "            \"dense_dim\": self.dense_dim,\n",
    "        })\n",
    "        return config"
   ]
  },
  {
   "cell_type": "markdown",
   "metadata": {
    "colab_type": "text"
   },
   "source": [
    "**Using the Transformer encoder for text classification**"
   ]
  },
  {
   "cell_type": "code",
   "execution_count": 4,
   "metadata": {
    "colab_type": "code"
   },
   "outputs": [
    {
     "name": "stdout",
     "output_type": "stream",
     "text": [
      "Model: \"model\"\n",
      "_________________________________________________________________\n",
      " Layer (type)                Output Shape              Param #   \n",
      "=================================================================\n",
      " input_1 (InputLayer)        [(None, None)]            0         \n",
      "                                                                 \n",
      " embedding (Embedding)       (None, None, 256)         5120000   \n",
      "                                                                 \n",
      " transformer_encoder (Transf  (None, None, 256)        543776    \n",
      " ormerEncoder)                                                   \n",
      "                                                                 \n",
      " global_max_pooling1d (Globa  (None, 256)              0         \n",
      " lMaxPooling1D)                                                  \n",
      "                                                                 \n",
      " dropout (Dropout)           (None, 256)               0         \n",
      "                                                                 \n",
      " dense_2 (Dense)             (None, 1)                 257       \n",
      "                                                                 \n",
      "=================================================================\n",
      "Total params: 5,664,033\n",
      "Trainable params: 5,664,033\n",
      "Non-trainable params: 0\n",
      "_________________________________________________________________\n"
     ]
    }
   ],
   "source": [
    "vocab_size = 20000\n",
    "embed_dim = 256\n",
    "num_heads = 2\n",
    "dense_dim = 32\n",
    "\n",
    "inputs = keras.Input(shape=(None,), dtype=\"int64\")\n",
    "x = layers.Embedding(vocab_size, embed_dim)(inputs)\n",
    "x = TransformerEncoder(embed_dim, dense_dim, num_heads)(x)\n",
    "# 使用全局汇聚层将每个序列转换为单个向量，用于进行分类\n",
    "x = layers.GlobalMaxPooling1D()(x)\n",
    "x = layers.Dropout(0.5)(x)\n",
    "outputs = layers.Dense(1, activation=\"sigmoid\")(x)\n",
    "model = keras.Model(inputs, outputs)\n",
    "model.compile(optimizer=\"rmsprop\",\n",
    "              loss=\"binary_crossentropy\",\n",
    "              metrics=[\"accuracy\"])\n",
    "model.summary()"
   ]
  },
  {
   "cell_type": "markdown",
   "metadata": {
    "colab_type": "text"
   },
   "source": [
    "**Training and evaluating the Transformer encoder based model**"
   ]
  },
  {
   "cell_type": "code",
   "execution_count": 5,
   "metadata": {
    "colab_type": "code"
   },
   "outputs": [
    {
     "name": "stdout",
     "output_type": "stream",
     "text": [
      "Epoch 1/20\n",
      "625/625 [==============================] - 28s 40ms/step - loss: 0.4842 - accuracy: 0.7768 - val_loss: 0.3336 - val_accuracy: 0.8612\n",
      "Epoch 2/20\n",
      "625/625 [==============================] - 25s 40ms/step - loss: 0.3067 - accuracy: 0.8700 - val_loss: 0.2920 - val_accuracy: 0.8794\n",
      "Epoch 3/20\n",
      "625/625 [==============================] - 25s 40ms/step - loss: 0.2273 - accuracy: 0.9088 - val_loss: 0.2836 - val_accuracy: 0.8902\n",
      "Epoch 4/20\n",
      "625/625 [==============================] - 25s 40ms/step - loss: 0.1791 - accuracy: 0.9311 - val_loss: 0.3290 - val_accuracy: 0.8832\n",
      "Epoch 5/20\n",
      "625/625 [==============================] - 25s 40ms/step - loss: 0.1487 - accuracy: 0.9446 - val_loss: 0.3832 - val_accuracy: 0.8798\n",
      "Epoch 6/20\n",
      "625/625 [==============================] - 25s 40ms/step - loss: 0.1252 - accuracy: 0.9542 - val_loss: 0.4128 - val_accuracy: 0.8828\n",
      "Epoch 7/20\n",
      "625/625 [==============================] - 25s 40ms/step - loss: 0.1096 - accuracy: 0.9589 - val_loss: 0.3750 - val_accuracy: 0.8842\n",
      "Epoch 8/20\n",
      "625/625 [==============================] - 25s 41ms/step - loss: 0.0939 - accuracy: 0.9656 - val_loss: 0.5010 - val_accuracy: 0.8740\n",
      "Epoch 9/20\n",
      "625/625 [==============================] - 26s 41ms/step - loss: 0.0866 - accuracy: 0.9680 - val_loss: 0.4209 - val_accuracy: 0.8714\n",
      "Epoch 10/20\n",
      "625/625 [==============================] - 26s 41ms/step - loss: 0.0738 - accuracy: 0.9717 - val_loss: 0.5441 - val_accuracy: 0.8744\n",
      "Epoch 11/20\n",
      "625/625 [==============================] - 26s 41ms/step - loss: 0.0628 - accuracy: 0.9773 - val_loss: 0.5086 - val_accuracy: 0.8754\n",
      "Epoch 12/20\n",
      "625/625 [==============================] - 26s 41ms/step - loss: 0.0586 - accuracy: 0.9793 - val_loss: 0.6441 - val_accuracy: 0.8748\n",
      "Epoch 13/20\n",
      "625/625 [==============================] - 26s 41ms/step - loss: 0.0528 - accuracy: 0.9808 - val_loss: 0.5669 - val_accuracy: 0.8722\n",
      "Epoch 14/20\n",
      "625/625 [==============================] - 26s 41ms/step - loss: 0.0417 - accuracy: 0.9854 - val_loss: 0.5907 - val_accuracy: 0.8756\n",
      "Epoch 15/20\n",
      "625/625 [==============================] - 26s 41ms/step - loss: 0.0406 - accuracy: 0.9862 - val_loss: 0.6623 - val_accuracy: 0.8660\n",
      "Epoch 16/20\n",
      "625/625 [==============================] - 26s 41ms/step - loss: 0.0345 - accuracy: 0.9883 - val_loss: 0.6912 - val_accuracy: 0.8648\n",
      "Epoch 17/20\n",
      "625/625 [==============================] - 26s 41ms/step - loss: 0.0278 - accuracy: 0.9902 - val_loss: 0.6883 - val_accuracy: 0.8618\n",
      "Epoch 18/20\n",
      "625/625 [==============================] - 26s 42ms/step - loss: 0.0292 - accuracy: 0.9906 - val_loss: 0.8262 - val_accuracy: 0.8566\n",
      "Epoch 19/20\n",
      "625/625 [==============================] - 27s 43ms/step - loss: 0.0241 - accuracy: 0.9921 - val_loss: 1.0259 - val_accuracy: 0.8596\n",
      "Epoch 20/20\n",
      "625/625 [==============================] - 27s 43ms/step - loss: 0.0219 - accuracy: 0.9926 - val_loss: 1.1091 - val_accuracy: 0.8610\n",
      "782/782 [==============================] - 12s 15ms/step - loss: 0.2987 - accuracy: 0.8784\n",
      "Test acc: 0.878\n"
     ]
    }
   ],
   "source": [
    "callbacks = [\n",
    "    keras.callbacks.ModelCheckpoint(\"transformer_encoder.keras\",\n",
    "                                    save_best_only=True)\n",
    "]\n",
    "model.fit(int_train_ds, validation_data=int_val_ds, epochs=20, callbacks=callbacks)\n",
    "# 使用自定义的TransformerEncoder\n",
    "model = keras.models.load_model(\n",
    "    \"transformer_encoder.keras\",\n",
    "    custom_objects={\"TransformerEncoder\": TransformerEncoder})\n",
    "print(f\"Test acc: {model.evaluate(int_test_ds)[1]:.3f}\")"
   ]
  },
  {
   "cell_type": "markdown",
   "metadata": {
    "colab_type": "text"
   },
   "source": [
    "#### Using positional encoding to re-inject order information"
   ]
  },
  {
   "cell_type": "markdown",
   "metadata": {
    "colab_type": "text"
   },
   "source": [
    "**Implementing positional embedding as a subclassed layer**"
   ]
  },
  {
   "cell_type": "code",
   "execution_count": 6,
   "metadata": {
    "colab_type": "code"
   },
   "outputs": [],
   "source": [
    "class PositionalEmbedding(layers.Layer):\n",
    "    def __init__(self, sequence_length, input_dim, output_dim, **kwargs):\n",
    "        super().__init__(**kwargs)\n",
    "        # 准备一个Embedding层，用于保存词元索引\n",
    "        self.token_embeddings = layers.Embedding(\n",
    "            input_dim=input_dim, output_dim=output_dim)\n",
    "        self.position_embeddings = layers.Embedding(\n",
    "            input_dim=sequence_length, output_dim=output_dim)\n",
    "        self.sequence_length = sequence_length\n",
    "        self.input_dim = input_dim\n",
    "        self.output_dim = output_dim\n",
    "\n",
    "    def call(self, inputs):\n",
    "        length = tf.shape(inputs)[-1]\n",
    "        positions = tf.range(start=0, limit=length, delta=1)\n",
    "        embedded_tokens = self.token_embeddings(inputs)\n",
    "        embedded_positions = self.position_embeddings(positions)\n",
    "        # 嵌入位置\n",
    "        return embedded_tokens + embedded_positions\n",
    "\n",
    "    def compute_mask(self, inputs, mask=None):\n",
    "        return tf.math.not_equal(inputs, 0)\n",
    "\n",
    "    def get_config(self):\n",
    "        # 实现序列化\n",
    "        config = super().get_config()\n",
    "        config.update({\n",
    "            \"output_dim\": self.output_dim,\n",
    "            \"sequence_length\": self.sequence_length,\n",
    "            \"input_dim\": self.input_dim,\n",
    "        })\n",
    "        return config"
   ]
  },
  {
   "cell_type": "markdown",
   "metadata": {
    "colab_type": "text"
   },
   "source": [
    "#### Putting it all together: A text-classification Transformer"
   ]
  },
  {
   "cell_type": "markdown",
   "metadata": {
    "colab_type": "text"
   },
   "source": [
    "**Combining the Transformer encoder with positional embedding**"
   ]
  },
  {
   "cell_type": "code",
   "execution_count": 7,
   "metadata": {
    "colab_type": "code"
   },
   "outputs": [
    {
     "name": "stdout",
     "output_type": "stream",
     "text": [
      "Model: \"model_1\"\n",
      "_________________________________________________________________\n",
      " Layer (type)                Output Shape              Param #   \n",
      "=================================================================\n",
      " input_2 (InputLayer)        [(None, None)]            0         \n",
      "                                                                 \n",
      " positional_embedding (Posit  (None, None, 256)        5273600   \n",
      " ionalEmbedding)                                                 \n",
      "                                                                 \n",
      " transformer_encoder_1 (Tran  (None, None, 256)        543776    \n",
      " sformerEncoder)                                                 \n",
      "                                                                 \n",
      " global_max_pooling1d_1 (Glo  (None, 256)              0         \n",
      " balMaxPooling1D)                                                \n",
      "                                                                 \n",
      " dropout_1 (Dropout)         (None, 256)               0         \n",
      "                                                                 \n",
      " dense_7 (Dense)             (None, 1)                 257       \n",
      "                                                                 \n",
      "=================================================================\n",
      "Total params: 5,817,633\n",
      "Trainable params: 5,817,633\n",
      "Non-trainable params: 0\n",
      "_________________________________________________________________\n",
      "Epoch 1/20\n",
      "625/625 [==============================] - 30s 47ms/step - loss: 0.4679 - accuracy: 0.7825 - val_loss: 0.3528 - val_accuracy: 0.8738\n",
      "Epoch 2/20\n",
      "625/625 [==============================] - 29s 46ms/step - loss: 0.2378 - accuracy: 0.9089 - val_loss: 0.2861 - val_accuracy: 0.8896\n",
      "Epoch 3/20\n",
      "625/625 [==============================] - 29s 47ms/step - loss: 0.1768 - accuracy: 0.9322 - val_loss: 0.2744 - val_accuracy: 0.8932\n",
      "Epoch 4/20\n",
      "625/625 [==============================] - 29s 46ms/step - loss: 0.1428 - accuracy: 0.9459 - val_loss: 0.3337 - val_accuracy: 0.8896\n",
      "Epoch 5/20\n",
      "625/625 [==============================] - 29s 46ms/step - loss: 0.1217 - accuracy: 0.9553 - val_loss: 0.4749 - val_accuracy: 0.8774\n",
      "Epoch 6/20\n",
      "625/625 [==============================] - 29s 46ms/step - loss: 0.1070 - accuracy: 0.9616 - val_loss: 0.4197 - val_accuracy: 0.8860\n",
      "Epoch 7/20\n",
      "625/625 [==============================] - 29s 46ms/step - loss: 0.0920 - accuracy: 0.9671 - val_loss: 0.4091 - val_accuracy: 0.8824\n",
      "Epoch 8/20\n",
      "625/625 [==============================] - 30s 47ms/step - loss: 0.0837 - accuracy: 0.9708 - val_loss: 0.4320 - val_accuracy: 0.8758\n",
      "Epoch 9/20\n",
      "625/625 [==============================] - 29s 47ms/step - loss: 0.0729 - accuracy: 0.9750 - val_loss: 0.5944 - val_accuracy: 0.8642\n",
      "Epoch 10/20\n",
      "625/625 [==============================] - 29s 47ms/step - loss: 0.0639 - accuracy: 0.9776 - val_loss: 0.5532 - val_accuracy: 0.8740\n",
      "Epoch 11/20\n",
      "625/625 [==============================] - 29s 47ms/step - loss: 0.0587 - accuracy: 0.9793 - val_loss: 0.4753 - val_accuracy: 0.8694\n",
      "Epoch 12/20\n",
      "625/625 [==============================] - 29s 47ms/step - loss: 0.0525 - accuracy: 0.9811 - val_loss: 0.5596 - val_accuracy: 0.8760\n",
      "Epoch 13/20\n",
      "625/625 [==============================] - 30s 47ms/step - loss: 0.0414 - accuracy: 0.9854 - val_loss: 0.5892 - val_accuracy: 0.8718\n",
      "Epoch 14/20\n",
      "625/625 [==============================] - 30s 47ms/step - loss: 0.0400 - accuracy: 0.9863 - val_loss: 0.6732 - val_accuracy: 0.8680\n",
      "Epoch 15/20\n",
      "625/625 [==============================] - 29s 47ms/step - loss: 0.0342 - accuracy: 0.9888 - val_loss: 0.6598 - val_accuracy: 0.8596\n",
      "Epoch 16/20\n",
      "625/625 [==============================] - 29s 46ms/step - loss: 0.0319 - accuracy: 0.9901 - val_loss: 0.6062 - val_accuracy: 0.8616\n",
      "Epoch 17/20\n",
      "625/625 [==============================] - 29s 46ms/step - loss: 0.0278 - accuracy: 0.9909 - val_loss: 0.7042 - val_accuracy: 0.8668\n",
      "Epoch 18/20\n",
      "625/625 [==============================] - 29s 47ms/step - loss: 0.0251 - accuracy: 0.9924 - val_loss: 0.7882 - val_accuracy: 0.8680\n",
      "Epoch 19/20\n",
      "625/625 [==============================] - 29s 47ms/step - loss: 0.0216 - accuracy: 0.9934 - val_loss: 0.8712 - val_accuracy: 0.8540\n",
      "Epoch 20/20\n",
      "625/625 [==============================] - 29s 46ms/step - loss: 0.0202 - accuracy: 0.9944 - val_loss: 0.8300 - val_accuracy: 0.8670\n",
      "782/782 [==============================] - 14s 17ms/step - loss: 0.3075 - accuracy: 0.8748\n",
      "Test acc: 0.875\n"
     ]
    }
   ],
   "source": [
    "vocab_size = 20000\n",
    "sequence_length = 600\n",
    "embed_dim = 256\n",
    "num_heads = 2\n",
    "dense_dim = 32\n",
    "\n",
    "inputs = keras.Input(shape=(None,), dtype=\"int64\")\n",
    "x = PositionalEmbedding(sequence_length, vocab_size, embed_dim)(inputs)\n",
    "x = TransformerEncoder(embed_dim, dense_dim, num_heads)(x)\n",
    "x = layers.GlobalMaxPooling1D()(x)\n",
    "x = layers.Dropout(0.5)(x)\n",
    "outputs = layers.Dense(1, activation=\"sigmoid\")(x)\n",
    "model = keras.Model(inputs, outputs)\n",
    "model.compile(optimizer=\"rmsprop\",\n",
    "              loss=\"binary_crossentropy\",\n",
    "              metrics=[\"accuracy\"])\n",
    "model.summary()\n",
    "\n",
    "callbacks = [\n",
    "    keras.callbacks.ModelCheckpoint(\"full_transformer_encoder.keras\",\n",
    "                                    save_best_only=True)\n",
    "]\n",
    "model.fit(int_train_ds, validation_data=int_val_ds, epochs=20, callbacks=callbacks)\n",
    "model = keras.models.load_model(\n",
    "    \"full_transformer_encoder.keras\",\n",
    "    custom_objects={\"TransformerEncoder\": TransformerEncoder,\n",
    "                    \"PositionalEmbedding\": PositionalEmbedding})\n",
    "print(f\"Test acc: {model.evaluate(int_test_ds)[1]:.3f}\")"
   ]
  },
  {
   "cell_type": "markdown",
   "metadata": {
    "colab_type": "text"
   },
   "source": [
    "### When to use sequence models over bag-of-words models?"
   ]
  }
 ],
 "metadata": {
  "colab": {
   "collapsed_sections": [],
   "name": "chapter11_part03_transformer.i",
   "private_outputs": false,
   "provenance": [],
   "toc_visible": true
  },
  "kernelspec": {
   "display_name": "Python 3 (ipykernel)",
   "language": "python",
   "name": "python3"
  },
  "language_info": {
   "codemirror_mode": {
    "name": "ipython",
    "version": 3
   },
   "file_extension": ".py",
   "mimetype": "text/x-python",
   "name": "python",
   "nbconvert_exporter": "python",
   "pygments_lexer": "ipython3",
   "version": "3.8.10"
  }
 },
 "nbformat": 4,
 "nbformat_minor": 1
}
