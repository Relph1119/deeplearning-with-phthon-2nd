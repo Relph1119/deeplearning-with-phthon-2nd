{
 "cells": [
  {
   "cell_type": "markdown",
   "metadata": {
    "colab_type": "text"
   },
   "source": [
    "This is a companion notebook for the book [Deep Learning with Python, Second Edition](https://www.manning.com/books/deep-learning-with-python-second-edition?a_aid=keras&a_bid=76564dff). For readability, it only contains runnable code blocks and section titles, and omits everything else in the book: text paragraphs, figures, and pseudocode.\n",
    "\n",
    "**If you want to be able to follow what's going on, I recommend reading the notebook side by side with your copy of the book.**\n",
    "\n",
    "This notebook was generated for TensorFlow 2.6."
   ]
  },
  {
   "cell_type": "markdown",
   "metadata": {
    "colab_type": "text"
   },
   "source": [
    "# Working with Keras: A deep dive"
   ]
  },
  {
   "cell_type": "markdown",
   "metadata": {
    "colab_type": "text"
   },
   "source": [
    "## A spectrum of workflows"
   ]
  },
  {
   "cell_type": "markdown",
   "metadata": {
    "colab_type": "text"
   },
   "source": [
    "## Different ways to build Keras models"
   ]
  },
  {
   "cell_type": "markdown",
   "metadata": {
    "colab_type": "text"
   },
   "source": [
    "### The Sequential model"
   ]
  },
  {
   "cell_type": "markdown",
   "metadata": {
    "colab_type": "text"
   },
   "source": [
    "**The `Sequential` class**"
   ]
  },
  {
   "cell_type": "code",
   "execution_count": 1,
   "metadata": {
    "colab_type": "code"
   },
   "outputs": [],
   "source": [
    "from tensorflow import keras\n",
    "from tensorflow.keras import layers\n",
    "\n",
    "model = keras.Sequential([\n",
    "    layers.Dense(64, activation=\"relu\"),\n",
    "    layers.Dense(10, activation=\"softmax\")\n",
    "])"
   ]
  },
  {
   "cell_type": "markdown",
   "metadata": {
    "colab_type": "text"
   },
   "source": [
    "**Incrementally building a Sequential model**"
   ]
  },
  {
   "cell_type": "code",
   "execution_count": 2,
   "metadata": {
    "colab_type": "code"
   },
   "outputs": [],
   "source": [
    "model = keras.Sequential()\n",
    "model.add(layers.Dense(64, activation=\"relu\"))\n",
    "model.add(layers.Dense(10, activation=\"softmax\"))"
   ]
  },
  {
   "cell_type": "markdown",
   "metadata": {
    "colab_type": "text"
   },
   "source": [
    "**Calling a model for the first time to build it**"
   ]
  },
  {
   "cell_type": "code",
   "execution_count": 3,
   "metadata": {
    "colab_type": "code",
    "scrolled": true
   },
   "outputs": [
    {
     "data": {
      "text/plain": [
       "[<tf.Variable 'dense_2/kernel:0' shape=(3, 64) dtype=float32, numpy=\n",
       " array([[ 3.85455191e-02,  1.01517320e-01,  1.78936779e-01,\n",
       "          1.71656638e-01,  1.30338848e-01,  2.05118537e-01,\n",
       "          1.60747051e-01,  9.00534987e-02, -1.22430339e-01,\n",
       "          5.28513193e-02,  3.12553942e-02,  1.04850769e-01,\n",
       "         -2.01521456e-01, -6.25553727e-03,  1.62385166e-01,\n",
       "         -7.28872418e-03, -1.13860369e-02,  1.13955408e-01,\n",
       "          1.57792747e-01, -2.36082077e-03,  2.25011289e-01,\n",
       "          1.06059015e-01, -2.09320083e-01, -1.49392605e-01,\n",
       "         -9.71060991e-03,  2.60397196e-01,  2.03372359e-01,\n",
       "          4.64791358e-02,  3.14296782e-02, -1.01652399e-01,\n",
       "         -2.17098027e-01,  2.47323036e-01, -2.65851378e-01,\n",
       "         -2.14303419e-01,  1.12864941e-01, -1.11290500e-01,\n",
       "         -1.22611418e-01, -3.78476679e-02, -2.27905154e-01,\n",
       "         -1.83839634e-01,  2.77278841e-01,  6.05922937e-02,\n",
       "         -7.70886838e-02, -1.70063019e-01, -9.94040966e-02,\n",
       "         -2.90204108e-01,  2.09139049e-01,  2.29298532e-01,\n",
       "          2.57930160e-02, -1.69564664e-01, -1.86090365e-01,\n",
       "         -1.32199362e-01, -1.01037920e-02,  8.12318921e-03,\n",
       "          1.73140883e-01, -2.72061169e-01, -1.81234956e-01,\n",
       "         -9.08892006e-02, -2.63332725e-01,  6.19812310e-02,\n",
       "         -1.34838223e-01,  2.73272991e-01,  2.24913418e-01,\n",
       "         -2.78867990e-01],\n",
       "        [ 8.58387351e-03,  2.71742880e-01, -2.64256030e-01,\n",
       "          6.20056987e-02,  6.63085878e-02,  2.23864555e-01,\n",
       "          2.13839293e-01, -1.76700681e-01, -3.35839391e-02,\n",
       "          7.69554079e-02,  5.51813841e-02,  8.24318230e-02,\n",
       "          1.47050917e-01, -1.35934755e-01,  2.73062944e-01,\n",
       "         -2.99035698e-01,  4.67735827e-02, -6.04723692e-02,\n",
       "         -1.44250736e-01, -1.28872573e-01,  1.19407833e-01,\n",
       "          7.72995055e-02,  2.63490677e-01,  2.94651330e-01,\n",
       "         -1.98720634e-01,  1.49094373e-01, -6.51609898e-03,\n",
       "         -2.72247732e-01,  2.36179411e-01, -2.31652692e-01,\n",
       "         -2.90232986e-01, -1.02712765e-01, -2.08261788e-01,\n",
       "         -1.70565307e-01, -1.18475050e-01,  2.59190321e-01,\n",
       "          2.72593617e-01, -1.88125551e-01,  2.85069585e-01,\n",
       "         -1.36722788e-01, -1.29307434e-01,  1.70374811e-02,\n",
       "         -5.73549122e-02, -1.94834560e-01, -9.10309702e-02,\n",
       "         -2.96207637e-01, -2.35999525e-01,  1.32726699e-01,\n",
       "          4.49151993e-02, -2.50308186e-01, -2.34770641e-01,\n",
       "         -2.74977922e-01,  1.77965820e-01,  2.14733243e-01,\n",
       "          1.93830192e-01,  5.51629663e-02, -3.57352197e-02,\n",
       "          1.84586138e-01, -1.98125839e-04, -1.14053011e-01,\n",
       "          8.80075395e-02, -1.05420113e-01, -1.68452784e-01,\n",
       "          1.77248001e-01],\n",
       "        [-1.30913690e-01, -1.92312568e-01, -8.09627771e-03,\n",
       "         -1.74293786e-01, -2.97691017e-01,  2.83166528e-01,\n",
       "          2.29170501e-01,  1.80593044e-01,  2.93958783e-01,\n",
       "          2.77731061e-01,  1.24881774e-01,  2.05553472e-02,\n",
       "          2.02247500e-01,  1.95193380e-01, -3.65312994e-02,\n",
       "          1.26710534e-01, -1.18092895e-02,  1.74226224e-01,\n",
       "         -2.43616506e-01,  2.76171684e-01, -3.84484828e-02,\n",
       "         -1.61222711e-01,  8.80045593e-02, -1.07395083e-01,\n",
       "         -8.09216052e-02, -8.09597820e-02, -1.25625491e-01,\n",
       "         -1.16794884e-01,  4.81151938e-02, -1.61805838e-01,\n",
       "         -2.21790045e-01, -1.92624003e-01, -1.73258603e-01,\n",
       "          4.09842432e-02,  1.12883329e-01, -2.55373627e-01,\n",
       "         -6.72014356e-02,  1.57511503e-01,  1.03357226e-01,\n",
       "          2.16874063e-01,  5.78888655e-02,  1.53104007e-01,\n",
       "          9.58003998e-02, -1.73419267e-01,  2.89458573e-01,\n",
       "         -1.14976093e-01,  1.87874615e-01,  2.48097181e-01,\n",
       "          1.86193526e-01,  1.65716261e-01, -4.90117669e-02,\n",
       "          5.93257546e-02, -2.42595673e-01, -2.71676809e-01,\n",
       "         -2.16531605e-01, -1.97096556e-01, -2.29481876e-01,\n",
       "          2.02309370e-01,  1.71080440e-01, -2.10880607e-01,\n",
       "         -2.89612353e-01,  1.01604789e-01,  2.59936452e-01,\n",
       "          2.74355114e-01]], dtype=float32)>,\n",
       " <tf.Variable 'dense_2/bias:0' shape=(64,) dtype=float32, numpy=\n",
       " array([0., 0., 0., 0., 0., 0., 0., 0., 0., 0., 0., 0., 0., 0., 0., 0., 0.,\n",
       "        0., 0., 0., 0., 0., 0., 0., 0., 0., 0., 0., 0., 0., 0., 0., 0., 0.,\n",
       "        0., 0., 0., 0., 0., 0., 0., 0., 0., 0., 0., 0., 0., 0., 0., 0., 0.,\n",
       "        0., 0., 0., 0., 0., 0., 0., 0., 0., 0., 0., 0., 0.], dtype=float32)>,\n",
       " <tf.Variable 'dense_3/kernel:0' shape=(64, 10) dtype=float32, numpy=\n",
       " array([[-0.11882155, -0.04212028, -0.21578419, -0.23793475, -0.26421976,\n",
       "          0.19882447,  0.10523531, -0.25017312,  0.10275424, -0.12104838],\n",
       "        [-0.07800324, -0.25509453, -0.05495431, -0.2808302 ,  0.2212191 ,\n",
       "          0.08348116,  0.17504823,  0.07721674, -0.08217476,  0.02846521],\n",
       "        [ 0.03759739, -0.09714383,  0.24290124,  0.06446719,  0.18272018,\n",
       "         -0.1265569 ,  0.20202559, -0.07525034,  0.17807594,  0.04392973],\n",
       "        [-0.11340903,  0.2537422 ,  0.0857974 , -0.1833381 , -0.13705893,\n",
       "          0.22456196, -0.03101486, -0.19300027,  0.08302644, -0.08308345],\n",
       "        [ 0.03283244, -0.09622067,  0.22340176,  0.01972523,  0.15936184,\n",
       "         -0.23383066, -0.22026438, -0.02969164, -0.12488398,  0.08079803],\n",
       "        [-0.213079  ,  0.00880834,  0.06990707, -0.27038103,  0.20026317,\n",
       "          0.23088196,  0.08364782,  0.2412835 , -0.12216285,  0.23909691],\n",
       "        [ 0.27864018, -0.09784213, -0.24094808, -0.19124228, -0.20383096,\n",
       "          0.06721371,  0.26493946,  0.01194555, -0.03095028,  0.04082915],\n",
       "        [ 0.11926913,  0.19509256,  0.00157273, -0.12537631,  0.20577508,\n",
       "         -0.06115428,  0.03593734,  0.07625768,  0.21185306,  0.07902724],\n",
       "        [-0.20574522,  0.05273536, -0.09463274,  0.1490795 ,  0.02889344,\n",
       "          0.05292341, -0.06417072, -0.20698047, -0.12986344, -0.13544637],\n",
       "        [-0.17677064, -0.25973862, -0.1631468 , -0.27574733,  0.17280021,\n",
       "          0.0597536 , -0.10258229, -0.02248675,  0.01081833, -0.24242494],\n",
       "        [ 0.17388365,  0.03152749,  0.01876828, -0.20803356, -0.24202955,\n",
       "          0.10427952, -0.26480612, -0.15966612,  0.05450928,  0.2611619 ],\n",
       "        [-0.2527112 ,  0.0920774 ,  0.22855917,  0.14179087, -0.14018318,\n",
       "          0.22520742, -0.15397729, -0.17468503,  0.24786219, -0.12417509],\n",
       "        [-0.18030855, -0.2673923 , -0.19602934,  0.04059127,  0.2781683 ,\n",
       "          0.18230978, -0.13350622,  0.23871031,  0.11117887,  0.18027121],\n",
       "        [ 0.00240919, -0.28225282,  0.23278621, -0.1615561 , -0.27058268,\n",
       "         -0.06983647,  0.09382188,  0.23550323, -0.22566292, -0.11049902],\n",
       "        [-0.0649156 , -0.23548423,  0.1706213 ,  0.18845373, -0.22957137,\n",
       "          0.25088474,  0.12836328,  0.14820531,  0.10436389, -0.00949645],\n",
       "        [ 0.24589089,  0.02837363,  0.16719517, -0.22592375, -0.15613867,\n",
       "         -0.20006338, -0.26707968,  0.16567308,  0.03577217, -0.02673662],\n",
       "        [ 0.24323627, -0.22224179,  0.23365518,  0.23546758, -0.19180053,\n",
       "         -0.14427677, -0.22408545, -0.21858712, -0.26288208, -0.16929919],\n",
       "        [ 0.0005078 ,  0.18805441,  0.26169255, -0.24487722,  0.25767526,\n",
       "          0.01932096,  0.23556378, -0.04989596, -0.26115885,  0.1484524 ],\n",
       "        [-0.28064588,  0.22697178, -0.18376994,  0.01488888, -0.14676347,\n",
       "         -0.23401885,  0.16661504, -0.2488482 , -0.00528157,  0.08918613],\n",
       "        [-0.00948629,  0.21201524,  0.23358998, -0.26755252,  0.04086447,\n",
       "          0.25503543, -0.12922412,  0.02370042,  0.10294679, -0.14216554],\n",
       "        [-0.23014021,  0.20862561, -0.25731525, -0.2700939 , -0.14313751,\n",
       "         -0.27875632, -0.22336766, -0.17510667,  0.1987164 , -0.1297986 ],\n",
       "        [-0.16396472,  0.01718408,  0.15244713, -0.28044066, -0.09407416,\n",
       "         -0.11569771,  0.00033376, -0.08113137,  0.00442278,  0.00297374],\n",
       "        [ 0.23494479, -0.04284784, -0.19036686, -0.03422377,  0.17780852,\n",
       "          0.2611833 , -0.08587749, -0.04355524,  0.0157792 ,  0.04431275],\n",
       "        [ 0.23495993, -0.28188038, -0.12768888, -0.08845899,  0.2651671 ,\n",
       "         -0.24906749, -0.06077233,  0.00071487,  0.2532154 , -0.16776149],\n",
       "        [-0.20357284,  0.06817114, -0.0310427 , -0.05790448,  0.07613766,\n",
       "          0.02928844, -0.04533632,  0.17487267,  0.11121267, -0.26616934],\n",
       "        [-0.00053769,  0.14077729,  0.26572618,  0.14764494,  0.08874276,\n",
       "          0.06419915,  0.27037194,  0.25133988, -0.22917245, -0.18561557],\n",
       "        [-0.0773319 ,  0.16558409,  0.16874567, -0.23266338, -0.23804942,\n",
       "         -0.20523477, -0.1047802 ,  0.16978547,  0.2728229 ,  0.21309957],\n",
       "        [-0.13639036, -0.19892536, -0.03947492,  0.1091103 ,  0.20321092,\n",
       "         -0.11650538, -0.19418997,  0.01421386,  0.15406135, -0.26623973],\n",
       "        [-0.05181837,  0.18671551, -0.23876415, -0.26149744,  0.2684001 ,\n",
       "         -0.22898948, -0.19062008, -0.0721174 , -0.16314028, -0.23681852],\n",
       "        [ 0.23969218, -0.18394679,  0.01529118, -0.08443201,  0.20153406,\n",
       "          0.09140036,  0.22893056,  0.27386567,  0.04574779, -0.11934865],\n",
       "        [-0.2716939 , -0.05499551, -0.20064878, -0.13157018, -0.24243675,\n",
       "          0.25264046,  0.21446061, -0.13596456, -0.03033555, -0.04480475],\n",
       "        [-0.02370355, -0.15450338, -0.15787657,  0.23960903, -0.15854298,\n",
       "         -0.15325889,  0.09997317, -0.1083889 , -0.02092198,  0.15054977],\n",
       "        [-0.18190469,  0.15910694, -0.16735823, -0.12358153,  0.01152301,\n",
       "          0.06377336, -0.12179706,  0.2810525 , -0.19347915, -0.22684066],\n",
       "        [-0.18319947,  0.07464844,  0.00770494, -0.28004077, -0.171182  ,\n",
       "          0.07200843, -0.26928532, -0.20441073,  0.07427526,  0.25379613],\n",
       "        [ 0.07292169, -0.21559219,  0.07088175, -0.14864448,  0.15950692,\n",
       "          0.1416825 , -0.16239262, -0.05424207, -0.18681069,  0.19249097],\n",
       "        [ 0.04566157, -0.26177123,  0.1472888 ,  0.08749753, -0.2444699 ,\n",
       "          0.265547  ,  0.21045163,  0.23149678,  0.21153724, -0.07260627],\n",
       "        [ 0.10392621,  0.2729797 ,  0.27258542,  0.15772423,  0.04034105,\n",
       "          0.11307237,  0.22288916,  0.03981122,  0.09826237,  0.02876142],\n",
       "        [ 0.00331768, -0.19074446, -0.13586612, -0.03072876,  0.27996203,\n",
       "         -0.04600856,  0.03667551,  0.13856423, -0.26339066, -0.03445071],\n",
       "        [ 0.14445823,  0.25971445, -0.28176144,  0.05961591, -0.12597618,\n",
       "         -0.28163704,  0.2728015 ,  0.1719988 ,  0.23563954,  0.02121854],\n",
       "        [ 0.11026937,  0.08452317,  0.27657875,  0.22806391,  0.1196056 ,\n",
       "          0.12478188,  0.02443883,  0.04455552,  0.21533957,  0.23820612],\n",
       "        [ 0.25288448, -0.00488767, -0.08630113,  0.09243146,  0.01077718,\n",
       "          0.1928702 , -0.14261524, -0.02284923, -0.25927094,  0.27248082],\n",
       "        [-0.25681472,  0.03094804, -0.08168787,  0.26876113,  0.11553416,\n",
       "          0.09202507,  0.23588446, -0.11114575, -0.19357523, -0.01297116],\n",
       "        [-0.0414657 , -0.04137303,  0.10418922,  0.20858762,  0.19938007,\n",
       "          0.05703056,  0.16243553, -0.21036786,  0.11346883, -0.1219082 ],\n",
       "        [-0.15361395,  0.16970983, -0.05680312, -0.23861392,  0.02306879,\n",
       "         -0.06550263,  0.14612845, -0.16211346, -0.00986272,  0.04238275],\n",
       "        [ 0.14064023,  0.18514794, -0.07602109,  0.07743666,  0.04941714,\n",
       "         -0.17086157,  0.05182368,  0.28169814, -0.25297415, -0.24286208],\n",
       "        [ 0.03441277,  0.1982849 , -0.12542872,  0.18577397,  0.2815176 ,\n",
       "          0.08399561,  0.17494029, -0.27488744, -0.26049986,  0.24703231],\n",
       "        [ 0.09306139, -0.2782223 , -0.05737461, -0.12379883,  0.16549903,\n",
       "         -0.23788519, -0.09431326,  0.10529962, -0.14888969, -0.2557299 ],\n",
       "        [ 0.27611378,  0.05533096, -0.14958549,  0.27228418, -0.11588664,\n",
       "         -0.02684638,  0.02095607, -0.01873583,  0.04459232,  0.11169294],\n",
       "        [ 0.23261318,  0.23064962,  0.01822692, -0.20455235, -0.00799578,\n",
       "          0.24424884, -0.14082786, -0.10208696,  0.25628254, -0.22369441],\n",
       "        [ 0.19592202,  0.01963013, -0.16453975, -0.03118098, -0.03392544,\n",
       "          0.21497312, -0.14055488,  0.10953909, -0.09682372, -0.00738573],\n",
       "        [-0.23576462,  0.01488143, -0.09507762, -0.24732715,  0.10987166,\n",
       "         -0.02025327, -0.24422522, -0.02978802, -0.02612576,  0.17902178],\n",
       "        [ 0.12653449, -0.12862691,  0.17895553, -0.01988375,  0.00487062,\n",
       "         -0.06460351,  0.2097671 ,  0.18641952, -0.27330253,  0.26594022],\n",
       "        [ 0.02464372, -0.26146206, -0.01835537,  0.0369381 , -0.14490215,\n",
       "         -0.25102574,  0.28183165,  0.06517813, -0.27900976, -0.05505973],\n",
       "        [-0.03066367,  0.00265989, -0.23454913, -0.2641178 ,  0.13009521,\n",
       "         -0.05815887,  0.10135424, -0.27017263, -0.00530425, -0.2102656 ],\n",
       "        [ 0.1357154 , -0.01387626,  0.05660653, -0.2596103 ,  0.10476688,\n",
       "          0.06018066, -0.04793538,  0.19075945, -0.15488952, -0.01291439],\n",
       "        [-0.10301155, -0.19875407,  0.15297621, -0.13728073, -0.0782226 ,\n",
       "         -0.13793959,  0.28003594, -0.10668617, -0.22178286,  0.17940345],\n",
       "        [ 0.08883455, -0.02097875,  0.14995474,  0.11954403,  0.24833539,\n",
       "         -0.23572531, -0.12067255, -0.03158045,  0.21236658, -0.27582473],\n",
       "        [ 0.00178474,  0.16372705, -0.15348224, -0.11168973,  0.24520817,\n",
       "         -0.1559139 , -0.04492675, -0.17702828,  0.05794337,  0.02480918],\n",
       "        [ 0.20619166, -0.03626701,  0.06037199, -0.12875922,  0.2717158 ,\n",
       "         -0.17662427,  0.1793291 ,  0.26502278, -0.15919898, -0.11230454],\n",
       "        [ 0.05526966, -0.2194952 , -0.11254948, -0.0884306 , -0.08591837,\n",
       "         -0.08050598, -0.09550445, -0.20397747,  0.1878697 ,  0.08786604],\n",
       "        [-0.06171496,  0.1484006 ,  0.25593653,  0.17790419, -0.00359493,\n",
       "         -0.00882286,  0.1601884 , -0.18019035, -0.04291451,  0.07720914],\n",
       "        [ 0.00697622, -0.20309266, -0.17601259, -0.18217489,  0.21237725,\n",
       "         -0.06018481,  0.14914462,  0.10519153,  0.08152968,  0.28362384],\n",
       "        [ 0.08694926,  0.15150565,  0.06509212,  0.21134377,  0.24388596,\n",
       "         -0.07485259, -0.0512853 ,  0.04416516,  0.19606832, -0.24672382],\n",
       "        [ 0.0739297 , -0.13594678,  0.1500578 , -0.07641111,  0.1010232 ,\n",
       "         -0.06321138, -0.23786639, -0.14281206,  0.26944026, -0.06845628]],\n",
       "       dtype=float32)>,\n",
       " <tf.Variable 'dense_3/bias:0' shape=(10,) dtype=float32, numpy=array([0., 0., 0., 0., 0., 0., 0., 0., 0., 0.], dtype=float32)>]"
      ]
     },
     "execution_count": 3,
     "metadata": {},
     "output_type": "execute_result"
    }
   ],
   "source": [
    "model.build(input_shape=(None, 3))\n",
    "model.weights"
   ]
  },
  {
   "cell_type": "markdown",
   "metadata": {
    "colab_type": "text"
   },
   "source": [
    "**The summary method**"
   ]
  },
  {
   "cell_type": "code",
   "execution_count": 4,
   "metadata": {
    "colab_type": "code"
   },
   "outputs": [
    {
     "name": "stdout",
     "output_type": "stream",
     "text": [
      "Model: \"sequential_1\"\n",
      "_________________________________________________________________\n",
      " Layer (type)                Output Shape              Param #   \n",
      "=================================================================\n",
      " dense_2 (Dense)             (None, 64)                256       \n",
      "                                                                 \n",
      " dense_3 (Dense)             (None, 10)                650       \n",
      "                                                                 \n",
      "=================================================================\n",
      "Total params: 906\n",
      "Trainable params: 906\n",
      "Non-trainable params: 0\n",
      "_________________________________________________________________\n"
     ]
    }
   ],
   "source": [
    "model.summary()"
   ]
  },
  {
   "cell_type": "markdown",
   "metadata": {
    "colab_type": "text"
   },
   "source": [
    "**Naming models and layers with the `name` argument**"
   ]
  },
  {
   "cell_type": "code",
   "execution_count": 5,
   "metadata": {
    "colab_type": "code"
   },
   "outputs": [
    {
     "name": "stdout",
     "output_type": "stream",
     "text": [
      "Model: \"my_example_model\"\n",
      "_________________________________________________________________\n",
      " Layer (type)                Output Shape              Param #   \n",
      "=================================================================\n",
      " my_first_layer (Dense)      (None, 64)                256       \n",
      "                                                                 \n",
      " my_last_layer (Dense)       (None, 10)                650       \n",
      "                                                                 \n",
      "=================================================================\n",
      "Total params: 906\n",
      "Trainable params: 906\n",
      "Non-trainable params: 0\n",
      "_________________________________________________________________\n"
     ]
    }
   ],
   "source": [
    "model = keras.Sequential(name=\"my_example_model\")\n",
    "model.add(layers.Dense(64, activation=\"relu\", name=\"my_first_layer\"))\n",
    "model.add(layers.Dense(10, activation=\"softmax\", name=\"my_last_layer\"))\n",
    "model.build((None, 3))\n",
    "model.summary()"
   ]
  },
  {
   "cell_type": "markdown",
   "metadata": {
    "colab_type": "text"
   },
   "source": [
    "**Specifying the input shape of your model in advance**"
   ]
  },
  {
   "cell_type": "code",
   "execution_count": 6,
   "metadata": {
    "colab_type": "code"
   },
   "outputs": [],
   "source": [
    "model = keras.Sequential()\n",
    "model.add(keras.Input(shape=(3,)))\n",
    "model.add(layers.Dense(64, activation=\"relu\"))"
   ]
  },
  {
   "cell_type": "code",
   "execution_count": 7,
   "metadata": {
    "colab_type": "code"
   },
   "outputs": [
    {
     "name": "stdout",
     "output_type": "stream",
     "text": [
      "Model: \"sequential_2\"\n",
      "_________________________________________________________________\n",
      " Layer (type)                Output Shape              Param #   \n",
      "=================================================================\n",
      " dense_4 (Dense)             (None, 64)                256       \n",
      "                                                                 \n",
      "=================================================================\n",
      "Total params: 256\n",
      "Trainable params: 256\n",
      "Non-trainable params: 0\n",
      "_________________________________________________________________\n"
     ]
    }
   ],
   "source": [
    "model.summary()"
   ]
  },
  {
   "cell_type": "code",
   "execution_count": 8,
   "metadata": {
    "colab_type": "code"
   },
   "outputs": [
    {
     "name": "stdout",
     "output_type": "stream",
     "text": [
      "Model: \"sequential_2\"\n",
      "_________________________________________________________________\n",
      " Layer (type)                Output Shape              Param #   \n",
      "=================================================================\n",
      " dense_4 (Dense)             (None, 64)                256       \n",
      "                                                                 \n",
      " dense_5 (Dense)             (None, 10)                650       \n",
      "                                                                 \n",
      "=================================================================\n",
      "Total params: 906\n",
      "Trainable params: 906\n",
      "Non-trainable params: 0\n",
      "_________________________________________________________________\n"
     ]
    }
   ],
   "source": [
    "model.add(layers.Dense(10, activation=\"softmax\"))\n",
    "model.summary()"
   ]
  },
  {
   "cell_type": "markdown",
   "metadata": {
    "colab_type": "text"
   },
   "source": [
    "### The Functional API"
   ]
  },
  {
   "cell_type": "markdown",
   "metadata": {
    "colab_type": "text"
   },
   "source": [
    "#### A simple example"
   ]
  },
  {
   "cell_type": "markdown",
   "metadata": {
    "colab_type": "text"
   },
   "source": [
    "**A simple Functional model with two `Dense` layers**"
   ]
  },
  {
   "cell_type": "code",
   "execution_count": 9,
   "metadata": {
    "colab_type": "code"
   },
   "outputs": [],
   "source": [
    "inputs = keras.Input(shape=(3,), name=\"my_input\")\n",
    "features = layers.Dense(64, activation=\"relu\")(inputs)\n",
    "outputs = layers.Dense(10, activation=\"softmax\")(features)\n",
    "model = keras.Model(inputs=inputs, outputs=outputs)"
   ]
  },
  {
   "cell_type": "code",
   "execution_count": 10,
   "metadata": {
    "colab_type": "code"
   },
   "outputs": [],
   "source": [
    "inputs = keras.Input(shape=(3,), name=\"my_input\")"
   ]
  },
  {
   "cell_type": "code",
   "execution_count": 11,
   "metadata": {
    "colab_type": "code"
   },
   "outputs": [
    {
     "data": {
      "text/plain": [
       "TensorShape([None, 3])"
      ]
     },
     "execution_count": 11,
     "metadata": {},
     "output_type": "execute_result"
    }
   ],
   "source": [
    "inputs.shape"
   ]
  },
  {
   "cell_type": "code",
   "execution_count": 12,
   "metadata": {
    "colab_type": "code"
   },
   "outputs": [
    {
     "data": {
      "text/plain": [
       "tf.float32"
      ]
     },
     "execution_count": 12,
     "metadata": {},
     "output_type": "execute_result"
    }
   ],
   "source": [
    "inputs.dtype"
   ]
  },
  {
   "cell_type": "code",
   "execution_count": 13,
   "metadata": {
    "colab_type": "code"
   },
   "outputs": [],
   "source": [
    "features = layers.Dense(64, activation=\"relu\")(inputs)"
   ]
  },
  {
   "cell_type": "code",
   "execution_count": 14,
   "metadata": {
    "colab_type": "code"
   },
   "outputs": [
    {
     "data": {
      "text/plain": [
       "TensorShape([None, 64])"
      ]
     },
     "execution_count": 14,
     "metadata": {},
     "output_type": "execute_result"
    }
   ],
   "source": [
    "features.shape"
   ]
  },
  {
   "cell_type": "code",
   "execution_count": 15,
   "metadata": {
    "colab_type": "code"
   },
   "outputs": [],
   "source": [
    "outputs = layers.Dense(10, activation=\"softmax\")(features)\n",
    "model = keras.Model(inputs=inputs, outputs=outputs)"
   ]
  },
  {
   "cell_type": "code",
   "execution_count": 16,
   "metadata": {
    "colab_type": "code"
   },
   "outputs": [
    {
     "name": "stdout",
     "output_type": "stream",
     "text": [
      "Model: \"model_1\"\n",
      "_________________________________________________________________\n",
      " Layer (type)                Output Shape              Param #   \n",
      "=================================================================\n",
      " my_input (InputLayer)       [(None, 3)]               0         \n",
      "                                                                 \n",
      " dense_8 (Dense)             (None, 64)                256       \n",
      "                                                                 \n",
      " dense_9 (Dense)             (None, 10)                650       \n",
      "                                                                 \n",
      "=================================================================\n",
      "Total params: 906\n",
      "Trainable params: 906\n",
      "Non-trainable params: 0\n",
      "_________________________________________________________________\n"
     ]
    }
   ],
   "source": [
    "model.summary()"
   ]
  },
  {
   "cell_type": "markdown",
   "metadata": {
    "colab_type": "text"
   },
   "source": [
    "#### Multi-input, multi-output models"
   ]
  },
  {
   "cell_type": "markdown",
   "metadata": {
    "colab_type": "text"
   },
   "source": [
    "**A multi-input, multi-output Functional model**"
   ]
  },
  {
   "cell_type": "code",
   "execution_count": 17,
   "metadata": {
    "colab_type": "code"
   },
   "outputs": [],
   "source": [
    "vocabulary_size = 10000\n",
    "num_tags = 100\n",
    "num_departments = 4\n",
    "\n",
    "# 定义模型输入\n",
    "title = keras.Input(shape=(vocabulary_size,), name=\"title\")\n",
    "text_body = keras.Input(shape=(vocabulary_size,), name=\"text_body\")\n",
    "tags = keras.Input(shape=(num_tags,), name=\"tags\")\n",
    "\n",
    "# 拼接成输入特征\n",
    "features = layers.Concatenate()([title, text_body, tags])\n",
    "features = layers.Dense(64, activation=\"relu\")(features)\n",
    "\n",
    "# 定义模型输出\n",
    "priority = layers.Dense(1, activation=\"sigmoid\", name=\"priority\")(features)\n",
    "department = layers.Dense(\n",
    "    num_departments, activation=\"softmax\", name=\"department\")(features)\n",
    "\n",
    "# 通过指定输入和输出创建模型\n",
    "model = keras.Model(inputs=[title, text_body, tags], outputs=[priority, department])"
   ]
  },
  {
   "cell_type": "markdown",
   "metadata": {
    "colab_type": "text"
   },
   "source": [
    "#### Training a multi-input, multi-output model"
   ]
  },
  {
   "cell_type": "markdown",
   "metadata": {
    "colab_type": "text"
   },
   "source": [
    "**Training a model by providing lists of input & target arrays**"
   ]
  },
  {
   "cell_type": "code",
   "execution_count": 18,
   "metadata": {
    "colab_type": "code"
   },
   "outputs": [
    {
     "name": "stdout",
     "output_type": "stream",
     "text": [
      "40/40 [==============================] - 2s 13ms/step - loss: 32.5494 - priority_loss: 0.3356 - department_loss: 32.2138 - priority_mean_absolute_error: 0.5034 - department_accuracy: 0.2617\n",
      "40/40 [==============================] - 0s 4ms/step - loss: 19.4210 - priority_loss: 0.3427 - department_loss: 19.0783 - priority_mean_absolute_error: 0.5110 - department_accuracy: 0.2812\n",
      "40/40 [==============================] - 0s 3ms/step\n"
     ]
    }
   ],
   "source": [
    "import numpy as np\n",
    "\n",
    "num_samples = 1280\n",
    "\n",
    "# 虚构输入数据\n",
    "title_data = np.random.randint(0, 2, size=(num_samples, vocabulary_size))\n",
    "text_body_data = np.random.randint(0, 2, size=(num_samples, vocabulary_size))\n",
    "tags_data = np.random.randint(0, 2, size=(num_samples, num_tags))\n",
    "\n",
    "# 虚构目标数据\n",
    "priority_data = np.random.random(size=(num_samples, 1))\n",
    "department_data = np.random.randint(0, 2, size=(num_samples, num_departments))\n",
    "\n",
    "model.compile(optimizer=\"rmsprop\",\n",
    "              loss=[\"mean_squared_error\", \"categorical_crossentropy\"],\n",
    "              metrics=[[\"mean_absolute_error\"], [\"accuracy\"]])\n",
    "model.fit([title_data, text_body_data, tags_data],\n",
    "          [priority_data, department_data],\n",
    "          epochs=1)\n",
    "model.evaluate([title_data, text_body_data, tags_data],\n",
    "               [priority_data, department_data])\n",
    "priority_preds, department_preds = model.predict([title_data, text_body_data, tags_data])"
   ]
  },
  {
   "cell_type": "markdown",
   "metadata": {
    "colab_type": "text"
   },
   "source": [
    "**Training a model by providing dicts of input & target arrays**"
   ]
  },
  {
   "cell_type": "code",
   "execution_count": 19,
   "metadata": {
    "colab_type": "code"
   },
   "outputs": [
    {
     "name": "stdout",
     "output_type": "stream",
     "text": [
      "40/40 [==============================] - 1s 8ms/step - loss: 35.9045 - priority_loss: 0.3427 - department_loss: 35.5618 - priority_mean_absolute_error: 0.5110 - department_accuracy: 0.2594\n",
      "40/40 [==============================] - 0s 4ms/step - loss: 41.1004 - priority_loss: 0.3427 - department_loss: 40.7577 - priority_mean_absolute_error: 0.5110 - department_accuracy: 0.1422\n",
      "40/40 [==============================] - 0s 2ms/step\n"
     ]
    }
   ],
   "source": [
    "model.compile(optimizer=\"rmsprop\",\n",
    "              loss={\"priority\": \"mean_squared_error\", \"department\": \"categorical_crossentropy\"},\n",
    "              metrics={\"priority\": [\"mean_absolute_error\"], \"department\": [\"accuracy\"]})\n",
    "model.fit({\"title\": title_data, \"text_body\": text_body_data, \"tags\": tags_data},\n",
    "          {\"priority\": priority_data, \"department\": department_data},\n",
    "          epochs=1)\n",
    "model.evaluate({\"title\": title_data, \"text_body\": text_body_data, \"tags\": tags_data},\n",
    "               {\"priority\": priority_data, \"department\": department_data})\n",
    "priority_preds, department_preds = model.predict(\n",
    "    {\"title\": title_data, \"text_body\": text_body_data, \"tags\": tags_data})"
   ]
  },
  {
   "cell_type": "markdown",
   "metadata": {
    "colab_type": "text"
   },
   "source": [
    "#### The power of the Functional API: Access to layer connectivity"
   ]
  },
  {
   "cell_type": "code",
   "execution_count": 20,
   "metadata": {
    "colab_type": "code",
    "scrolled": false
   },
   "outputs": [
    {
     "data": {
      "image/png": "[encoded data removed]",
      "text/plain": [
       "<IPython.core.display.Image object>"
      ]
     },
     "execution_count": 20,
     "metadata": {},
     "output_type": "execute_result"
    }
   ],
   "source": [
    "keras.utils.plot_model(model, \"ticket_classifier.png\")"
   ]
  },
  {
   "cell_type": "code",
   "execution_count": 21,
   "metadata": {
    "colab_type": "code",
    "scrolled": false
   },
   "outputs": [
    {
     "data": {
      "image/png": "[encoded data removed]",
      "text/plain": [
       "<IPython.core.display.Image object>"
      ]
     },
     "execution_count": 21,
     "metadata": {},
     "output_type": "execute_result"
    }
   ],
   "source": [
    "keras.utils.plot_model(model, \"ticket_classifier_with_shape_info.png\", show_shapes=True)"
   ]
  },
  {
   "cell_type": "markdown",
   "metadata": {
    "colab_type": "text"
   },
   "source": [
    "**Retrieving the inputs or outputs of a layer in a Functional model**"
   ]
  },
  {
   "cell_type": "code",
   "execution_count": 22,
   "metadata": {
    "colab_type": "code"
   },
   "outputs": [
    {
     "data": {
      "text/plain": [
       "[<keras.engine.input_layer.InputLayer at 0x174e9b3b2b0>,\n",
       " <keras.engine.input_layer.InputLayer at 0x174e9b3bbb0>,\n",
       " <keras.engine.input_layer.InputLayer at 0x174e9b3b130>,\n",
       " <keras.layers.merging.concatenate.Concatenate at 0x174c2e966d0>,\n",
       " <keras.layers.core.dense.Dense at 0x174e9ab4580>,\n",
       " <keras.layers.core.dense.Dense at 0x174e9a57670>,\n",
       " <keras.layers.core.dense.Dense at 0x174e9ab4550>]"
      ]
     },
     "execution_count": 22,
     "metadata": {},
     "output_type": "execute_result"
    }
   ],
   "source": [
    "model.layers"
   ]
  },
  {
   "cell_type": "code",
   "execution_count": 23,
   "metadata": {
    "colab_type": "code"
   },
   "outputs": [
    {
     "data": {
      "text/plain": [
       "[<KerasTensor: shape=(None, 10000) dtype=float32 (created by layer 'title')>,\n",
       " <KerasTensor: shape=(None, 10000) dtype=float32 (created by layer 'text_body')>,\n",
       " <KerasTensor: shape=(None, 100) dtype=float32 (created by layer 'tags')>]"
      ]
     },
     "execution_count": 23,
     "metadata": {},
     "output_type": "execute_result"
    }
   ],
   "source": [
    "model.layers[3].input"
   ]
  },
  {
   "cell_type": "code",
   "execution_count": 24,
   "metadata": {
    "colab_type": "code"
   },
   "outputs": [
    {
     "data": {
      "text/plain": [
       "<KerasTensor: shape=(None, 20100) dtype=float32 (created by layer 'concatenate')>"
      ]
     },
     "execution_count": 24,
     "metadata": {},
     "output_type": "execute_result"
    }
   ],
   "source": [
    "model.layers[3].output"
   ]
  },
  {
   "cell_type": "markdown",
   "metadata": {
    "colab_type": "text"
   },
   "source": [
    "**Creating a new model by reusing intermediate layer outputs**"
   ]
  },
  {
   "cell_type": "code",
   "execution_count": 25,
   "metadata": {
    "colab_type": "code"
   },
   "outputs": [],
   "source": [
    "features = model.layers[4].output\n",
    "difficulty = layers.Dense(3, activation=\"softmax\", name=\"difficulty\")(features)\n",
    "\n",
    "new_model = keras.Model(\n",
    "    inputs=[title, text_body, tags],\n",
    "    outputs=[priority, department, difficulty])"
   ]
  },
  {
   "cell_type": "code",
   "execution_count": 26,
   "metadata": {
    "colab_type": "code"
   },
   "outputs": [
    {
     "data": {
      "image/png": "[encoded data removed]",
      "text/plain": [
       "<IPython.core.display.Image object>"
      ]
     },
     "execution_count": 26,
     "metadata": {},
     "output_type": "execute_result"
    }
   ],
   "source": [
    "keras.utils.plot_model(new_model, \"updated_ticket_classifier.png\", show_shapes=True)"
   ]
  },
  {
   "cell_type": "markdown",
   "metadata": {
    "colab_type": "text"
   },
   "source": [
    "### Subclassing the Model class"
   ]
  },
  {
   "cell_type": "markdown",
   "metadata": {
    "colab_type": "text"
   },
   "source": [
    "#### Rewriting our previous example as a subclassed model"
   ]
  },
  {
   "cell_type": "markdown",
   "metadata": {
    "colab_type": "text"
   },
   "source": [
    "**A simple subclassed model**"
   ]
  },
  {
   "cell_type": "code",
   "execution_count": 27,
   "metadata": {
    "colab_type": "code"
   },
   "outputs": [],
   "source": [
    "class CustomerTicketModel(keras.Model):\n",
    "\n",
    "    def __init__(self, num_departments):\n",
    "        super().__init__()\n",
    "        # 定义子层\n",
    "        self.concat_layer = layers.Concatenate()\n",
    "        self.mixing_layer = layers.Dense(64, activation=\"relu\")\n",
    "        self.priority_scorer = layers.Dense(1, activation=\"sigmoid\")\n",
    "        self.department_classifier = layers.Dense(\n",
    "            num_departments, activation=\"softmax\")\n",
    "\n",
    "    def call(self, inputs):\n",
    "        # 定义前向传播\n",
    "        title = inputs[\"title\"]\n",
    "        text_body = inputs[\"text_body\"]\n",
    "        tags = inputs[\"tags\"]\n",
    "\n",
    "        features = self.concat_layer([title, text_body, tags])\n",
    "        features = self.mixing_layer(features)\n",
    "        priority = self.priority_scorer(features)\n",
    "        department = self.department_classifier(features)\n",
    "        return priority, department"
   ]
  },
  {
   "cell_type": "code",
   "execution_count": 28,
   "metadata": {
    "colab_type": "code"
   },
   "outputs": [],
   "source": [
    "model = CustomerTicketModel(num_departments=4)\n",
    "\n",
    "priority, department = model(\n",
    "    {\"title\": title_data, \"text_body\": text_body_data, \"tags\": tags_data})"
   ]
  },
  {
   "cell_type": "code",
   "execution_count": 29,
   "metadata": {
    "colab_type": "code"
   },
   "outputs": [
    {
     "name": "stdout",
     "output_type": "stream",
     "text": [
      "40/40 [==============================] - 1s 14ms/step - loss: 31.6048 - output_1_loss: 0.3163 - output_2_loss: 31.2885 - output_1_mean_absolute_error: 0.4837 - output_2_accuracy: 0.3031\n",
      "40/40 [==============================] - 0s 5ms/step - loss: 32.4074 - output_1_loss: 0.3208 - output_2_loss: 32.0866 - output_1_mean_absolute_error: 0.4890 - output_2_accuracy: 0.1422\n",
      "40/40 [==============================] - 0s 3ms/step\n"
     ]
    }
   ],
   "source": [
    "# 参数loss和metrics的结构必须与call()返回的内容完全匹配\n",
    "model.compile(optimizer=\"rmsprop\",\n",
    "              loss=[\"mean_squared_error\", \"categorical_crossentropy\"],\n",
    "              metrics=[[\"mean_absolute_error\"], [\"accuracy\"]])\n",
    "# 输入数据的结构必须与call()方法的输入完全匹配，目标数据的结构必须与call()方法返回的内容完全匹配\n",
    "model.fit({\"title\": title_data,\n",
    "           \"text_body\": text_body_data,\n",
    "           \"tags\": tags_data},\n",
    "          [priority_data, department_data],\n",
    "          epochs=1)\n",
    "model.evaluate({\"title\": title_data,\n",
    "                \"text_body\": text_body_data,\n",
    "                \"tags\": tags_data},\n",
    "               [priority_data, department_data])\n",
    "priority_preds, department_preds = model.predict({\"title\": title_data,\n",
    "                                                  \"text_body\": text_body_data,\n",
    "                                                  \"tags\": tags_data})"
   ]
  },
  {
   "cell_type": "markdown",
   "metadata": {
    "colab_type": "text"
   },
   "source": [
    "#### Beware: What subclassed models don't support"
   ]
  },
  {
   "cell_type": "markdown",
   "metadata": {
    "colab_type": "text"
   },
   "source": [
    "### Mixing and matching different components"
   ]
  },
  {
   "cell_type": "markdown",
   "metadata": {
    "colab_type": "text"
   },
   "source": [
    "**Creating a Functional model that includes a subclassed model**"
   ]
  },
  {
   "cell_type": "code",
   "execution_count": 30,
   "metadata": {
    "colab_type": "code"
   },
   "outputs": [],
   "source": [
    "class Classifier(keras.Model):\n",
    "\n",
    "    def __init__(self, num_classes=2):\n",
    "        super().__init__()\n",
    "        if num_classes == 2:\n",
    "            num_units = 1\n",
    "            activation = \"sigmoid\"\n",
    "        else:\n",
    "            num_units = num_classes\n",
    "            activation = \"softmax\"\n",
    "        self.dense = layers.Dense(num_units, activation=activation)\n",
    "\n",
    "    def call(self, inputs):\n",
    "        return self.dense(inputs)\n",
    "\n",
    "inputs = keras.Input(shape=(3,))\n",
    "features = layers.Dense(64, activation=\"relu\")(inputs)\n",
    "outputs = Classifier(num_classes=10)(features)\n",
    "model = keras.Model(inputs=inputs, outputs=outputs)"
   ]
  },
  {
   "cell_type": "markdown",
   "metadata": {
    "colab_type": "text"
   },
   "source": [
    "**Creating a subclassed model that includes a Functional model**"
   ]
  },
  {
   "cell_type": "code",
   "execution_count": 31,
   "metadata": {
    "colab_type": "code"
   },
   "outputs": [],
   "source": [
    "inputs = keras.Input(shape=(64,))\n",
    "outputs = layers.Dense(1, activation=\"sigmoid\")(inputs)\n",
    "binary_classifier = keras.Model(inputs=inputs, outputs=outputs)\n",
    "\n",
    "class MyModel(keras.Model):\n",
    "\n",
    "    def __init__(self, num_classes=2):\n",
    "        super().__init__()\n",
    "        self.dense = layers.Dense(64, activation=\"relu\")\n",
    "        self.classifier = binary_classifier\n",
    "\n",
    "    def call(self, inputs):\n",
    "        features = self.dense(inputs)\n",
    "        return self.classifier(features)\n",
    "\n",
    "model = MyModel()"
   ]
  },
  {
   "cell_type": "markdown",
   "metadata": {
    "colab_type": "text"
   },
   "source": [
    "### Remember: Use the right tool for the job"
   ]
  },
  {
   "cell_type": "markdown",
   "metadata": {
    "colab_type": "text"
   },
   "source": [
    "## Using built-in training and evaluation loops"
   ]
  },
  {
   "cell_type": "markdown",
   "metadata": {
    "colab_type": "text"
   },
   "source": [
    "**The standard workflow: `compile()`, `fit()`, `evaluate()`, `predict()`**"
   ]
  },
  {
   "cell_type": "code",
   "execution_count": 32,
   "metadata": {
    "colab_type": "code"
   },
   "outputs": [
    {
     "name": "stdout",
     "output_type": "stream",
     "text": [
      "Epoch 1/3\n",
      "1563/1563 [==============================] - 7s 4ms/step - loss: 0.2956 - accuracy: 0.9120 - val_loss: 0.1500 - val_accuracy: 0.9568\n",
      "Epoch 2/3\n",
      "1563/1563 [==============================] - 7s 4ms/step - loss: 0.1667 - accuracy: 0.9532 - val_loss: 0.1309 - val_accuracy: 0.9652\n",
      "Epoch 3/3\n",
      "1563/1563 [==============================] - 8s 5ms/step - loss: 0.1380 - accuracy: 0.9627 - val_loss: 0.1080 - val_accuracy: 0.9710\n",
      "313/313 [==============================] - 1s 2ms/step - loss: 0.1043 - accuracy: 0.9731\n",
      "313/313 [==============================] - 0s 778us/step\n"
     ]
    }
   ],
   "source": [
    "from tensorflow.keras.datasets import mnist\n",
    "\n",
    "def get_mnist_model():\n",
    "    inputs = keras.Input(shape=(28 * 28,))\n",
    "    features = layers.Dense(512, activation=\"relu\")(inputs)\n",
    "    features = layers.Dropout(0.5)(features)\n",
    "    outputs = layers.Dense(10, activation=\"softmax\")(features)\n",
    "    model = keras.Model(inputs, outputs)\n",
    "    return model\n",
    "\n",
    "# 加载数据\n",
    "(images, labels), (test_images, test_labels) = mnist.load_data()\n",
    "images = images.reshape((60000, 28 * 28)).astype(\"float32\") / 255\n",
    "test_images = test_images.reshape((10000, 28 * 28)).astype(\"float32\") / 255\n",
    "train_images, val_images = images[10000:], images[:10000]\n",
    "train_labels, val_labels = labels[10000:], labels[:10000]\n",
    "\n",
    "model = get_mnist_model()\n",
    "# 编译模型\n",
    "model.compile(optimizer=\"rmsprop\",\n",
    "              loss=\"sparse_categorical_crossentropy\",\n",
    "              metrics=[\"accuracy\"])\n",
    "# 训练模型\n",
    "model.fit(train_images, train_labels,\n",
    "          epochs=3,\n",
    "          validation_data=(val_images, val_labels))\n",
    "# 计算模型在新数据上的损失和指标\n",
    "test_metrics = model.evaluate(test_images, test_labels)\n",
    "# 计算模型在新数据上的分类概率\n",
    "predictions = model.predict(test_images)"
   ]
  },
  {
   "cell_type": "markdown",
   "metadata": {
    "colab_type": "text"
   },
   "source": [
    "### Writing your own metrics"
   ]
  },
  {
   "cell_type": "markdown",
   "metadata": {
    "colab_type": "text"
   },
   "source": [
    "**Implementing a custom metric by subclassing the `Metric` class**"
   ]
  },
  {
   "cell_type": "code",
   "execution_count": 33,
   "metadata": {
    "colab_type": "code"
   },
   "outputs": [],
   "source": [
    "import tensorflow as tf\n",
    "\n",
    "class RootMeanSquaredError(keras.metrics.Metric):\n",
    "\n",
    "    def __init__(self, name=\"rmse\", **kwargs):\n",
    "        super().__init__(name=name, **kwargs)\n",
    "        self.mse_sum = self.add_weight(name=\"mse_sum\", initializer=\"zeros\")\n",
    "        self.total_samples = self.add_weight(\n",
    "            name=\"total_samples\", initializer=\"zeros\", dtype=\"int32\")\n",
    "\n",
    "    def update_state(self, y_true, y_pred, sample_weight=None):\n",
    "        # 实现状态更新逻辑，y_true是一个数据批量对应的目标（或标签）\n",
    "        # y_pred是相应的模型预测值\n",
    "        y_true = tf.one_hot(y_true, depth=tf.shape(y_pred)[1])\n",
    "        mse = tf.reduce_sum(tf.square(y_true - y_pred))\n",
    "        self.mse_sum.assign_add(mse)\n",
    "        num_samples = tf.shape(y_pred)[0]\n",
    "        self.total_samples.assign_add(num_samples)\n",
    "\n",
    "    def result(self):\n",
    "        # 指标的当前值\n",
    "        return tf.sqrt(self.mse_sum / tf.cast(self.total_samples, tf.float32))\n",
    "\n",
    "    def reset_state(self):\n",
    "        # 重置指标状态\n",
    "        self.mse_sum.assign(0.)\n",
    "        self.total_samples.assign(0)"
   ]
  },
  {
   "cell_type": "code",
   "execution_count": 34,
   "metadata": {
    "colab_type": "code"
   },
   "outputs": [
    {
     "name": "stdout",
     "output_type": "stream",
     "text": [
      "Epoch 1/3\n",
      "1563/1563 [==============================] - 8s 5ms/step - loss: 0.2928 - accuracy: 0.9136 - rmse: 7.1842 - val_loss: 0.1528 - val_accuracy: 0.9570 - val_rmse: 7.3620\n",
      "Epoch 2/3\n",
      "1563/1563 [==============================] - 8s 5ms/step - loss: 0.1664 - accuracy: 0.9537 - rmse: 7.3560 - val_loss: 0.1205 - val_accuracy: 0.9680 - val_rmse: 7.4069\n",
      "Epoch 3/3\n",
      "1563/1563 [==============================] - 8s 5ms/step - loss: 0.1379 - accuracy: 0.9622 - rmse: 7.3894 - val_loss: 0.1139 - val_accuracy: 0.9710 - val_rmse: 7.4236\n",
      "313/313 [==============================] - 1s 2ms/step - loss: 0.1106 - accuracy: 0.9718 - rmse: 7.4395\n"
     ]
    }
   ],
   "source": [
    "model = get_mnist_model()\n",
    "model.compile(optimizer=\"rmsprop\",\n",
    "              loss=\"sparse_categorical_crossentropy\",\n",
    "              metrics=[\"accuracy\", RootMeanSquaredError()])\n",
    "model.fit(train_images, train_labels,\n",
    "          epochs=3,\n",
    "          validation_data=(val_images, val_labels))\n",
    "test_metrics = model.evaluate(test_images, test_labels)"
   ]
  },
  {
   "cell_type": "markdown",
   "metadata": {
    "colab_type": "text"
   },
   "source": [
    "### Using callbacks"
   ]
  },
  {
   "cell_type": "markdown",
   "metadata": {
    "colab_type": "text"
   },
   "source": [
    "#### The EarlyStopping and ModelCheckpoint callbacks"
   ]
  },
  {
   "cell_type": "markdown",
   "metadata": {
    "colab_type": "text"
   },
   "source": [
    "**Using the `callbacks` argument in the `fit()` method**"
   ]
  },
  {
   "cell_type": "code",
   "execution_count": 35,
   "metadata": {
    "colab_type": "code"
   },
   "outputs": [
    {
     "name": "stdout",
     "output_type": "stream",
     "text": [
      "Epoch 1/10\n",
      "1563/1563 [==============================] - 8s 5ms/step - loss: 0.2942 - accuracy: 0.9128 - val_loss: 0.1551 - val_accuracy: 0.9549\n",
      "Epoch 2/10\n",
      "1563/1563 [==============================] - 8s 5ms/step - loss: 0.1685 - accuracy: 0.9527 - val_loss: 0.1220 - val_accuracy: 0.9675\n",
      "Epoch 3/10\n",
      "1563/1563 [==============================] - 8s 5ms/step - loss: 0.1398 - accuracy: 0.9621 - val_loss: 0.1261 - val_accuracy: 0.9695\n",
      "Epoch 4/10\n",
      "1563/1563 [==============================] - 7s 5ms/step - loss: 0.1240 - accuracy: 0.9685 - val_loss: 0.1091 - val_accuracy: 0.9730\n",
      "Epoch 5/10\n",
      "1563/1563 [==============================] - 7s 5ms/step - loss: 0.1183 - accuracy: 0.9712 - val_loss: 0.1109 - val_accuracy: 0.9735\n",
      "Epoch 6/10\n",
      "1563/1563 [==============================] - 7s 4ms/step - loss: 0.1128 - accuracy: 0.9724 - val_loss: 0.1103 - val_accuracy: 0.9761\n",
      "Epoch 7/10\n",
      "1563/1563 [==============================] - 7s 4ms/step - loss: 0.1064 - accuracy: 0.9744 - val_loss: 0.1167 - val_accuracy: 0.9736\n",
      "Epoch 8/10\n",
      "1563/1563 [==============================] - 7s 4ms/step - loss: 0.1021 - accuracy: 0.9761 - val_loss: 0.1186 - val_accuracy: 0.9765\n",
      "Epoch 9/10\n",
      "1563/1563 [==============================] - 7s 4ms/step - loss: 0.0984 - accuracy: 0.9773 - val_loss: 0.1219 - val_accuracy: 0.9767\n",
      "Epoch 10/10\n",
      "1563/1563 [==============================] - 7s 4ms/step - loss: 0.0996 - accuracy: 0.9782 - val_loss: 0.1194 - val_accuracy: 0.9791\n"
     ]
    },
    {
     "data": {
      "text/plain": [
       "<keras.callbacks.History at 0x174bd62cc40>"
      ]
     },
     "execution_count": 35,
     "metadata": {},
     "output_type": "execute_result"
    }
   ],
   "source": [
    "# 如果精度在两轮内都不再改善，则中断训练\n",
    "# 在每轮过后，都保存当前权重\n",
    "callbacks_list = [\n",
    "    keras.callbacks.EarlyStopping(\n",
    "        monitor=\"val_accuracy\",\n",
    "        patience=2,\n",
    "    ),\n",
    "    keras.callbacks.ModelCheckpoint(\n",
    "        filepath=\"checkpoint_path.keras\",\n",
    "        monitor=\"val_loss\",\n",
    "        save_best_only=True,\n",
    "    )\n",
    "]\n",
    "model = get_mnist_model()\n",
    "model.compile(optimizer=\"rmsprop\",\n",
    "              loss=\"sparse_categorical_crossentropy\",\n",
    "              metrics=[\"accuracy\"])\n",
    "model.fit(train_images, train_labels,\n",
    "          epochs=10,\n",
    "          callbacks=callbacks_list,\n",
    "          validation_data=(val_images, val_labels))"
   ]
  },
  {
   "cell_type": "code",
   "execution_count": 36,
   "metadata": {
    "colab_type": "code"
   },
   "outputs": [],
   "source": [
    "model = keras.models.load_model(\"checkpoint_path.keras\")"
   ]
  },
  {
   "cell_type": "markdown",
   "metadata": {
    "colab_type": "text"
   },
   "source": [
    "### Writing your own callbacks"
   ]
  },
  {
   "cell_type": "markdown",
   "metadata": {
    "colab_type": "text"
   },
   "source": [
    "**Creating a custom callback by subclassing the `Callback` class**"
   ]
  },
  {
   "cell_type": "code",
   "execution_count": 37,
   "metadata": {
    "colab_type": "code"
   },
   "outputs": [],
   "source": [
    "from matplotlib import pyplot as plt\n",
    "\n",
    "class LossHistory(keras.callbacks.Callback):\n",
    "    def on_train_begin(self, logs):\n",
    "        self.per_batch_losses = []\n",
    "\n",
    "    def on_batch_end(self, batch, logs):\n",
    "        self.per_batch_losses.append(logs.get(\"loss\"))\n",
    "\n",
    "    def on_epoch_end(self, epoch, logs):\n",
    "        plt.clf()\n",
    "        plt.plot(range(len(self.per_batch_losses)), self.per_batch_losses,\n",
    "                 label=\"Training loss for each batch\")\n",
    "        plt.xlabel(f\"Batch (epoch {epoch})\")\n",
    "        plt.ylabel(\"Loss\")\n",
    "        plt.legend()\n",
    "        plt.savefig(f\"plot_at_epoch_{epoch}\")\n",
    "        self.per_batch_losses = []"
   ]
  },
  {
   "cell_type": "code",
   "execution_count": 38,
   "metadata": {
    "colab_type": "code"
   },
   "outputs": [
    {
     "name": "stdout",
     "output_type": "stream",
     "text": [
      "Epoch 1/10\n",
      "1563/1563 [==============================] - 7s 4ms/step - loss: 0.2935 - accuracy: 0.9139 - val_loss: 0.1635 - val_accuracy: 0.9540\n",
      "Epoch 2/10\n",
      "1563/1563 [==============================] - 8s 5ms/step - loss: 0.1659 - accuracy: 0.9532 - val_loss: 0.1232 - val_accuracy: 0.9667\n",
      "Epoch 3/10\n",
      "1563/1563 [==============================] - 8s 5ms/step - loss: 0.1414 - accuracy: 0.9636 - val_loss: 0.1124 - val_accuracy: 0.9729\n",
      "Epoch 4/10\n",
      "1563/1563 [==============================] - 8s 5ms/step - loss: 0.1258 - accuracy: 0.9676 - val_loss: 0.1058 - val_accuracy: 0.9744\n",
      "Epoch 5/10\n",
      "1563/1563 [==============================] - 8s 5ms/step - loss: 0.1141 - accuracy: 0.9707 - val_loss: 0.1120 - val_accuracy: 0.9739\n",
      "Epoch 6/10\n",
      "1563/1563 [==============================] - 8s 5ms/step - loss: 0.1082 - accuracy: 0.9739 - val_loss: 0.1069 - val_accuracy: 0.9771\n",
      "Epoch 7/10\n",
      "1563/1563 [==============================] - 8s 5ms/step - loss: 0.1087 - accuracy: 0.9747 - val_loss: 0.1125 - val_accuracy: 0.9772\n",
      "Epoch 8/10\n",
      "1563/1563 [==============================] - 8s 5ms/step - loss: 0.1039 - accuracy: 0.9756 - val_loss: 0.1115 - val_accuracy: 0.9773\n",
      "Epoch 9/10\n",
      "1563/1563 [==============================] - 8s 5ms/step - loss: 0.0970 - accuracy: 0.9780 - val_loss: 0.1105 - val_accuracy: 0.9796\n",
      "Epoch 10/10\n",
      "1563/1563 [==============================] - 8s 5ms/step - loss: 0.0947 - accuracy: 0.9789 - val_loss: 0.1198 - val_accuracy: 0.9787\n"
     ]
    },
    {
     "data": {
      "text/plain": [
       "<keras.callbacks.History at 0x174ffb32370>"
      ]
     },
     "execution_count": 38,
     "metadata": {},
     "output_type": "execute_result"
    },
    {
     "data": {
      "image/png": "[encoded data removed]",
      "text/plain": [
       "<Figure size 640x480 with 1 Axes>"
      ]
     },
     "metadata": {},
     "output_type": "display_data"
    }
   ],
   "source": [
    "model = get_mnist_model()\n",
    "model.compile(optimizer=\"rmsprop\",\n",
    "              loss=\"sparse_categorical_crossentropy\",\n",
    "              metrics=[\"accuracy\"])\n",
    "model.fit(train_images, train_labels,\n",
    "          epochs=10,\n",
    "          callbacks=[LossHistory()],\n",
    "          validation_data=(val_images, val_labels))"
   ]
  },
  {
   "cell_type": "markdown",
   "metadata": {
    "colab_type": "text"
   },
   "source": [
    "### Monitoring and visualization with TensorBoard"
   ]
  },
  {
   "cell_type": "code",
   "execution_count": 39,
   "metadata": {
    "colab_type": "code"
   },
   "outputs": [
    {
     "name": "stdout",
     "output_type": "stream",
     "text": [
      "Epoch 1/10\n",
      "1563/1563 [==============================] - 8s 5ms/step - loss: 0.2971 - accuracy: 0.9129 - val_loss: 0.1511 - val_accuracy: 0.9573\n",
      "Epoch 2/10\n",
      "1563/1563 [==============================] - 8s 5ms/step - loss: 0.1661 - accuracy: 0.9527 - val_loss: 0.1253 - val_accuracy: 0.9657\n",
      "Epoch 3/10\n",
      "1563/1563 [==============================] - 8s 5ms/step - loss: 0.1375 - accuracy: 0.9627 - val_loss: 0.1122 - val_accuracy: 0.9709\n",
      "Epoch 4/10\n",
      "1563/1563 [==============================] - 8s 5ms/step - loss: 0.1255 - accuracy: 0.9671 - val_loss: 0.1082 - val_accuracy: 0.9728\n",
      "Epoch 5/10\n",
      "1563/1563 [==============================] - 8s 5ms/step - loss: 0.1181 - accuracy: 0.9699 - val_loss: 0.1135 - val_accuracy: 0.9732\n",
      "Epoch 6/10\n",
      "1563/1563 [==============================] - 8s 5ms/step - loss: 0.1087 - accuracy: 0.9734 - val_loss: 0.1077 - val_accuracy: 0.9752\n",
      "Epoch 7/10\n",
      "1563/1563 [==============================] - 8s 5ms/step - loss: 0.1049 - accuracy: 0.9756 - val_loss: 0.1045 - val_accuracy: 0.9770\n",
      "Epoch 8/10\n",
      "1563/1563 [==============================] - 7s 5ms/step - loss: 0.0983 - accuracy: 0.9777 - val_loss: 0.1136 - val_accuracy: 0.9754\n",
      "Epoch 9/10\n",
      "1563/1563 [==============================] - 7s 4ms/step - loss: 0.0980 - accuracy: 0.9774 - val_loss: 0.1180 - val_accuracy: 0.9773\n",
      "Epoch 10/10\n",
      "1563/1563 [==============================] - 7s 5ms/step - loss: 0.0973 - accuracy: 0.9790 - val_loss: 0.1013 - val_accuracy: 0.9790\n"
     ]
    },
    {
     "data": {
      "text/plain": [
       "<keras.callbacks.History at 0x174bd761340>"
      ]
     },
     "execution_count": 39,
     "metadata": {},
     "output_type": "execute_result"
    }
   ],
   "source": [
    "model = get_mnist_model()\n",
    "model.compile(optimizer=\"rmsprop\",\n",
    "              loss=\"sparse_categorical_crossentropy\",\n",
    "              metrics=[\"accuracy\"])\n",
    "\n",
    "tensorboard = keras.callbacks.TensorBoard(\n",
    "    log_dir=\"/full_path_to_your_log_dir\",\n",
    ")\n",
    "model.fit(train_images, train_labels,\n",
    "          epochs=10,\n",
    "          validation_data=(val_images, val_labels),\n",
    "          callbacks=[tensorboard])"
   ]
  },
  {
   "cell_type": "code",
   "execution_count": 40,
   "metadata": {
    "colab_type": "code"
   },
   "outputs": [
    {
     "data": {
      "text/html": [
       "\n",
       "      <iframe id=\"tensorboard-frame-83a870fbb2001d8d\" width=\"100%\" height=\"800\" frameborder=\"0\">\n",
       "      </iframe>\n",
       "      <script>\n",
       "        (function() {\n",
       "          const frame = document.getElementById(\"tensorboard-frame-83a870fbb2001d8d\");\n",
       "          const url = new URL(\"/\", window.location);\n",
       "          const port = 6006;\n",
       "          if (port) {\n",
       "            url.port = port;\n",
       "          }\n",
       "          frame.src = url;\n",
       "        })();\n",
       "      </script>\n",
       "    "
      ],
      "text/plain": [
       "<IPython.core.display.HTML object>"
      ]
     },
     "metadata": {},
     "output_type": "display_data"
    }
   ],
   "source": [
    "%load_ext tensorboard\n",
    "%tensorboard --logdir /full_path_to_your_log_dir"
   ]
  },
  {
   "cell_type": "markdown",
   "metadata": {
    "colab_type": "text"
   },
   "source": [
    "## Writing your own training and evaluation loops"
   ]
  },
  {
   "cell_type": "markdown",
   "metadata": {
    "colab_type": "text"
   },
   "source": [
    "### Training versus inference"
   ]
  },
  {
   "cell_type": "markdown",
   "metadata": {
    "colab_type": "text"
   },
   "source": [
    "### Low-level usage of metrics"
   ]
  },
  {
   "cell_type": "code",
   "execution_count": 41,
   "metadata": {
    "colab_type": "code"
   },
   "outputs": [
    {
     "name": "stdout",
     "output_type": "stream",
     "text": [
      "result: 1.00\n"
     ]
    }
   ],
   "source": [
    "metric = keras.metrics.SparseCategoricalAccuracy()\n",
    "targets = [0, 1, 2]\n",
    "predictions = [[1, 0, 0], [0, 1, 0], [0, 0, 1]]\n",
    "metric.update_state(targets, predictions)\n",
    "current_result = metric.result()\n",
    "print(f\"result: {current_result:.2f}\")"
   ]
  },
  {
   "cell_type": "code",
   "execution_count": 42,
   "metadata": {
    "colab_type": "code"
   },
   "outputs": [
    {
     "name": "stdout",
     "output_type": "stream",
     "text": [
      "Mean of values: 2.00\n"
     ]
    }
   ],
   "source": [
    "values = [0, 1, 2, 3, 4]\n",
    "mean_tracker = keras.metrics.Mean()\n",
    "for value in values:\n",
    "    mean_tracker.update_state(value)\n",
    "print(f\"Mean of values: {mean_tracker.result():.2f}\")"
   ]
  },
  {
   "cell_type": "markdown",
   "metadata": {
    "colab_type": "text"
   },
   "source": [
    "### A complete training and evaluation loop"
   ]
  },
  {
   "cell_type": "markdown",
   "metadata": {
    "colab_type": "text"
   },
   "source": [
    "**Writing a step-by-step training loop: the training step function**"
   ]
  },
  {
   "cell_type": "code",
   "execution_count": 43,
   "metadata": {
    "colab_type": "code"
   },
   "outputs": [],
   "source": [
    "model = get_mnist_model()\n",
    "\n",
    "# 损失函数\n",
    "loss_fn = keras.losses.SparseCategoricalCrossentropy()\n",
    "# 优化器\n",
    "optimizer = keras.optimizers.RMSprop()\n",
    "# 需要监控的指标列表\n",
    "metrics = [keras.metrics.SparseCategoricalAccuracy()]\n",
    "# Mean指标跟踪器来跟踪损失均值\n",
    "loss_tracking_metric = keras.metrics.Mean()\n",
    "\n",
    "def train_step(inputs, targets):\n",
    "    # 运行前向传播\n",
    "    with tf.GradientTape() as tape:\n",
    "        predictions = model(inputs, training=True)\n",
    "        loss = loss_fn(targets, predictions)\n",
    "    # 运行反向传播    \n",
    "    gradients = tape.gradient(loss, model.trainable_weights)\n",
    "    optimizer.apply_gradients(zip(gradients, model.trainable_weights))\n",
    "    \n",
    "    # 跟踪指标\n",
    "    logs = {}\n",
    "    for metric in metrics:\n",
    "        metric.update_state(targets, predictions)\n",
    "        logs[metric.name] = metric.result()\n",
    "    \n",
    "    # 跟踪损失均值\n",
    "    loss_tracking_metric.update_state(loss)\n",
    "    logs[\"loss\"] = loss_tracking_metric.result()\n",
    "    return logs"
   ]
  },
  {
   "cell_type": "markdown",
   "metadata": {
    "colab_type": "text"
   },
   "source": [
    "**Writing a step-by-step training loop: resetting the metrics**"
   ]
  },
  {
   "cell_type": "code",
   "execution_count": 44,
   "metadata": {
    "colab_type": "code"
   },
   "outputs": [],
   "source": [
    "def reset_metrics():\n",
    "    for metric in metrics:\n",
    "        metric.reset_state()\n",
    "    loss_tracking_metric.reset_state()"
   ]
  },
  {
   "cell_type": "markdown",
   "metadata": {
    "colab_type": "text"
   },
   "source": [
    "**Writing a step-by-step training loop: the loop itself**"
   ]
  },
  {
   "cell_type": "code",
   "execution_count": 45,
   "metadata": {
    "colab_type": "code"
   },
   "outputs": [
    {
     "name": "stdout",
     "output_type": "stream",
     "text": [
      "Results at the end of epoch 0\n",
      "...sparse_categorical_accuracy: 0.9138\n",
      "...loss: 0.2901\n",
      "Results at the end of epoch 1\n",
      "...sparse_categorical_accuracy: 0.9529\n",
      "...loss: 0.1653\n",
      "Results at the end of epoch 2\n",
      "...sparse_categorical_accuracy: 0.9633\n",
      "...loss: 0.1405\n"
     ]
    }
   ],
   "source": [
    "training_dataset = tf.data.Dataset.from_tensor_slices((train_images, train_labels))\n",
    "training_dataset = training_dataset.batch(32)\n",
    "epochs = 3\n",
    "for epoch in range(epochs):\n",
    "    reset_metrics()\n",
    "    for inputs_batch, targets_batch in training_dataset:\n",
    "        logs = train_step(inputs_batch, targets_batch)\n",
    "    print(f\"Results at the end of epoch {epoch}\")\n",
    "    for key, value in logs.items():\n",
    "        print(f\"...{key}: {value:.4f}\")"
   ]
  },
  {
   "cell_type": "markdown",
   "metadata": {
    "colab_type": "text"
   },
   "source": [
    "**Writing a step-by-step evaluation loop**"
   ]
  },
  {
   "cell_type": "code",
   "execution_count": 46,
   "metadata": {
    "colab_type": "code"
   },
   "outputs": [
    {
     "name": "stdout",
     "output_type": "stream",
     "text": [
      "Evaluation results:\n",
      "...val_sparse_categorical_accuracy: 0.9681\n",
      "...val_loss: 0.1271\n"
     ]
    }
   ],
   "source": [
    "def test_step(inputs, targets):\n",
    "    predictions = model(inputs, training=False)\n",
    "    loss = loss_fn(targets, predictions)\n",
    "\n",
    "    logs = {}\n",
    "    for metric in metrics:\n",
    "        metric.update_state(targets, predictions)\n",
    "        logs[\"val_\" + metric.name] = metric.result()\n",
    "\n",
    "    loss_tracking_metric.update_state(loss)\n",
    "    logs[\"val_loss\"] = loss_tracking_metric.result()\n",
    "    return logs\n",
    "\n",
    "val_dataset = tf.data.Dataset.from_tensor_slices((val_images, val_labels))\n",
    "val_dataset = val_dataset.batch(32)\n",
    "reset_metrics()\n",
    "for inputs_batch, targets_batch in val_dataset:\n",
    "    logs = test_step(inputs_batch, targets_batch)\n",
    "print(\"Evaluation results:\")\n",
    "for key, value in logs.items():\n",
    "    print(f\"...{key}: {value:.4f}\")"
   ]
  },
  {
   "cell_type": "markdown",
   "metadata": {
    "colab_type": "text"
   },
   "source": [
    "### Make it fast with tf.function"
   ]
  },
  {
   "cell_type": "markdown",
   "metadata": {
    "colab_type": "text"
   },
   "source": [
    "**Adding a `tf.function` decorator to our evaluation-step function**"
   ]
  },
  {
   "cell_type": "code",
   "execution_count": 47,
   "metadata": {
    "colab_type": "code"
   },
   "outputs": [
    {
     "name": "stdout",
     "output_type": "stream",
     "text": [
      "Evaluation results:\n",
      "...val_sparse_categorical_accuracy: 0.9681\n",
      "...val_loss: 0.1271\n"
     ]
    }
   ],
   "source": [
    "@tf.function\n",
    "def test_step(inputs, targets):\n",
    "    predictions = model(inputs, training=False)\n",
    "    loss = loss_fn(targets, predictions)\n",
    "\n",
    "    logs = {}\n",
    "    for metric in metrics:\n",
    "        metric.update_state(targets, predictions)\n",
    "        logs[\"val_\" + metric.name] = metric.result()\n",
    "\n",
    "    loss_tracking_metric.update_state(loss)\n",
    "    logs[\"val_loss\"] = loss_tracking_metric.result()\n",
    "    return logs\n",
    "\n",
    "val_dataset = tf.data.Dataset.from_tensor_slices((val_images, val_labels))\n",
    "val_dataset = val_dataset.batch(32)\n",
    "reset_metrics()\n",
    "for inputs_batch, targets_batch in val_dataset:\n",
    "    logs = test_step(inputs_batch, targets_batch)\n",
    "print(\"Evaluation results:\")\n",
    "for key, value in logs.items():\n",
    "    print(f\"...{key}: {value:.4f}\")"
   ]
  },
  {
   "cell_type": "markdown",
   "metadata": {
    "colab_type": "text"
   },
   "source": [
    "### Leveraging fit() with a custom training loop"
   ]
  },
  {
   "cell_type": "markdown",
   "metadata": {
    "colab_type": "text"
   },
   "source": [
    "**Implementing a custom training step to use with `fit()`**"
   ]
  },
  {
   "cell_type": "code",
   "execution_count": 48,
   "metadata": {
    "colab_type": "code"
   },
   "outputs": [],
   "source": [
    "loss_fn = keras.losses.SparseCategoricalCrossentropy()\n",
    "loss_tracker = keras.metrics.Mean(name=\"loss\")\n",
    "\n",
    "class CustomModel(keras.Model):\n",
    "    # 自定义训练循环，无需使用@tf.function\n",
    "    def train_step(self, data):\n",
    "        inputs, targets = data\n",
    "        with tf.GradientTape() as tape:\n",
    "            predictions = self(inputs, training=True)\n",
    "            loss = loss_fn(targets, predictions)\n",
    "        gradients = tape.gradient(loss, self.trainable_weights)\n",
    "        self.optimizer.apply_gradients(zip(gradients, self.trainable_weights))\n",
    "\n",
    "        loss_tracker.update_state(loss)\n",
    "        return {\"loss\": loss_tracker.result()}\n",
    "    \n",
    "    # 跟踪模型的Metric实例\n",
    "    @property\n",
    "    def metrics(self):\n",
    "        return [loss_tracker]"
   ]
  },
  {
   "cell_type": "code",
   "execution_count": 49,
   "metadata": {
    "colab_type": "code"
   },
   "outputs": [
    {
     "name": "stdout",
     "output_type": "stream",
     "text": [
      "Epoch 1/3\n",
      "1563/1563 [==============================] - 6s 4ms/step - loss: 0.2928\n",
      "Epoch 2/3\n",
      "1563/1563 [==============================] - 6s 4ms/step - loss: 0.1659\n",
      "Epoch 3/3\n",
      "1563/1563 [==============================] - 6s 4ms/step - loss: 0.1377\n"
     ]
    },
    {
     "data": {
      "text/plain": [
       "<keras.callbacks.History at 0x174bd971280>"
      ]
     },
     "execution_count": 49,
     "metadata": {},
     "output_type": "execute_result"
    }
   ],
   "source": [
    "inputs = keras.Input(shape=(28 * 28,))\n",
    "features = layers.Dense(512, activation=\"relu\")(inputs)\n",
    "features = layers.Dropout(0.5)(features)\n",
    "outputs = layers.Dense(10, activation=\"softmax\")(features)\n",
    "model = CustomModel(inputs, outputs)\n",
    "\n",
    "model.compile(optimizer=keras.optimizers.RMSprop())\n",
    "model.fit(train_images, train_labels, epochs=3)"
   ]
  },
  {
   "cell_type": "code",
   "execution_count": 50,
   "metadata": {
    "colab_type": "code"
   },
   "outputs": [],
   "source": [
    "class CustomModel(keras.Model):\n",
    "    def train_step(self, data):\n",
    "        inputs, targets = data\n",
    "        with tf.GradientTape() as tape:\n",
    "            predictions = self(inputs, training=True)\n",
    "            # 利用compiled_loss方法计算损失\n",
    "            loss = self.compiled_loss(targets, predictions)\n",
    "        gradients = tape.gradient(loss, self.trainable_weights)\n",
    "        self.optimizer.apply_gradients(zip(gradients, self.trainable_weights))\n",
    "        # 更新模型指标\n",
    "        self.compiled_metrics.update_state(targets, predictions)\n",
    "        return {m.name: m.result() for m in self.metrics}"
   ]
  },
  {
   "cell_type": "code",
   "execution_count": 51,
   "metadata": {
    "colab_type": "code"
   },
   "outputs": [
    {
     "name": "stdout",
     "output_type": "stream",
     "text": [
      "Epoch 1/3\n",
      "1563/1563 [==============================] - 7s 5ms/step - loss: 0.2930 - sparse_categorical_accuracy: 0.9138\n",
      "Epoch 2/3\n",
      "1563/1563 [==============================] - 7s 4ms/step - loss: 0.1690 - sparse_categorical_accuracy: 0.9522\n",
      "Epoch 3/3\n",
      "1563/1563 [==============================] - 7s 4ms/step - loss: 0.1384 - sparse_categorical_accuracy: 0.9629\n"
     ]
    },
    {
     "data": {
      "text/plain": [
       "<keras.callbacks.History at 0x17648019550>"
      ]
     },
     "execution_count": 51,
     "metadata": {},
     "output_type": "execute_result"
    }
   ],
   "source": [
    "inputs = keras.Input(shape=(28 * 28,))\n",
    "features = layers.Dense(512, activation=\"relu\")(inputs)\n",
    "features = layers.Dropout(0.5)(features)\n",
    "outputs = layers.Dense(10, activation=\"softmax\")(features)\n",
    "model = CustomModel(inputs, outputs)\n",
    "\n",
    "model.compile(optimizer=keras.optimizers.RMSprop(),\n",
    "              loss=keras.losses.SparseCategoricalCrossentropy(),\n",
    "              metrics=[keras.metrics.SparseCategoricalAccuracy()])\n",
    "model.fit(train_images, train_labels, epochs=3)"
   ]
  },
  {
   "cell_type": "markdown",
   "metadata": {
    "colab_type": "text"
   },
   "source": [
    "## Summary"
   ]
  }
 ],
 "metadata": {
  "colab": {
   "collapsed_sections": [],
   "name": "chapter07_working-with-keras.i",
   "private_outputs": false,
   "provenance": [],
   "toc_visible": true
  },
  "kernelspec": {
   "display_name": "Python 3 (ipykernel)",
   "language": "python",
   "name": "python3"
  },
  "language_info": {
   "codemirror_mode": {
    "name": "ipython",
    "version": 3
   },
   "file_extension": ".py",
   "mimetype": "text/x-python",
   "name": "python",
   "nbconvert_exporter": "python",
   "pygments_lexer": "ipython3",
   "version": "3.8.10"
  }
 },
 "nbformat": 4,
 "nbformat_minor": 1
}
