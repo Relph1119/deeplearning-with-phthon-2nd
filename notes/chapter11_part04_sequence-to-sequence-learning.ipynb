{
 "cells": [
  {
   "cell_type": "markdown",
   "metadata": {
    "colab_type": "text"
   },
   "source": [
    "This is a companion notebook for the book [Deep Learning with Python, Second Edition](https://www.manning.com/books/deep-learning-with-python-second-edition?a_aid=keras&a_bid=76564dff). For readability, it only contains runnable code blocks and section titles, and omits everything else in the book: text paragraphs, figures, and pseudocode.\n",
    "\n",
    "**If you want to be able to follow what's going on, I recommend reading the notebook side by side with your copy of the book.**\n",
    "\n",
    "This notebook was generated for TensorFlow 2.6."
   ]
  },
  {
   "cell_type": "markdown",
   "metadata": {
    "colab_type": "text"
   },
   "source": [
    "## Beyond text classification: Sequence-to-sequence learning"
   ]
  },
  {
   "cell_type": "markdown",
   "metadata": {
    "colab_type": "text"
   },
   "source": [
    "### A machine translation example"
   ]
  },
  {
   "cell_type": "code",
   "execution_count": 1,
   "metadata": {
    "colab_type": "code"
   },
   "outputs": [],
   "source": [
    "text_file = \"../data/spa-eng/spa.txt\"\n",
    "with open(text_file, encoding='utf8') as f:\n",
    "    lines = f.read().split(\"\\n\")[:-1]\n",
    "text_pairs = []\n",
    "for line in lines:\n",
    "    english, spanish = line.split(\"\\t\")\n",
    "    spanish = \"[start] \" + spanish + \" [end]\"\n",
    "    text_pairs.append((english, spanish))"
   ]
  },
  {
   "cell_type": "code",
   "execution_count": 2,
   "metadata": {
    "colab_type": "code"
   },
   "outputs": [
    {
     "name": "stdout",
     "output_type": "stream",
     "text": [
      "('I should talk to Tom.', '[start] Debería hablar con Tom. [end]')\n"
     ]
    }
   ],
   "source": [
    "import random\n",
    "print(random.choice(text_pairs))"
   ]
  },
  {
   "cell_type": "code",
   "execution_count": 3,
   "metadata": {
    "colab_type": "code"
   },
   "outputs": [],
   "source": [
    "import random\n",
    "# 打乱\n",
    "random.shuffle(text_pairs)\n",
    "num_val_samples = int(0.15 * len(text_pairs))\n",
    "num_train_samples = len(text_pairs) - 2 * num_val_samples\n",
    "# 划分为训练集、验证集和测试集\n",
    "train_pairs = text_pairs[:num_train_samples]\n",
    "val_pairs = text_pairs[num_train_samples:num_train_samples + num_val_samples]\n",
    "test_pairs = text_pairs[num_train_samples + num_val_samples:]"
   ]
  },
  {
   "cell_type": "markdown",
   "metadata": {
    "colab_type": "text"
   },
   "source": [
    "**Vectorizing the English and Spanish text pairs**"
   ]
  },
  {
   "cell_type": "code",
   "execution_count": 5,
   "metadata": {
    "colab_type": "code"
   },
   "outputs": [],
   "source": [
    "import tensorflow as tf\n",
    "import string\n",
    "import re\n",
    "from tensorflow.keras import layers\n",
    "\n",
    "# 为西班牙语的TextVectorization层准备一个自定义的字符串标准化函数\n",
    "strip_chars = string.punctuation + \"¿\"\n",
    "strip_chars = strip_chars.replace(\"[\", \"\")\n",
    "strip_chars = strip_chars.replace(\"]\", \"\")\n",
    "\n",
    "def custom_standardization(input_string):\n",
    "    lowercase = tf.strings.lower(input_string)\n",
    "    return tf.strings.regex_replace(\n",
    "        lowercase, f\"[{re.escape(strip_chars)}]\", \"\")\n",
    "\n",
    "# 查看每种语言前15000个最常见的单词，并将句子长度限制为20个单词\n",
    "vocab_size = 15000\n",
    "sequence_length = 20\n",
    "\n",
    "# 英语\n",
    "source_vectorization = layers.TextVectorization(\n",
    "    max_tokens=vocab_size,\n",
    "    output_mode=\"int\",\n",
    "    output_sequence_length=sequence_length,\n",
    ")\n",
    "\n",
    "# 西班牙语\n",
    "target_vectorization = layers.TextVectorization(\n",
    "    max_tokens=vocab_size,\n",
    "    output_mode=\"int\",\n",
    "    output_sequence_length=sequence_length + 1,\n",
    "    standardize=custom_standardization,\n",
    ")\n",
    "train_english_texts = [pair[0] for pair in train_pairs]\n",
    "train_spanish_texts = [pair[1] for pair in train_pairs]\n",
    "# 学习每种语言的词表\n",
    "source_vectorization.adapt(train_english_texts)\n",
    "target_vectorization.adapt(train_spanish_texts)"
   ]
  },
  {
   "cell_type": "markdown",
   "metadata": {
    "colab_type": "text"
   },
   "source": [
    "**Preparing datasets for the translation task**"
   ]
  },
  {
   "cell_type": "code",
   "execution_count": 6,
   "metadata": {
    "colab_type": "code"
   },
   "outputs": [],
   "source": [
    "batch_size = 64\n",
    "\n",
    "def format_dataset(eng, spa):\n",
    "    eng = source_vectorization(eng)\n",
    "    spa = target_vectorization(spa)\n",
    "    # 保证输入和目标具有相同的长度\n",
    "    return ({\n",
    "        \"english\": eng,\n",
    "        \"spanish\": spa[:, :-1],\n",
    "    }, spa[:, 1:])\n",
    "\n",
    "def make_dataset(pairs):\n",
    "    eng_texts, spa_texts = zip(*pairs)\n",
    "    eng_texts = list(eng_texts)\n",
    "    spa_texts = list(spa_texts)\n",
    "    dataset = tf.data.Dataset.from_tensor_slices((eng_texts, spa_texts))\n",
    "    dataset = dataset.batch(batch_size)\n",
    "    dataset = dataset.map(format_dataset, num_parallel_calls=4)\n",
    "    # 利用内存缓存来加快预处理速度\n",
    "    return dataset.shuffle(2048).prefetch(16).cache()\n",
    "\n",
    "train_ds = make_dataset(train_pairs)\n",
    "val_ds = make_dataset(val_pairs)"
   ]
  },
  {
   "cell_type": "code",
   "execution_count": 7,
   "metadata": {
    "colab_type": "code"
   },
   "outputs": [
    {
     "name": "stdout",
     "output_type": "stream",
     "text": [
      "inputs['english'].shape: (64, 20)\n",
      "inputs['spanish'].shape: (64, 20)\n",
      "targets.shape: (64, 20)\n"
     ]
    }
   ],
   "source": [
    "for inputs, targets in train_ds.take(1):\n",
    "    print(f\"inputs['english'].shape: {inputs['english'].shape}\")\n",
    "    print(f\"inputs['spanish'].shape: {inputs['spanish'].shape}\")\n",
    "    print(f\"targets.shape: {targets.shape}\")"
   ]
  },
  {
   "cell_type": "markdown",
   "metadata": {
    "colab_type": "text"
   },
   "source": [
    "### Sequence-to-sequence learning with RNNs"
   ]
  },
  {
   "cell_type": "markdown",
   "metadata": {
    "colab_type": "text"
   },
   "source": [
    "**GRU-based encoder**"
   ]
  },
  {
   "cell_type": "code",
   "execution_count": 8,
   "metadata": {
    "colab_type": "code"
   },
   "outputs": [],
   "source": [
    "from tensorflow import keras\n",
    "from tensorflow.keras import layers\n",
    "\n",
    "embed_dim = 256\n",
    "latent_dim = 1024\n",
    "\n",
    "source = keras.Input(shape=(None,), dtype=\"int64\", name=\"english\")\n",
    "x = layers.Embedding(vocab_size, embed_dim, mask_zero=True)(source)\n",
    "encoded_source = layers.Bidirectional(\n",
    "    layers.GRU(latent_dim), merge_mode=\"sum\")(x)"
   ]
  },
  {
   "cell_type": "markdown",
   "metadata": {
    "colab_type": "text"
   },
   "source": [
    "**GRU-based decoder and the end-to-end model**"
   ]
  },
  {
   "cell_type": "code",
   "execution_count": 9,
   "metadata": {
    "colab_type": "code"
   },
   "outputs": [],
   "source": [
    "past_target = keras.Input(shape=(None,), dtype=\"int64\", name=\"spanish\")\n",
    "x = layers.Embedding(vocab_size, embed_dim, mask_zero=True)(past_target)\n",
    "decoder_gru = layers.GRU(latent_dim, return_sequences=True)\n",
    "x = decoder_gru(x, initial_state=encoded_source)\n",
    "x = layers.Dropout(0.5)(x)\n",
    "target_next_step = layers.Dense(vocab_size, activation=\"softmax\")(x)\n",
    "seq2seq_rnn = keras.Model([source, past_target], target_next_step)"
   ]
  },
  {
   "cell_type": "markdown",
   "metadata": {
    "colab_type": "text"
   },
   "source": [
    "**Training our recurrent sequence-to-sequence model**"
   ]
  },
  {
   "cell_type": "code",
   "execution_count": 10,
   "metadata": {
    "colab_type": "code"
   },
   "outputs": [
    {
     "name": "stdout",
     "output_type": "stream",
     "text": [
      "Epoch 1/15\n",
      "1302/1302 [==============================] - 78s 53ms/step - loss: 1.6437 - accuracy: 0.4136 - val_loss: 1.3242 - val_accuracy: 0.5011\n",
      "Epoch 2/15\n",
      "1302/1302 [==============================] - 67s 52ms/step - loss: 1.3153 - accuracy: 0.5256 - val_loss: 1.1559 - val_accuracy: 0.5677\n",
      "Epoch 3/15\n",
      "1302/1302 [==============================] - 68s 52ms/step - loss: 1.1729 - accuracy: 0.5766 - val_loss: 1.0746 - val_accuracy: 0.5997\n",
      "Epoch 4/15\n",
      "1302/1302 [==============================] - 68s 52ms/step - loss: 1.0822 - accuracy: 0.6085 - val_loss: 1.0434 - val_accuracy: 0.6169\n",
      "Epoch 5/15\n",
      "1302/1302 [==============================] - 68s 53ms/step - loss: 1.0341 - accuracy: 0.6332 - val_loss: 1.0270 - val_accuracy: 0.6273\n",
      "Epoch 6/15\n",
      "1302/1302 [==============================] - 69s 53ms/step - loss: 1.0029 - accuracy: 0.6518 - val_loss: 1.0229 - val_accuracy: 0.6324\n",
      "Epoch 7/15\n",
      "1302/1302 [==============================] - 69s 53ms/step - loss: 0.9836 - accuracy: 0.6652 - val_loss: 1.0217 - val_accuracy: 0.6386\n",
      "Epoch 8/15\n",
      "1302/1302 [==============================] - 69s 53ms/step - loss: 0.9689 - accuracy: 0.6762 - val_loss: 1.0244 - val_accuracy: 0.6392\n",
      "Epoch 9/15\n",
      "1302/1302 [==============================] - 69s 53ms/step - loss: 0.9586 - accuracy: 0.6840 - val_loss: 1.0283 - val_accuracy: 0.6397\n",
      "Epoch 10/15\n",
      "1302/1302 [==============================] - 69s 53ms/step - loss: 0.9516 - accuracy: 0.6896 - val_loss: 1.0298 - val_accuracy: 0.6420\n",
      "Epoch 11/15\n",
      "1302/1302 [==============================] - 70s 54ms/step - loss: 0.9457 - accuracy: 0.6940 - val_loss: 1.0327 - val_accuracy: 0.6433\n",
      "Epoch 12/15\n",
      "1302/1302 [==============================] - 70s 54ms/step - loss: 0.9412 - accuracy: 0.6978 - val_loss: 1.0357 - val_accuracy: 0.6436\n",
      "Epoch 13/15\n",
      "1302/1302 [==============================] - 70s 54ms/step - loss: 0.9390 - accuracy: 0.6993 - val_loss: 1.0387 - val_accuracy: 0.6434\n",
      "Epoch 14/15\n",
      "1302/1302 [==============================] - 70s 54ms/step - loss: 0.9376 - accuracy: 0.7009 - val_loss: 1.0405 - val_accuracy: 0.6441\n",
      "Epoch 15/15\n",
      "1302/1302 [==============================] - 71s 54ms/step - loss: 0.9380 - accuracy: 0.7014 - val_loss: 1.0448 - val_accuracy: 0.6424\n"
     ]
    },
    {
     "data": {
      "text/plain": [
       "<keras.callbacks.History at 0x12ac984cca0>"
      ]
     },
     "execution_count": 10,
     "metadata": {},
     "output_type": "execute_result"
    }
   ],
   "source": [
    "seq2seq_rnn.compile(\n",
    "    optimizer=\"rmsprop\",\n",
    "    loss=\"sparse_categorical_crossentropy\",\n",
    "    metrics=[\"accuracy\"])\n",
    "seq2seq_rnn.fit(train_ds, epochs=15, validation_data=val_ds)"
   ]
  },
  {
   "cell_type": "markdown",
   "metadata": {
    "colab_type": "text"
   },
   "source": [
    "**Translating new sentences with our RNN encoder and decoder**"
   ]
  },
  {
   "cell_type": "code",
   "execution_count": 11,
   "metadata": {
    "colab_type": "code",
    "scrolled": true
   },
   "outputs": [
    {
     "name": "stdout",
     "output_type": "stream",
     "text": [
      "-\n",
      "He has gone to the library.\n",
      "1/1 [==============================] - 2s 2s/step\n",
      "1/1 [==============================] - 0s 23ms/step\n",
      "1/1 [==============================] - 0s 23ms/step\n",
      "1/1 [==============================] - 0s 24ms/step\n",
      "1/1 [==============================] - 0s 23ms/step\n",
      "1/1 [==============================] - 0s 24ms/step\n",
      "1/1 [==============================] - 0s 24ms/step\n",
      "[start] se ha ido a la biblioteca [end]\n",
      "-\n",
      "Tom didn't say how much money he had spent.\n",
      "1/1 [==============================] - 0s 25ms/step\n",
      "1/1 [==============================] - 0s 25ms/step\n",
      "1/1 [==============================] - 0s 24ms/step\n",
      "1/1 [==============================] - 0s 23ms/step\n",
      "1/1 [==============================] - 0s 26ms/step\n",
      "1/1 [==============================] - 0s 24ms/step\n",
      "1/1 [==============================] - 0s 25ms/step\n",
      "[start] tom no dijo cuánto dinero tenía [end]\n",
      "-\n",
      "These are my books and those are his books.\n",
      "1/1 [==============================] - 0s 24ms/step\n",
      "1/1 [==============================] - 0s 24ms/step\n",
      "1/1 [==============================] - 0s 25ms/step\n",
      "1/1 [==============================] - 0s 25ms/step\n",
      "1/1 [==============================] - 0s 27ms/step\n",
      "1/1 [==============================] - 0s 26ms/step\n",
      "1/1 [==============================] - 0s 30ms/step\n",
      "1/1 [==============================] - 0s 27ms/step\n",
      "1/1 [==============================] - 0s 26ms/step\n",
      "[start] estos son libros y mi son los libros [end]\n",
      "-\n",
      "He had to carry the bag.\n",
      "1/1 [==============================] - 0s 25ms/step\n",
      "1/1 [==============================] - 0s 25ms/step\n",
      "1/1 [==============================] - 0s 25ms/step\n",
      "1/1 [==============================] - 0s 24ms/step\n",
      "1/1 [==============================] - 0s 25ms/step\n",
      "1/1 [==============================] - 0s 24ms/step\n",
      "[start] Él tuvo que la [UNK] [end]\n",
      "-\n",
      "You shall have my answer tomorrow.\n",
      "1/1 [==============================] - 0s 24ms/step\n",
      "1/1 [==============================] - 0s 24ms/step\n",
      "1/1 [==============================] - 0s 25ms/step\n",
      "1/1 [==============================] - 0s 24ms/step\n",
      "1/1 [==============================] - 0s 25ms/step\n",
      "[start] mañana tienes mi respuesta [end]\n",
      "-\n",
      "You must always keep your hands clean.\n",
      "1/1 [==============================] - 0s 25ms/step\n",
      "1/1 [==============================] - 0s 25ms/step\n",
      "1/1 [==============================] - 0s 24ms/step\n",
      "1/1 [==============================] - 0s 24ms/step\n",
      "1/1 [==============================] - 0s 25ms/step\n",
      "1/1 [==============================] - 0s 25ms/step\n",
      "1/1 [==============================] - 0s 25ms/step\n",
      "[start] siempre tienes que [UNK] tus manos [end]\n",
      "-\n",
      "Happy workers are better workers.\n",
      "1/1 [==============================] - 0s 25ms/step\n",
      "1/1 [==============================] - 0s 24ms/step\n",
      "1/1 [==============================] - 0s 25ms/step\n",
      "1/1 [==============================] - 0s 24ms/step\n",
      "1/1 [==============================] - 0s 24ms/step\n",
      "1/1 [==============================] - 0s 25ms/step\n",
      "1/1 [==============================] - 0s 24ms/step\n",
      "1/1 [==============================] - 0s 24ms/step\n",
      "1/1 [==============================] - 0s 24ms/step\n",
      "[start] los hombres de los hombres son demasiado [UNK] [end]\n",
      "-\n",
      "There's too much salt in this soup.\n",
      "1/1 [==============================] - 0s 34ms/step\n",
      "1/1 [==============================] - 0s 34ms/step\n",
      "1/1 [==============================] - 0s 34ms/step\n",
      "1/1 [==============================] - 0s 35ms/step\n",
      "1/1 [==============================] - 0s 36ms/step\n",
      "1/1 [==============================] - 0s 35ms/step\n",
      "[start] hay demasiado en la esta [end]\n",
      "-\n",
      "Don't expect too much.\n",
      "1/1 [==============================] - 0s 32ms/step\n",
      "1/1 [==============================] - 0s 31ms/step\n",
      "1/1 [==============================] - 0s 31ms/step\n",
      "1/1 [==============================] - 0s 32ms/step\n",
      "1/1 [==============================] - 0s 34ms/step\n",
      "[start] no te demasiado mucho [end]\n",
      "-\n",
      "Where shall I wait for you?\n",
      "1/1 [==============================] - 0s 34ms/step\n",
      "1/1 [==============================] - 0s 34ms/step\n",
      "1/1 [==============================] - 0s 33ms/step\n",
      "1/1 [==============================] - 0s 34ms/step\n",
      "1/1 [==============================] - 0s 34ms/step\n",
      "1/1 [==============================] - 0s 34ms/step\n",
      "[start] dónde te tengo que esperar [end]\n",
      "-\n",
      "When you are hungry, anything tastes good.\n",
      "1/1 [==============================] - 0s 34ms/step\n",
      "1/1 [==============================] - 0s 34ms/step\n",
      "1/1 [==============================] - 0s 34ms/step\n",
      "1/1 [==============================] - 0s 35ms/step\n",
      "1/1 [==============================] - 0s 34ms/step\n",
      "1/1 [==============================] - 0s 36ms/step\n",
      "1/1 [==============================] - 0s 35ms/step\n",
      "1/1 [==============================] - 0s 35ms/step\n",
      "[start] cuando tienes hambre todo sabe buen buen [end]\n",
      "-\n",
      "You could at least try.\n",
      "1/1 [==============================] - 0s 32ms/step\n",
      "1/1 [==============================] - 0s 33ms/step\n",
      "1/1 [==============================] - 0s 32ms/step\n",
      "1/1 [==============================] - 0s 34ms/step\n",
      "1/1 [==============================] - 0s 34ms/step\n",
      "1/1 [==============================] - 0s 34ms/step\n",
      "1/1 [==============================] - 0s 34ms/step\n",
      "[start] podrías ir al menos cinco veces [end]\n",
      "-\n",
      "I hope this horse doesn't kick.\n",
      "1/1 [==============================] - 0s 34ms/step\n",
      "1/1 [==============================] - 0s 34ms/step\n",
      "1/1 [==============================] - 0s 34ms/step\n",
      "1/1 [==============================] - 0s 34ms/step\n",
      "1/1 [==============================] - 0s 34ms/step\n",
      "1/1 [==============================] - 0s 35ms/step\n",
      "1/1 [==============================] - 0s 37ms/step\n",
      "1/1 [==============================] - 0s 35ms/step\n",
      "[start] espero que el [UNK] de su [UNK] [end]\n",
      "-\n",
      "Tom stopped to take a close look at the car.\n",
      "1/1 [==============================] - 0s 37ms/step\n",
      "1/1 [==============================] - 0s 44ms/step\n",
      "1/1 [==============================] - 0s 56ms/step\n",
      "1/1 [==============================] - 0s 56ms/step\n",
      "1/1 [==============================] - 0s 58ms/step\n",
      "1/1 [==============================] - 0s 57ms/step\n",
      "1/1 [==============================] - 0s 58ms/step\n",
      "1/1 [==============================] - 0s 57ms/step\n",
      "1/1 [==============================] - 0s 58ms/step\n",
      "1/1 [==============================] - 0s 58ms/step\n",
      "[start] tom se puso a un perro para el auto [end]\n",
      "-\n",
      "It is preferable that he gets there by tomorrow.\n",
      "1/1 [==============================] - 0s 34ms/step\n",
      "1/1 [==============================] - 0s 34ms/step\n",
      "1/1 [==============================] - 0s 37ms/step\n",
      "1/1 [==============================] - 0s 36ms/step\n",
      "1/1 [==============================] - 0s 36ms/step\n",
      "1/1 [==============================] - 0s 36ms/step\n",
      "1/1 [==============================] - 0s 37ms/step\n",
      "1/1 [==============================] - 0s 38ms/step\n",
      "1/1 [==============================] - 0s 36ms/step\n",
      "1/1 [==============================] - 0s 37ms/step\n",
      "1/1 [==============================] - 0s 37ms/step\n",
      "[start] es que él [UNK] él mañana va a ir allí [end]\n",
      "-\n",
      "Often, the less there is to justify a traditional custom the harder it is to get rid of it.\n",
      "1/1 [==============================] - 0s 42ms/step\n",
      "1/1 [==============================] - 0s 40ms/step\n",
      "1/1 [==============================] - 0s 41ms/step\n",
      "1/1 [==============================] - 0s 42ms/step\n",
      "1/1 [==============================] - 0s 42ms/step\n",
      "1/1 [==============================] - 0s 42ms/step\n",
      "1/1 [==============================] - 0s 42ms/step\n",
      "1/1 [==============================] - 0s 42ms/step\n",
      "1/1 [==============================] - 0s 42ms/step\n",
      "1/1 [==============================] - 0s 43ms/step\n",
      "1/1 [==============================] - 0s 44ms/step\n",
      "1/1 [==============================] - 0s 44ms/step\n",
      "1/1 [==============================] - 0s 45ms/step\n",
      "1/1 [==============================] - 0s 45ms/step\n",
      "1/1 [==============================] - 0s 45ms/step\n",
      "1/1 [==============================] - 0s 46ms/step\n",
      "[start] a menudo es un más de las tres de ellos es demasiado al que [UNK] [end]\n",
      "-\n",
      "Can I have one of these?\n",
      "1/1 [==============================] - 0s 33ms/step\n",
      "1/1 [==============================] - 0s 48ms/step\n"
     ]
    },
    {
     "name": "stdout",
     "output_type": "stream",
     "text": [
      "1/1 [==============================] - 0s 48ms/step\n",
      "1/1 [==============================] - 0s 49ms/step\n",
      "1/1 [==============================] - 0s 50ms/step\n",
      "[start] puedo uno de estos [end]\n",
      "-\n",
      "The property was divided equally among the heirs.\n",
      "1/1 [==============================] - 0s 50ms/step\n",
      "1/1 [==============================] - 0s 33ms/step\n",
      "1/1 [==============================] - 0s 33ms/step\n",
      "1/1 [==============================] - 0s 35ms/step\n",
      "1/1 [==============================] - 0s 35ms/step\n",
      "1/1 [==============================] - 0s 35ms/step\n",
      "1/1 [==============================] - 0s 35ms/step\n",
      "1/1 [==============================] - 0s 35ms/step\n",
      "[start] la [UNK] estaba muy [UNK] del [UNK] [end]\n",
      "-\n",
      "This is the third time I've heard this song today.\n",
      "1/1 [==============================] - 0s 35ms/step\n",
      "1/1 [==============================] - 0s 38ms/step\n",
      "1/1 [==============================] - 0s 37ms/step\n",
      "1/1 [==============================] - 0s 35ms/step\n",
      "1/1 [==============================] - 0s 36ms/step\n",
      "1/1 [==============================] - 0s 36ms/step\n",
      "1/1 [==============================] - 0s 36ms/step\n",
      "1/1 [==============================] - 0s 37ms/step\n",
      "1/1 [==============================] - 0s 37ms/step\n",
      "1/1 [==============================] - 0s 37ms/step\n",
      "1/1 [==============================] - 0s 38ms/step\n",
      "1/1 [==============================] - 0s 38ms/step\n",
      "[start] esta es la única vez que he visto esta canción ayer [end]\n",
      "-\n",
      "I'll pop in tomorrow morning.\n",
      "1/1 [==============================] - 0s 32ms/step\n",
      "1/1 [==============================] - 0s 32ms/step\n",
      "1/1 [==============================] - 0s 32ms/step\n",
      "1/1 [==============================] - 0s 33ms/step\n",
      "1/1 [==============================] - 0s 33ms/step\n",
      "1/1 [==============================] - 0s 51ms/step\n",
      "1/1 [==============================] - 0s 52ms/step\n",
      "[start] me voy a la mañana mañana [end]\n"
     ]
    }
   ],
   "source": [
    "import numpy as np\n",
    "spa_vocab = target_vectorization.get_vocabulary()\n",
    "spa_index_lookup = dict(zip(range(len(spa_vocab)), spa_vocab))\n",
    "max_decoded_sentence_length = 20\n",
    "\n",
    "def decode_sequence(input_sentence):\n",
    "    tokenized_input_sentence = source_vectorization([input_sentence])\n",
    "    # 种子词元\n",
    "    decoded_sentence = \"[start]\"\n",
    "    for i in range(max_decoded_sentence_length):\n",
    "        tokenized_target_sentence = target_vectorization([decoded_sentence])\n",
    "        # 下一个词元进行采样\n",
    "        next_token_predictions = seq2seq_rnn.predict(\n",
    "            [tokenized_input_sentence, tokenized_target_sentence])\n",
    "        sampled_token_index = np.argmax(next_token_predictions[0, i, :])\n",
    "        sampled_token = spa_index_lookup[sampled_token_index]\n",
    "        decoded_sentence += \" \" + sampled_token\n",
    "        if sampled_token == \"[end]\":\n",
    "            break\n",
    "    return decoded_sentence\n",
    "\n",
    "test_eng_texts = [pair[0] for pair in test_pairs]\n",
    "for _ in range(20):\n",
    "    input_sentence = random.choice(test_eng_texts)\n",
    "    print(\"-\")\n",
    "    print(input_sentence)\n",
    "    print(decode_sequence(input_sentence))"
   ]
  },
  {
   "cell_type": "markdown",
   "metadata": {
    "colab_type": "text"
   },
   "source": [
    "### Sequence-to-sequence learning with Transformer"
   ]
  },
  {
   "cell_type": "markdown",
   "metadata": {
    "colab_type": "text"
   },
   "source": [
    "#### The Transformer decoder"
   ]
  },
  {
   "cell_type": "markdown",
   "metadata": {
    "colab_type": "text"
   },
   "source": [
    "**The `TransformerDecoder`**"
   ]
  },
  {
   "cell_type": "code",
   "execution_count": 12,
   "metadata": {
    "colab_type": "code"
   },
   "outputs": [],
   "source": [
    "class TransformerDecoder(layers.Layer):\n",
    "    def __init__(self, embed_dim, dense_dim, num_heads, **kwargs):\n",
    "        super().__init__(**kwargs)\n",
    "        self.embed_dim = embed_dim\n",
    "        self.dense_dim = dense_dim\n",
    "        self.num_heads = num_heads\n",
    "        self.attention_1 = layers.MultiHeadAttention(\n",
    "            num_heads=num_heads, key_dim=embed_dim)\n",
    "        self.attention_2 = layers.MultiHeadAttention(\n",
    "            num_heads=num_heads, key_dim=embed_dim)\n",
    "        self.dense_proj = keras.Sequential(\n",
    "            [layers.Dense(dense_dim, activation=\"relu\"),\n",
    "             layers.Dense(embed_dim),]\n",
    "        )\n",
    "        self.layernorm_1 = layers.LayerNormalization()\n",
    "        self.layernorm_2 = layers.LayerNormalization()\n",
    "        self.layernorm_3 = layers.LayerNormalization()\n",
    "        # 将输入掩码传递给输出\n",
    "        self.supports_masking = True\n",
    "\n",
    "    def get_config(self):\n",
    "        config = super().get_config()\n",
    "        config.update({\n",
    "            \"embed_dim\": self.embed_dim,\n",
    "            \"num_heads\": self.num_heads,\n",
    "            \"dense_dim\": self.dense_dim,\n",
    "        })\n",
    "        return config\n",
    "    \n",
    "    # 生成因果掩码\n",
    "    def get_causal_attention_mask(self, inputs):\n",
    "        input_shape = tf.shape(inputs)\n",
    "        batch_size, sequence_length = input_shape[0], input_shape[1]\n",
    "        i = tf.range(sequence_length)[:, tf.newaxis]\n",
    "        j = tf.range(sequence_length)\n",
    "        mask = tf.cast(i >= j, dtype=\"int32\")\n",
    "        mask = tf.reshape(mask, (1, input_shape[1], input_shape[1]))\n",
    "        mult = tf.concat(\n",
    "            [tf.expand_dims(batch_size, -1),\n",
    "             tf.constant([1, 1], dtype=tf.int32)], axis=0)\n",
    "        return tf.tile(mask, mult)\n",
    "    \n",
    "    # 实现前向传播\n",
    "    def call(self, inputs, encoder_outputs, mask=None):\n",
    "        causal_mask = self.get_causal_attention_mask(inputs)\n",
    "        # 准备输入掩码\n",
    "        if mask is not None:\n",
    "            padding_mask = tf.cast(\n",
    "                mask[:, tf.newaxis, :], dtype=\"int32\")\n",
    "            # 合并掩码\n",
    "            padding_mask = tf.minimum(padding_mask, causal_mask)\n",
    "        # 将因果掩码传入第一个注意力层    \n",
    "        attention_output_1 = self.attention_1(\n",
    "            query=inputs,\n",
    "            value=inputs,\n",
    "            key=inputs,\n",
    "            attention_mask=causal_mask)\n",
    "        attention_output_1 = self.layernorm_1(inputs + attention_output_1)\n",
    "        # 将合并后的掩码传入第二个注意力层\n",
    "        attention_output_2 = self.attention_2(\n",
    "            query=attention_output_1,\n",
    "            value=encoder_outputs,\n",
    "            key=encoder_outputs,\n",
    "            attention_mask=padding_mask,\n",
    "        )\n",
    "        attention_output_2 = self.layernorm_2(\n",
    "            attention_output_1 + attention_output_2)\n",
    "        proj_output = self.dense_proj(attention_output_2)\n",
    "        return self.layernorm_3(attention_output_2 + proj_output)"
   ]
  },
  {
   "cell_type": "markdown",
   "metadata": {
    "colab_type": "text"
   },
   "source": [
    "#### Putting it all together: A Transformer for machine translation"
   ]
  },
  {
   "cell_type": "markdown",
   "metadata": {
    "colab_type": "text"
   },
   "source": [
    "**PositionalEmbedding layer**"
   ]
  },
  {
   "cell_type": "code",
   "execution_count": 13,
   "metadata": {
    "colab_type": "code"
   },
   "outputs": [],
   "source": [
    "class PositionalEmbedding(layers.Layer):\n",
    "    def __init__(self, sequence_length, input_dim, output_dim, **kwargs):\n",
    "        super().__init__(**kwargs)\n",
    "        self.token_embeddings = layers.Embedding(\n",
    "            input_dim=input_dim, output_dim=output_dim)\n",
    "        self.position_embeddings = layers.Embedding(\n",
    "            input_dim=sequence_length, output_dim=output_dim)\n",
    "        self.sequence_length = sequence_length\n",
    "        self.input_dim = input_dim\n",
    "        self.output_dim = output_dim\n",
    "\n",
    "    def call(self, inputs):\n",
    "        length = tf.shape(inputs)[-1]\n",
    "        positions = tf.range(start=0, limit=length, delta=1)\n",
    "        embedded_tokens = self.token_embeddings(inputs)\n",
    "        embedded_positions = self.position_embeddings(positions)\n",
    "        return embedded_tokens + embedded_positions\n",
    "\n",
    "    def compute_mask(self, inputs, mask=None):\n",
    "        return tf.math.not_equal(inputs, 0)\n",
    "\n",
    "    def get_config(self):\n",
    "        config = super(PositionalEmbedding, self).get_config()\n",
    "        config.update({\n",
    "            \"output_dim\": self.output_dim,\n",
    "            \"sequence_length\": self.sequence_length,\n",
    "            \"input_dim\": self.input_dim,\n",
    "        })\n",
    "        return config"
   ]
  },
  {
   "cell_type": "markdown",
   "metadata": {
    "colab_type": "text"
   },
   "source": [
    "**End-to-end Transformer**"
   ]
  },
  {
   "cell_type": "code",
   "execution_count": 15,
   "metadata": {},
   "outputs": [],
   "source": [
    "import tensorflow as tf\n",
    "from tensorflow import keras\n",
    "from tensorflow.keras import layers\n",
    "\n",
    "class TransformerEncoder(layers.Layer):\n",
    "    def __init__(self, embed_dim, dense_dim, num_heads, **kwargs):\n",
    "        super().__init__(**kwargs)\n",
    "        # 输入词元向量的尺寸\n",
    "        self.embed_dim = embed_dim\n",
    "        # Dense层的尺寸\n",
    "        self.dense_dim = dense_dim\n",
    "        # 注意力头的个数\n",
    "        self.num_heads = num_heads\n",
    "        self.attention = layers.MultiHeadAttention(\n",
    "            num_heads=num_heads, key_dim=embed_dim)\n",
    "        self.dense_proj = keras.Sequential(\n",
    "            [layers.Dense(dense_dim, activation=\"relu\"),\n",
    "             layers.Dense(embed_dim),]\n",
    "        )\n",
    "        # 规范化层\n",
    "        self.layernorm_1 = layers.LayerNormalization()\n",
    "        self.layernorm_2 = layers.LayerNormalization()\n",
    "\n",
    "    def call(self, inputs, mask=None):\n",
    "        # 增加维度\n",
    "        if mask is not None:\n",
    "            mask = mask[:, tf.newaxis, :]\n",
    "        attention_output = self.attention(\n",
    "            inputs, inputs, attention_mask=mask)\n",
    "        proj_input = self.layernorm_1(inputs + attention_output)\n",
    "        proj_output = self.dense_proj(proj_input)\n",
    "        return self.layernorm_2(proj_input + proj_output)\n",
    "\n",
    "    def get_config(self):\n",
    "        # 实现序列化，用于保存模型\n",
    "        config = super().get_config()\n",
    "        config.update({\n",
    "            \"embed_dim\": self.embed_dim,\n",
    "            \"num_heads\": self.num_heads,\n",
    "            \"dense_dim\": self.dense_dim,\n",
    "        })\n",
    "        return config"
   ]
  },
  {
   "cell_type": "code",
   "execution_count": 16,
   "metadata": {
    "colab_type": "code"
   },
   "outputs": [],
   "source": [
    "embed_dim = 256\n",
    "dense_dim = 2048\n",
    "num_heads = 8\n",
    "\n",
    "encoder_inputs = keras.Input(shape=(None,), dtype=\"int64\", name=\"english\")\n",
    "x = PositionalEmbedding(sequence_length, vocab_size, embed_dim)(encoder_inputs)\n",
    "# 对源句子进行编码\n",
    "encoder_outputs = TransformerEncoder(embed_dim, dense_dim, num_heads)(x)\n",
    "\n",
    "decoder_inputs = keras.Input(shape=(None,), dtype=\"int64\", name=\"spanish\")\n",
    "x = PositionalEmbedding(sequence_length, vocab_size, embed_dim)(decoder_inputs)\n",
    "# 对目标句子进行编码，并将其与编码后的源句子合并\n",
    "x = TransformerDecoder(embed_dim, dense_dim, num_heads)(x, encoder_outputs)\n",
    "x = layers.Dropout(0.5)(x)\n",
    "decoder_outputs = layers.Dense(vocab_size, activation=\"softmax\")(x)\n",
    "transformer = keras.Model([encoder_inputs, decoder_inputs], decoder_outputs)"
   ]
  },
  {
   "cell_type": "markdown",
   "metadata": {
    "colab_type": "text"
   },
   "source": [
    "**Training the sequence-to-sequence Transformer**"
   ]
  },
  {
   "cell_type": "code",
   "execution_count": 17,
   "metadata": {
    "colab_type": "code",
    "scrolled": false
   },
   "outputs": [
    {
     "name": "stdout",
     "output_type": "stream",
     "text": [
      "Epoch 1/30\n",
      "1302/1302 [==============================] - 66s 48ms/step - loss: 1.6758 - accuracy: 0.4188 - val_loss: 1.3484 - val_accuracy: 0.5002\n",
      "Epoch 2/30\n",
      "1302/1302 [==============================] - 63s 48ms/step - loss: 1.3404 - accuracy: 0.5319 - val_loss: 1.1672 - val_accuracy: 0.5693\n",
      "Epoch 3/30\n",
      "1302/1302 [==============================] - 63s 48ms/step - loss: 1.1895 - accuracy: 0.5814 - val_loss: 1.0911 - val_accuracy: 0.6002\n",
      "Epoch 4/30\n",
      "1302/1302 [==============================] - 63s 49ms/step - loss: 1.1005 - accuracy: 0.6130 - val_loss: 1.0483 - val_accuracy: 0.6203\n",
      "Epoch 5/30\n",
      "1302/1302 [==============================] - 64s 49ms/step - loss: 1.0503 - accuracy: 0.6357 - val_loss: 1.0199 - val_accuracy: 0.6335\n",
      "Epoch 6/30\n",
      "1302/1302 [==============================] - 63s 48ms/step - loss: 1.0180 - accuracy: 0.6520 - val_loss: 1.0066 - val_accuracy: 0.6412\n",
      "Epoch 7/30\n",
      "1302/1302 [==============================] - 63s 49ms/step - loss: 0.9943 - accuracy: 0.6653 - val_loss: 1.0024 - val_accuracy: 0.6446\n",
      "Epoch 8/30\n",
      "1302/1302 [==============================] - 64s 49ms/step - loss: 0.9754 - accuracy: 0.6761 - val_loss: 0.9953 - val_accuracy: 0.6525\n",
      "Epoch 9/30\n",
      "1302/1302 [==============================] - 64s 49ms/step - loss: 0.9582 - accuracy: 0.6854 - val_loss: 1.0017 - val_accuracy: 0.6515\n",
      "Epoch 10/30\n",
      "1302/1302 [==============================] - 64s 49ms/step - loss: 0.9441 - accuracy: 0.6927 - val_loss: 0.9948 - val_accuracy: 0.6569\n",
      "Epoch 11/30\n",
      "1302/1302 [==============================] - 64s 49ms/step - loss: 0.9305 - accuracy: 0.6998 - val_loss: 0.9976 - val_accuracy: 0.6581\n",
      "Epoch 12/30\n",
      "1302/1302 [==============================] - 64s 49ms/step - loss: 0.9179 - accuracy: 0.7055 - val_loss: 0.9921 - val_accuracy: 0.6615\n",
      "Epoch 13/30\n",
      "1302/1302 [==============================] - 64s 49ms/step - loss: 0.9052 - accuracy: 0.7113 - val_loss: 0.9995 - val_accuracy: 0.6604\n",
      "Epoch 14/30\n",
      "1302/1302 [==============================] - 64s 49ms/step - loss: 0.8937 - accuracy: 0.7165 - val_loss: 1.0100 - val_accuracy: 0.6603\n",
      "Epoch 15/30\n",
      "1302/1302 [==============================] - 66s 51ms/step - loss: 0.8825 - accuracy: 0.7212 - val_loss: 1.0095 - val_accuracy: 0.6608\n",
      "Epoch 16/30\n",
      "1302/1302 [==============================] - 66s 50ms/step - loss: 0.8710 - accuracy: 0.7259 - val_loss: 1.0180 - val_accuracy: 0.6589\n",
      "Epoch 17/30\n",
      "1302/1302 [==============================] - 65s 50ms/step - loss: 0.8616 - accuracy: 0.7298 - val_loss: 1.0095 - val_accuracy: 0.6629\n",
      "Epoch 18/30\n",
      "1302/1302 [==============================] - 65s 50ms/step - loss: 0.8497 - accuracy: 0.7345 - val_loss: 1.0232 - val_accuracy: 0.6603\n",
      "Epoch 19/30\n",
      "1302/1302 [==============================] - 65s 50ms/step - loss: 0.8406 - accuracy: 0.7380 - val_loss: 1.0192 - val_accuracy: 0.6628\n",
      "Epoch 20/30\n",
      "1302/1302 [==============================] - 65s 50ms/step - loss: 0.8310 - accuracy: 0.7417 - val_loss: 1.0236 - val_accuracy: 0.6589\n",
      "Epoch 21/30\n",
      "1302/1302 [==============================] - 66s 51ms/step - loss: 0.8222 - accuracy: 0.7453 - val_loss: 1.0299 - val_accuracy: 0.6602\n",
      "Epoch 22/30\n",
      "1302/1302 [==============================] - 66s 50ms/step - loss: 0.8127 - accuracy: 0.7488 - val_loss: 1.0294 - val_accuracy: 0.6648\n",
      "Epoch 23/30\n",
      "1302/1302 [==============================] - 65s 50ms/step - loss: 0.8044 - accuracy: 0.7519 - val_loss: 1.0379 - val_accuracy: 0.6618\n",
      "Epoch 24/30\n",
      "1302/1302 [==============================] - 65s 50ms/step - loss: 0.7961 - accuracy: 0.7550 - val_loss: 1.0415 - val_accuracy: 0.6634\n",
      "Epoch 25/30\n",
      "1302/1302 [==============================] - 65s 50ms/step - loss: 0.7887 - accuracy: 0.7577 - val_loss: 1.0480 - val_accuracy: 0.6643\n",
      "Epoch 26/30\n",
      "1302/1302 [==============================] - 65s 50ms/step - loss: 0.7813 - accuracy: 0.7601 - val_loss: 1.0553 - val_accuracy: 0.6581\n",
      "Epoch 27/30\n",
      "1302/1302 [==============================] - 65s 50ms/step - loss: 0.7742 - accuracy: 0.7631 - val_loss: 1.0546 - val_accuracy: 0.6619\n",
      "Epoch 28/30\n",
      "1302/1302 [==============================] - 65s 50ms/step - loss: 0.7673 - accuracy: 0.7654 - val_loss: 1.0572 - val_accuracy: 0.6588\n",
      "Epoch 29/30\n",
      "1302/1302 [==============================] - 65s 50ms/step - loss: 0.7600 - accuracy: 0.7686 - val_loss: 1.0640 - val_accuracy: 0.6623\n",
      "Epoch 30/30\n",
      "1302/1302 [==============================] - 65s 50ms/step - loss: 0.7550 - accuracy: 0.7700 - val_loss: 1.0712 - val_accuracy: 0.6593\n"
     ]
    },
    {
     "data": {
      "text/plain": [
       "<keras.callbacks.History at 0x12b22f6e820>"
      ]
     },
     "execution_count": 17,
     "metadata": {},
     "output_type": "execute_result"
    }
   ],
   "source": [
    "transformer.compile(\n",
    "    optimizer=\"rmsprop\",\n",
    "    loss=\"sparse_categorical_crossentropy\",\n",
    "    metrics=[\"accuracy\"])\n",
    "transformer.fit(train_ds, epochs=30, validation_data=val_ds)"
   ]
  },
  {
   "cell_type": "markdown",
   "metadata": {
    "colab_type": "text"
   },
   "source": [
    "**Translating new sentences with our Transformer model**"
   ]
  },
  {
   "cell_type": "code",
   "execution_count": 18,
   "metadata": {
    "colab_type": "code"
   },
   "outputs": [
    {
     "name": "stdout",
     "output_type": "stream",
     "text": [
      "-\n",
      "The tigers escaped from the zoo.\n",
      "[start] los [UNK] de que los [UNK] de el teatro [end]\n",
      "-\n",
      "Washing your hands regularly is a good way to protect yourself from diseases.\n",
      "[start] se me [UNK] tus manos una buena [UNK] para [UNK] de a que te [UNK] [end]\n",
      "-\n",
      "I wasn't prepared.\n",
      "[start] no estaba lista [end]\n",
      "-\n",
      "Tom did it.\n",
      "[start] tom lo hizo [end]\n",
      "-\n",
      "Do you want to go for a swim?\n",
      "[start] quieres ir a nadar [end]\n",
      "-\n",
      "I was asked to wait here.\n",
      "[start] me [UNK] [end]\n",
      "-\n",
      "I know someone who may be interested in your project.\n",
      "[start] sé alguien que tom pueda estar en tu [UNK] [end]\n",
      "-\n",
      "From there, one could see perfectly.\n",
      "[start] desde ahí podía ver la la la la la la la [UNK] [end]\n",
      "-\n",
      "I'll text you when I'm done.\n",
      "[start] te voy a [UNK] de repente [end]\n",
      "-\n",
      "Tom avoided Mary.\n",
      "[start] tom le dio a mary [end]\n",
      "-\n",
      "Tom doesn't know what Mary has to do.\n",
      "[start] tom no sabe qué tiene mary que hacer [end]\n",
      "-\n",
      "She worked for a rich man.\n",
      "[start] ella funcionó por un hombre rico [end]\n",
      "-\n",
      "She's beautiful.\n",
      "[start] es hermosa [end]\n",
      "-\n",
      "You're going to get hurt if you're not careful.\n",
      "[start] te vas a hacer felices si no tienes cuidado [end]\n",
      "-\n",
      "Tom pointed out some problems.\n",
      "[start] tom sacó algunas problemas [end]\n",
      "-\n",
      "Just relax a minute.\n",
      "[start] [UNK] un minuto [end]\n",
      "-\n",
      "He spoke well of her son.\n",
      "[start] Él le hablé bien de su hijo [end]\n",
      "-\n",
      "Let's do what Tom said.\n",
      "[start] haría lo que tom dijo [end]\n",
      "-\n",
      "I spend my free time with my kids.\n",
      "[start] yo me es hora de que mis hijos [end]\n",
      "-\n",
      "It is our duty to help them.\n",
      "[start] no es nuestro [UNK] para [UNK] [end]\n"
     ]
    }
   ],
   "source": [
    "import numpy as np\n",
    "spa_vocab = target_vectorization.get_vocabulary()\n",
    "spa_index_lookup = dict(zip(range(len(spa_vocab)), spa_vocab))\n",
    "max_decoded_sentence_length = 20\n",
    "\n",
    "def decode_sequence(input_sentence):\n",
    "    tokenized_input_sentence = source_vectorization([input_sentence])\n",
    "    decoded_sentence = \"[start]\"\n",
    "    for i in range(max_decoded_sentence_length):\n",
    "        tokenized_target_sentence = target_vectorization(\n",
    "            [decoded_sentence])[:, :-1]\n",
    "        predictions = transformer(\n",
    "            [tokenized_input_sentence, tokenized_target_sentence])\n",
    "        sampled_token_index = np.argmax(predictions[0, i, :])\n",
    "        sampled_token = spa_index_lookup[sampled_token_index]\n",
    "        decoded_sentence += \" \" + sampled_token\n",
    "        if sampled_token == \"[end]\":\n",
    "            break\n",
    "    return decoded_sentence\n",
    "\n",
    "test_eng_texts = [pair[0] for pair in test_pairs]\n",
    "for _ in range(20):\n",
    "    input_sentence = random.choice(test_eng_texts)\n",
    "    print(\"-\")\n",
    "    print(input_sentence)\n",
    "    print(decode_sequence(input_sentence))"
   ]
  },
  {
   "cell_type": "markdown",
   "metadata": {
    "colab_type": "text"
   },
   "source": [
    "## Summary"
   ]
  }
 ],
 "metadata": {
  "colab": {
   "collapsed_sections": [],
   "name": "chapter11_part04_sequence-to-sequence-learning.i",
   "private_outputs": false,
   "provenance": [],
   "toc_visible": true
  },
  "kernelspec": {
   "display_name": "Python 3 (ipykernel)",
   "language": "python",
   "name": "python3"
  },
  "language_info": {
   "codemirror_mode": {
    "name": "ipython",
    "version": 3
   },
   "file_extension": ".py",
   "mimetype": "text/x-python",
   "name": "python",
   "nbconvert_exporter": "python",
   "pygments_lexer": "ipython3",
   "version": "3.8.10"
  }
 },
 "nbformat": 4,
 "nbformat_minor": 1
}
