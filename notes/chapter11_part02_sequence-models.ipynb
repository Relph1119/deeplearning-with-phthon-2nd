{
  "cells": [
    {
      "cell_type": "markdown",
      "metadata": {
        "id": "vilF_dLw3GRL"
      },
      "source": [
        "This is a companion notebook for the book [Deep Learning with Python, Second Edition](https://www.manning.com/books/deep-learning-with-python-second-edition?a_aid=keras&a_bid=76564dff). For readability, it only contains runnable code blocks and section titles, and omits everything else in the book: text paragraphs, figures, and pseudocode.\n",
        "\n",
        "**If you want to be able to follow what's going on, I recommend reading the notebook side by side with your copy of the book.**\n",
        "\n",
        "This notebook was generated for TensorFlow 2.6."
      ]
    },
    {
      "cell_type": "markdown",
      "metadata": {
        "id": "9nrh02yI3GRO"
      },
      "source": [
        "### Processing words as a sequence: The sequence model approach"
      ]
    },
    {
      "cell_type": "markdown",
      "metadata": {
        "id": "FUk5qy0s3GRP"
      },
      "source": [
        "#### A first practical example"
      ]
    },
    {
      "cell_type": "markdown",
      "metadata": {
        "id": "IsoZHYk23GRP"
      },
      "source": [
        "**Downloading the data**"
      ]
    },
    {
      "cell_type": "code",
      "execution_count": 1,
      "metadata": {
        "colab": {
          "base_uri": "https://localhost:8080/"
        },
        "id": "o50LrY463GRP",
        "outputId": "bf61920c-db17-4aa9-cb9f-d03c8d09982b"
      },
      "outputs": [
        {
          "output_type": "stream",
          "name": "stdout",
          "text": [
            "  % Total    % Received % Xferd  Average Speed   Time    Time     Time  Current\n",
            "                                 Dload  Upload   Total   Spent    Left  Speed\n",
            "100 80.2M  100 80.2M    0     0  29.1M      0  0:00:02  0:00:02 --:--:-- 29.1M\n"
          ]
        }
      ],
      "source": [
        "!curl -O https://ai.stanford.edu/~amaas/data/sentiment/aclImdb_v1.tar.gz\n",
        "!tar -xf aclImdb_v1.tar.gz\n",
        "!rm -r aclImdb/train/unsup"
      ]
    },
    {
      "cell_type": "markdown",
      "metadata": {
        "id": "fQcmMxX43GRQ"
      },
      "source": [
        "**Preparing the data**"
      ]
    },
    {
      "cell_type": "code",
      "execution_count": 2,
      "metadata": {
        "colab": {
          "base_uri": "https://localhost:8080/"
        },
        "id": "AOrPl6rP3GRQ",
        "outputId": "cc67c4dd-5812-4640-e74e-8ebecd5f4c61"
      },
      "outputs": [
        {
          "output_type": "stream",
          "name": "stdout",
          "text": [
            "Found 20000 files belonging to 2 classes.\n",
            "Found 5000 files belonging to 2 classes.\n",
            "Found 25000 files belonging to 2 classes.\n"
          ]
        }
      ],
      "source": [
        "import os, pathlib, shutil, random\n",
        "from tensorflow import keras\n",
        "batch_size = 32\n",
        "base_dir = pathlib.Path(\"aclImdb\")\n",
        "val_dir = base_dir / \"val\"\n",
        "train_dir = base_dir / \"train\"\n",
        "for category in (\"neg\", \"pos\"):\n",
        "    os.makedirs(val_dir / category)\n",
        "    files = os.listdir(train_dir / category)\n",
        "    random.Random(1337).shuffle(files)\n",
        "    num_val_samples = int(0.2 * len(files))\n",
        "    val_files = files[-num_val_samples:]\n",
        "    for fname in val_files:\n",
        "        shutil.move(train_dir / category / fname,\n",
        "                    val_dir / category / fname)\n",
        "\n",
        "train_ds = keras.utils.text_dataset_from_directory(\n",
        "    \"aclImdb/train\", batch_size=batch_size\n",
        ")\n",
        "val_ds = keras.utils.text_dataset_from_directory(\n",
        "    \"aclImdb/val\", batch_size=batch_size\n",
        ")\n",
        "test_ds = keras.utils.text_dataset_from_directory(\n",
        "    \"aclImdb/test\", batch_size=batch_size\n",
        ")\n",
        "text_only_train_ds = train_ds.map(lambda x, y: x)"
      ]
    },
    {
      "cell_type": "markdown",
      "metadata": {
        "id": "4i_hGffS3GRR"
      },
      "source": [
        "**Preparing integer sequence datasets**"
      ]
    },
    {
      "cell_type": "code",
      "execution_count": 3,
      "metadata": {
        "id": "ouEq7sR13GRR"
      },
      "outputs": [],
      "source": [
        "from tensorflow.keras import layers\n",
        "\n",
        "max_length = 600\n",
        "max_tokens = 20000\n",
        "text_vectorization = layers.TextVectorization(\n",
        "    max_tokens=max_tokens,\n",
        "    output_mode=\"int\",\n",
        "    output_sequence_length=max_length,\n",
        ")\n",
        "text_vectorization.adapt(text_only_train_ds)\n",
        "\n",
        "int_train_ds = train_ds.map(\n",
        "    lambda x, y: (text_vectorization(x), y),\n",
        "    num_parallel_calls=4)\n",
        "int_val_ds = val_ds.map(\n",
        "    lambda x, y: (text_vectorization(x), y),\n",
        "    num_parallel_calls=4)\n",
        "int_test_ds = test_ds.map(\n",
        "    lambda x, y: (text_vectorization(x), y),\n",
        "    num_parallel_calls=4)"
      ]
    },
    {
      "cell_type": "markdown",
      "metadata": {
        "id": "2VAfHXHx3GRS"
      },
      "source": [
        "**A sequence model built on one-hot encoded vector sequences**"
      ]
    },
    {
      "cell_type": "code",
      "execution_count": 4,
      "metadata": {
        "colab": {
          "base_uri": "https://localhost:8080/"
        },
        "id": "V9p7NsCG3GRS",
        "outputId": "2cafc8c5-8478-4826-f81c-35a1b847a360"
      },
      "outputs": [
        {
          "output_type": "stream",
          "name": "stdout",
          "text": [
            "Model: \"model\"\n",
            "_________________________________________________________________\n",
            " Layer (type)                Output Shape              Param #   \n",
            "=================================================================\n",
            " input_1 (InputLayer)        [(None, None)]            0         \n",
            "                                                                 \n",
            " tf.one_hot (TFOpLambda)     (None, None, 20000)       0         \n",
            "                                                                 \n",
            " bidirectional (Bidirectiona  (None, 64)               5128448   \n",
            " l)                                                              \n",
            "                                                                 \n",
            " dropout (Dropout)           (None, 64)                0         \n",
            "                                                                 \n",
            " dense (Dense)               (None, 1)                 65        \n",
            "                                                                 \n",
            "=================================================================\n",
            "Total params: 5,128,513\n",
            "Trainable params: 5,128,513\n",
            "Non-trainable params: 0\n",
            "_________________________________________________________________\n"
          ]
        }
      ],
      "source": [
        "import tensorflow as tf\n",
        "inputs = keras.Input(shape=(None,), dtype=\"int64\")\n",
        "# 将整数编码为20000维的二进制向量\n",
        "embedded = tf.one_hot(inputs, depth=max_tokens)\n",
        "x = layers.Bidirectional(layers.LSTM(32))(embedded)\n",
        "x = layers.Dropout(0.5)(x)\n",
        "outputs = layers.Dense(1, activation=\"sigmoid\")(x)\n",
        "model = keras.Model(inputs, outputs)\n",
        "model.compile(optimizer=\"rmsprop\",\n",
        "              loss=\"binary_crossentropy\",\n",
        "              metrics=[\"accuracy\"])\n",
        "model.summary()"
      ]
    },
    {
      "cell_type": "markdown",
      "metadata": {
        "id": "ePSwuaRA3GRS"
      },
      "source": [
        "**Training a first basic sequence model**"
      ]
    },
    {
      "cell_type": "code",
      "execution_count": 5,
      "metadata": {
        "colab": {
          "base_uri": "https://localhost:8080/"
        },
        "id": "g3PkMHhf3GRS",
        "outputId": "4f7919cb-0c51-4b9b-ed92-7cb71fc4898a"
      },
      "outputs": [
        {
          "output_type": "stream",
          "name": "stdout",
          "text": [
            "Epoch 1/10\n",
            "625/625 [==============================] - 173s 261ms/step - loss: 0.5384 - accuracy: 0.7438 - val_loss: 0.3461 - val_accuracy: 0.8760\n",
            "Epoch 2/10\n",
            "625/625 [==============================] - 170s 271ms/step - loss: 0.3632 - accuracy: 0.8711 - val_loss: 0.3684 - val_accuracy: 0.8644\n",
            "Epoch 3/10\n",
            "625/625 [==============================] - 171s 274ms/step - loss: 0.2828 - accuracy: 0.9014 - val_loss: 0.3835 - val_accuracy: 0.8700\n",
            "Epoch 4/10\n",
            "625/625 [==============================] - 172s 275ms/step - loss: 0.2349 - accuracy: 0.9175 - val_loss: 0.3201 - val_accuracy: 0.8890\n",
            "Epoch 5/10\n",
            "625/625 [==============================] - 172s 275ms/step - loss: 0.2066 - accuracy: 0.9294 - val_loss: 0.3227 - val_accuracy: 0.8734\n",
            "Epoch 6/10\n",
            "625/625 [==============================] - 172s 275ms/step - loss: 0.1941 - accuracy: 0.9373 - val_loss: 0.3165 - val_accuracy: 0.8844\n",
            "Epoch 7/10\n",
            "625/625 [==============================] - 172s 275ms/step - loss: 0.1608 - accuracy: 0.9479 - val_loss: 0.3208 - val_accuracy: 0.8756\n",
            "Epoch 8/10\n",
            "625/625 [==============================] - 173s 276ms/step - loss: 0.1457 - accuracy: 0.9528 - val_loss: 0.5411 - val_accuracy: 0.8566\n",
            "Epoch 9/10\n",
            "625/625 [==============================] - 172s 276ms/step - loss: 0.1398 - accuracy: 0.9559 - val_loss: 0.9055 - val_accuracy: 0.7186\n",
            "Epoch 10/10\n",
            "625/625 [==============================] - 172s 276ms/step - loss: 0.1201 - accuracy: 0.9628 - val_loss: 0.4068 - val_accuracy: 0.8916\n",
            "782/782 [==============================] - 103s 130ms/step - loss: 0.3504 - accuracy: 0.8716\n",
            "Test acc: 0.872\n"
          ]
        }
      ],
      "source": [
        "callbacks = [\n",
        "    keras.callbacks.ModelCheckpoint(\"one_hot_bidir_lstm.keras\",\n",
        "                                    save_best_only=True)\n",
        "]\n",
        "model.fit(int_train_ds, validation_data=int_val_ds, epochs=10, callbacks=callbacks)\n",
        "model = keras.models.load_model(\"one_hot_bidir_lstm.keras\")\n",
        "print(f\"Test acc: {model.evaluate(int_test_ds)[1]:.3f}\")"
      ]
    },
    {
      "cell_type": "markdown",
      "metadata": {
        "id": "pL5pBy1q3GRT"
      },
      "source": [
        "#### Understanding word embeddings"
      ]
    },
    {
      "cell_type": "markdown",
      "metadata": {
        "id": "jxsWAIDw3GRT"
      },
      "source": [
        "#### Learning word embeddings with the Embedding layer"
      ]
    },
    {
      "cell_type": "markdown",
      "metadata": {
        "id": "0eNqjutI3GRT"
      },
      "source": [
        "**Instantiating an `Embedding` layer**"
      ]
    },
    {
      "cell_type": "code",
      "execution_count": 6,
      "metadata": {
        "id": "jDPZu9Ml3GRT"
      },
      "outputs": [],
      "source": [
        "# input_dim词元个数，output_dim嵌入维度\n",
        "embedding_layer = layers.Embedding(input_dim=max_tokens, output_dim=256)"
      ]
    },
    {
      "cell_type": "markdown",
      "metadata": {
        "id": "oSg57NrB3GRT"
      },
      "source": [
        "**Model that uses an `Embedding` layer trained from scratch**"
      ]
    },
    {
      "cell_type": "code",
      "execution_count": 7,
      "metadata": {
        "colab": {
          "base_uri": "https://localhost:8080/"
        },
        "id": "Ezm0wSPc3GRT",
        "outputId": "161c0199-4432-418c-e9fc-0f0303b2b8c4"
      },
      "outputs": [
        {
          "output_type": "stream",
          "name": "stdout",
          "text": [
            "Model: \"model_1\"\n",
            "_________________________________________________________________\n",
            " Layer (type)                Output Shape              Param #   \n",
            "=================================================================\n",
            " input_2 (InputLayer)        [(None, None)]            0         \n",
            "                                                                 \n",
            " embedding_1 (Embedding)     (None, None, 256)         5120000   \n",
            "                                                                 \n",
            " bidirectional_1 (Bidirectio  (None, 64)               73984     \n",
            " nal)                                                            \n",
            "                                                                 \n",
            " dropout_1 (Dropout)         (None, 64)                0         \n",
            "                                                                 \n",
            " dense_1 (Dense)             (None, 1)                 65        \n",
            "                                                                 \n",
            "=================================================================\n",
            "Total params: 5,194,049\n",
            "Trainable params: 5,194,049\n",
            "Non-trainable params: 0\n",
            "_________________________________________________________________\n",
            "Epoch 1/10\n",
            "625/625 [==============================] - 43s 64ms/step - loss: 0.4699 - accuracy: 0.7829 - val_loss: 0.3539 - val_accuracy: 0.8582\n",
            "Epoch 2/10\n",
            "625/625 [==============================] - 33s 53ms/step - loss: 0.3071 - accuracy: 0.8856 - val_loss: 0.4020 - val_accuracy: 0.8568\n",
            "Epoch 3/10\n",
            "625/625 [==============================] - 33s 52ms/step - loss: 0.2436 - accuracy: 0.9133 - val_loss: 0.2998 - val_accuracy: 0.8768\n",
            "Epoch 4/10\n",
            "625/625 [==============================] - 33s 52ms/step - loss: 0.2098 - accuracy: 0.9263 - val_loss: 0.3136 - val_accuracy: 0.8846\n",
            "Epoch 5/10\n",
            "625/625 [==============================] - 33s 52ms/step - loss: 0.1728 - accuracy: 0.9404 - val_loss: 0.3370 - val_accuracy: 0.8828\n",
            "Epoch 6/10\n",
            "625/625 [==============================] - 32s 51ms/step - loss: 0.1462 - accuracy: 0.9532 - val_loss: 0.4544 - val_accuracy: 0.8640\n",
            "Epoch 7/10\n",
            "625/625 [==============================] - 32s 52ms/step - loss: 0.1254 - accuracy: 0.9593 - val_loss: 0.4006 - val_accuracy: 0.8846\n",
            "Epoch 8/10\n",
            "625/625 [==============================] - 32s 52ms/step - loss: 0.0972 - accuracy: 0.9687 - val_loss: 0.4491 - val_accuracy: 0.8822\n",
            "Epoch 9/10\n",
            "625/625 [==============================] - 32s 52ms/step - loss: 0.0854 - accuracy: 0.9743 - val_loss: 0.4045 - val_accuracy: 0.8808\n",
            "Epoch 10/10\n",
            "625/625 [==============================] - 33s 52ms/step - loss: 0.0721 - accuracy: 0.9778 - val_loss: 0.4452 - val_accuracy: 0.8792\n",
            "782/782 [==============================] - 21s 27ms/step - loss: 0.3637 - accuracy: 0.8504\n",
            "Test acc: 0.850\n"
          ]
        }
      ],
      "source": [
        "inputs = keras.Input(shape=(None,), dtype=\"int64\")\n",
        "embedded = layers.Embedding(input_dim=max_tokens, output_dim=256)(inputs)\n",
        "# 双向RNN\n",
        "x = layers.Bidirectional(layers.LSTM(32))(embedded)\n",
        "x = layers.Dropout(0.5)(x)\n",
        "outputs = layers.Dense(1, activation=\"sigmoid\")(x)\n",
        "model = keras.Model(inputs, outputs)\n",
        "model.compile(optimizer=\"rmsprop\",\n",
        "              loss=\"binary_crossentropy\",\n",
        "              metrics=[\"accuracy\"])\n",
        "model.summary()\n",
        "\n",
        "callbacks = [\n",
        "    keras.callbacks.ModelCheckpoint(\"embeddings_bidir_gru.keras\",\n",
        "                                    save_best_only=True)\n",
        "]\n",
        "model.fit(int_train_ds, validation_data=int_val_ds, epochs=10, callbacks=callbacks)\n",
        "model = keras.models.load_model(\"embeddings_bidir_gru.keras\")\n",
        "print(f\"Test acc: {model.evaluate(int_test_ds)[1]:.3f}\")"
      ]
    },
    {
      "cell_type": "markdown",
      "metadata": {
        "id": "xdaiHRJ23GRU"
      },
      "source": [
        "#### Understanding padding and masking"
      ]
    },
    {
      "cell_type": "markdown",
      "metadata": {
        "id": "UeveCSdG3GRU"
      },
      "source": [
        "**Using an `Embedding` layer with masking enabled**"
      ]
    },
    {
      "cell_type": "code",
      "execution_count": 8,
      "metadata": {
        "colab": {
          "base_uri": "https://localhost:8080/"
        },
        "id": "e9XpHsEB3GRU",
        "outputId": "29610c3f-8c58-46cf-f1cc-cf7a9000cdbe"
      },
      "outputs": [
        {
          "output_type": "stream",
          "name": "stdout",
          "text": [
            "Model: \"model_2\"\n",
            "_________________________________________________________________\n",
            " Layer (type)                Output Shape              Param #   \n",
            "=================================================================\n",
            " input_3 (InputLayer)        [(None, None)]            0         \n",
            "                                                                 \n",
            " embedding_2 (Embedding)     (None, None, 256)         5120000   \n",
            "                                                                 \n",
            " bidirectional_2 (Bidirectio  (None, 64)               73984     \n",
            " nal)                                                            \n",
            "                                                                 \n",
            " dropout_2 (Dropout)         (None, 64)                0         \n",
            "                                                                 \n",
            " dense_2 (Dense)             (None, 1)                 65        \n",
            "                                                                 \n",
            "=================================================================\n",
            "Total params: 5,194,049\n",
            "Trainable params: 5,194,049\n",
            "Non-trainable params: 0\n",
            "_________________________________________________________________\n",
            "Epoch 1/10\n",
            "625/625 [==============================] - 50s 68ms/step - loss: 0.4036 - accuracy: 0.8173 - val_loss: 0.2863 - val_accuracy: 0.8836\n",
            "Epoch 2/10\n",
            "625/625 [==============================] - 38s 60ms/step - loss: 0.2345 - accuracy: 0.9104 - val_loss: 0.2732 - val_accuracy: 0.8972\n",
            "Epoch 3/10\n",
            "625/625 [==============================] - 36s 57ms/step - loss: 0.1730 - accuracy: 0.9345 - val_loss: 0.3498 - val_accuracy: 0.8786\n",
            "Epoch 4/10\n",
            "625/625 [==============================] - 36s 58ms/step - loss: 0.1287 - accuracy: 0.9535 - val_loss: 0.3110 - val_accuracy: 0.8804\n",
            "Epoch 5/10\n",
            "625/625 [==============================] - 37s 58ms/step - loss: 0.0949 - accuracy: 0.9657 - val_loss: 0.3377 - val_accuracy: 0.8832\n",
            "Epoch 6/10\n",
            "625/625 [==============================] - 36s 58ms/step - loss: 0.0717 - accuracy: 0.9764 - val_loss: 0.4552 - val_accuracy: 0.8780\n",
            "Epoch 7/10\n",
            "625/625 [==============================] - 37s 59ms/step - loss: 0.0512 - accuracy: 0.9826 - val_loss: 0.4999 - val_accuracy: 0.8740\n",
            "Epoch 8/10\n",
            "625/625 [==============================] - 38s 61ms/step - loss: 0.0365 - accuracy: 0.9888 - val_loss: 0.4997 - val_accuracy: 0.8752\n",
            "Epoch 9/10\n",
            "625/625 [==============================] - 36s 57ms/step - loss: 0.0255 - accuracy: 0.9924 - val_loss: 0.5490 - val_accuracy: 0.8794\n",
            "Epoch 10/10\n",
            "625/625 [==============================] - 36s 58ms/step - loss: 0.0187 - accuracy: 0.9941 - val_loss: 0.7158 - val_accuracy: 0.8732\n",
            "782/782 [==============================] - 26s 30ms/step - loss: 0.3138 - accuracy: 0.8790\n",
            "Test acc: 0.879\n"
          ]
        }
      ],
      "source": [
        "inputs = keras.Input(shape=(None,), dtype=\"int64\")\n",
        "# 使用mask_zero=True启动掩码迭代\n",
        "embedded = layers.Embedding(\n",
        "    input_dim=max_tokens, output_dim=256, mask_zero=True)(inputs)\n",
        "x = layers.Bidirectional(layers.LSTM(32))(embedded)\n",
        "x = layers.Dropout(0.5)(x)\n",
        "outputs = layers.Dense(1, activation=\"sigmoid\")(x)\n",
        "model = keras.Model(inputs, outputs)\n",
        "model.compile(optimizer=\"rmsprop\",\n",
        "              loss=\"binary_crossentropy\",\n",
        "              metrics=[\"accuracy\"])\n",
        "model.summary()\n",
        "\n",
        "callbacks = [\n",
        "    keras.callbacks.ModelCheckpoint(\"embeddings_bidir_gru_with_masking.keras\",\n",
        "                                    save_best_only=True)\n",
        "]\n",
        "model.fit(int_train_ds, validation_data=int_val_ds, epochs=10, callbacks=callbacks)\n",
        "model = keras.models.load_model(\"embeddings_bidir_gru_with_masking.keras\")\n",
        "print(f\"Test acc: {model.evaluate(int_test_ds)[1]:.3f}\")"
      ]
    },
    {
      "cell_type": "markdown",
      "metadata": {
        "id": "vFmPDe0N3GRV"
      },
      "source": [
        "#### Using pretrained word embeddings"
      ]
    },
    {
      "cell_type": "code",
      "execution_count": 9,
      "metadata": {
        "colab": {
          "base_uri": "https://localhost:8080/"
        },
        "id": "QpkNwg7R3GRV",
        "outputId": "fd2771ba-25de-4c2f-d92d-37307dbbdb54"
      },
      "outputs": [
        {
          "output_type": "stream",
          "name": "stdout",
          "text": [
            "--2022-11-23 10:31:58--  http://nlp.stanford.edu/data/glove.6B.zip\n",
            "Resolving nlp.stanford.edu (nlp.stanford.edu)... 171.64.67.140\n",
            "Connecting to nlp.stanford.edu (nlp.stanford.edu)|171.64.67.140|:80... connected.\n",
            "HTTP request sent, awaiting response... 302 Found\n",
            "Location: https://nlp.stanford.edu/data/glove.6B.zip [following]\n",
            "--2022-11-23 10:31:58--  https://nlp.stanford.edu/data/glove.6B.zip\n",
            "Connecting to nlp.stanford.edu (nlp.stanford.edu)|171.64.67.140|:443... connected.\n",
            "HTTP request sent, awaiting response... 301 Moved Permanently\n",
            "Location: https://downloads.cs.stanford.edu/nlp/data/glove.6B.zip [following]\n",
            "--2022-11-23 10:31:59--  https://downloads.cs.stanford.edu/nlp/data/glove.6B.zip\n",
            "Resolving downloads.cs.stanford.edu (downloads.cs.stanford.edu)... 171.64.64.22\n",
            "Connecting to downloads.cs.stanford.edu (downloads.cs.stanford.edu)|171.64.64.22|:443... connected.\n",
            "HTTP request sent, awaiting response... 200 OK\n",
            "Length: 862182613 (822M) [application/zip]\n",
            "Saving to: ‘glove.6B.zip’\n",
            "\n",
            "glove.6B.zip        100%[===================>] 822.24M  5.08MB/s    in 2m 41s  \n",
            "\n",
            "2022-11-23 10:34:41 (5.11 MB/s) - ‘glove.6B.zip’ saved [862182613/862182613]\n",
            "\n"
          ]
        }
      ],
      "source": [
        "!wget http://nlp.stanford.edu/data/glove.6B.zip\n",
        "!unzip -q glove.6B.zip"
      ]
    },
    {
      "cell_type": "markdown",
      "metadata": {
        "id": "yMTzEJ-D3GRV"
      },
      "source": [
        "**Parsing the GloVe word-embeddings file**"
      ]
    },
    {
      "cell_type": "code",
      "execution_count": 10,
      "metadata": {
        "colab": {
          "base_uri": "https://localhost:8080/"
        },
        "id": "dGOeTGL53GRV",
        "outputId": "d88f054b-b2a9-4de8-8a95-33d0e8102ab6"
      },
      "outputs": [
        {
          "output_type": "stream",
          "name": "stdout",
          "text": [
            "Found 400000 word vectors.\n"
          ]
        }
      ],
      "source": [
        "import numpy as np\n",
        "path_to_glove_file = \"glove.6B.100d.txt\"\n",
        "\n",
        "embeddings_index = {}\n",
        "with open(path_to_glove_file) as f:\n",
        "    for line in f:\n",
        "        word, coefs = line.split(maxsplit=1)\n",
        "        coefs = np.fromstring(coefs, \"f\", sep=\" \")\n",
        "        embeddings_index[word] = coefs\n",
        "\n",
        "print(f\"Found {len(embeddings_index)} word vectors.\")"
      ]
    },
    {
      "cell_type": "markdown",
      "metadata": {
        "id": "zZtrH9bY3GRV"
      },
      "source": [
        "**Preparing the GloVe word-embeddings matrix**"
      ]
    },
    {
      "cell_type": "code",
      "execution_count": 11,
      "metadata": {
        "id": "qEdF-gcb3GRV"
      },
      "outputs": [],
      "source": [
        "embedding_dim = 100\n",
        "\n",
        "# 获取索引词表\n",
        "vocabulary = text_vectorization.get_vocabulary()\n",
        "# 创建一个从单词到词表索引映射\n",
        "word_index = dict(zip(vocabulary, range(len(vocabulary))))\n",
        "\n",
        "embedding_matrix = np.zeros((max_tokens, embedding_dim))\n",
        "# 用索引为i的单词的词向量填充矩阵中的第i个元素\n",
        "for word, i in word_index.items():\n",
        "    if i < max_tokens:\n",
        "        embedding_vector = embeddings_index.get(word)\n",
        "    if embedding_vector is not None:\n",
        "        embedding_matrix[i] = embedding_vector"
      ]
    },
    {
      "cell_type": "code",
      "execution_count": 12,
      "metadata": {
        "id": "D_8J-iil3GRV"
      },
      "outputs": [],
      "source": [
        "# 使用trainable=False冻结Embedding层\n",
        "embedding_layer = layers.Embedding(\n",
        "    max_tokens,\n",
        "    embedding_dim,\n",
        "    embeddings_initializer=keras.initializers.Constant(embedding_matrix),\n",
        "    trainable=False,\n",
        "    mask_zero=True,\n",
        ")"
      ]
    },
    {
      "cell_type": "markdown",
      "metadata": {
        "id": "7oRYu96l3GRW"
      },
      "source": [
        "**Model that uses a pretrained Embedding layer**"
      ]
    },
    {
      "cell_type": "code",
      "execution_count": 13,
      "metadata": {
        "colab": {
          "base_uri": "https://localhost:8080/"
        },
        "id": "6wZcPXLi3GRW",
        "outputId": "0ac4ac93-4f7e-4b5e-e604-781a4e0e8acc"
      },
      "outputs": [
        {
          "output_type": "stream",
          "name": "stdout",
          "text": [
            "Model: \"model_3\"\n",
            "_________________________________________________________________\n",
            " Layer (type)                Output Shape              Param #   \n",
            "=================================================================\n",
            " input_4 (InputLayer)        [(None, None)]            0         \n",
            "                                                                 \n",
            " embedding_3 (Embedding)     (None, None, 100)         2000000   \n",
            "                                                                 \n",
            " bidirectional_3 (Bidirectio  (None, 64)               34048     \n",
            " nal)                                                            \n",
            "                                                                 \n",
            " dropout_3 (Dropout)         (None, 64)                0         \n",
            "                                                                 \n",
            " dense_3 (Dense)             (None, 1)                 65        \n",
            "                                                                 \n",
            "=================================================================\n",
            "Total params: 2,034,113\n",
            "Trainable params: 34,113\n",
            "Non-trainable params: 2,000,000\n",
            "_________________________________________________________________\n",
            "Epoch 1/10\n",
            "625/625 [==============================] - 42s 55ms/step - loss: 0.5819 - accuracy: 0.6876 - val_loss: 0.4434 - val_accuracy: 0.8028\n",
            "Epoch 2/10\n",
            "625/625 [==============================] - 32s 52ms/step - loss: 0.4538 - accuracy: 0.7952 - val_loss: 0.3910 - val_accuracy: 0.8246\n",
            "Epoch 3/10\n",
            "625/625 [==============================] - 32s 51ms/step - loss: 0.4029 - accuracy: 0.8235 - val_loss: 0.3653 - val_accuracy: 0.8430\n",
            "Epoch 4/10\n",
            "625/625 [==============================] - 32s 51ms/step - loss: 0.3671 - accuracy: 0.8400 - val_loss: 0.3531 - val_accuracy: 0.8558\n",
            "Epoch 5/10\n",
            "625/625 [==============================] - 33s 52ms/step - loss: 0.3457 - accuracy: 0.8525 - val_loss: 0.3272 - val_accuracy: 0.8640\n",
            "Epoch 6/10\n",
            "625/625 [==============================] - 32s 52ms/step - loss: 0.3242 - accuracy: 0.8636 - val_loss: 0.3255 - val_accuracy: 0.8588\n",
            "Epoch 7/10\n",
            "625/625 [==============================] - 33s 52ms/step - loss: 0.3063 - accuracy: 0.8723 - val_loss: 0.3077 - val_accuracy: 0.8700\n",
            "Epoch 8/10\n",
            "625/625 [==============================] - 31s 50ms/step - loss: 0.2894 - accuracy: 0.8824 - val_loss: 0.3586 - val_accuracy: 0.8346\n",
            "Epoch 9/10\n",
            "625/625 [==============================] - 33s 52ms/step - loss: 0.2704 - accuracy: 0.8891 - val_loss: 0.3055 - val_accuracy: 0.8686\n",
            "Epoch 10/10\n",
            "625/625 [==============================] - 33s 52ms/step - loss: 0.2585 - accuracy: 0.8944 - val_loss: 0.2997 - val_accuracy: 0.8738\n",
            "782/782 [==============================] - 20s 23ms/step - loss: 0.2919 - accuracy: 0.8816\n",
            "Test acc: 0.882\n"
          ]
        }
      ],
      "source": [
        "inputs = keras.Input(shape=(None,), dtype=\"int64\")\n",
        "embedded = embedding_layer(inputs)\n",
        "x = layers.Bidirectional(layers.LSTM(32))(embedded)\n",
        "x = layers.Dropout(0.5)(x)\n",
        "outputs = layers.Dense(1, activation=\"sigmoid\")(x)\n",
        "model = keras.Model(inputs, outputs)\n",
        "model.compile(optimizer=\"rmsprop\",\n",
        "              loss=\"binary_crossentropy\",\n",
        "              metrics=[\"accuracy\"])\n",
        "model.summary()\n",
        "\n",
        "callbacks = [\n",
        "    keras.callbacks.ModelCheckpoint(\"glove_embeddings_sequence_model.keras\",\n",
        "                                    save_best_only=True)\n",
        "]\n",
        "model.fit(int_train_ds, validation_data=int_val_ds, epochs=10, callbacks=callbacks)\n",
        "model = keras.models.load_model(\"glove_embeddings_sequence_model.keras\")\n",
        "print(f\"Test acc: {model.evaluate(int_test_ds)[1]:.3f}\")"
      ]
    }
  ],
  "metadata": {
    "colab": {
      "provenance": []
    },
    "kernelspec": {
      "display_name": "Python 3",
      "language": "python",
      "name": "python3"
    },
    "language_info": {
      "codemirror_mode": {
        "name": "ipython",
        "version": 3
      },
      "file_extension": ".py",
      "mimetype": "text/x-python",
      "name": "python",
      "nbconvert_exporter": "python",
      "pygments_lexer": "ipython3",
      "version": "3.7.0"
    },
    "accelerator": "GPU",
    "gpuClass": "standard"
  },
  "nbformat": 4,
  "nbformat_minor": 0
}