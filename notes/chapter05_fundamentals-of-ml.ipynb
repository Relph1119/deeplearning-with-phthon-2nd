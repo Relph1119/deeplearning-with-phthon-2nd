{
 "cells": [
  {
   "cell_type": "markdown",
   "metadata": {
    "colab_type": "text"
   },
   "source": [
    "This is a companion notebook for the book [Deep Learning with Python, Second Edition](https://www.manning.com/books/deep-learning-with-python-second-edition?a_aid=keras&a_bid=76564dff). For readability, it only contains runnable code blocks and section titles, and omits everything else in the book: text paragraphs, figures, and pseudocode.\n",
    "\n",
    "**If you want to be able to follow what's going on, I recommend reading the notebook side by side with your copy of the book.**\n",
    "\n",
    "This notebook was generated for TensorFlow 2.6."
   ]
  },
  {
   "cell_type": "markdown",
   "metadata": {
    "colab_type": "text"
   },
   "source": [
    "# Fundamentals of machine learning"
   ]
  },
  {
   "cell_type": "markdown",
   "metadata": {
    "colab_type": "text"
   },
   "source": [
    "## Generalization: The goal of machine learning"
   ]
  },
  {
   "cell_type": "markdown",
   "metadata": {
    "colab_type": "text"
   },
   "source": [
    "### Underfitting and overfitting"
   ]
  },
  {
   "cell_type": "markdown",
   "metadata": {
    "colab_type": "text"
   },
   "source": [
    "#### Noisy training data"
   ]
  },
  {
   "cell_type": "markdown",
   "metadata": {
    "colab_type": "text"
   },
   "source": [
    "#### Ambiguous features"
   ]
  },
  {
   "cell_type": "markdown",
   "metadata": {
    "colab_type": "text"
   },
   "source": [
    "#### Rare features and spurious correlations"
   ]
  },
  {
   "cell_type": "markdown",
   "metadata": {
    "colab_type": "text"
   },
   "source": [
    "**Adding white-noise channels or all-zeros channels to MNIST**"
   ]
  },
  {
   "cell_type": "code",
   "execution_count": 1,
   "metadata": {
    "colab_type": "code"
   },
   "outputs": [],
   "source": [
    "from tensorflow.keras.datasets import mnist\n",
    "import numpy as np\n",
    "\n",
    "(train_images, train_labels), _ = mnist.load_data()\n",
    "train_images = train_images.reshape((60000, 28 * 28))\n",
    "train_images = train_images.astype(\"float32\") / 255\n",
    "\n",
    "# 添加白噪声通道\n",
    "train_images_with_noise_channels = np.concatenate(\n",
    "    [train_images, np.random.random((len(train_images), 784))], axis=1)\n",
    "\n",
    "# 添加全零通道\n",
    "train_images_with_zeros_channels = np.concatenate(\n",
    "    [train_images, np.zeros((len(train_images), 784))], axis=1)"
   ]
  },
  {
   "cell_type": "markdown",
   "metadata": {
    "colab_type": "text"
   },
   "source": [
    "**Training the same model on MNIST data with noise channels or all-zero channels**"
   ]
  },
  {
   "cell_type": "code",
   "execution_count": 2,
   "metadata": {
    "colab_type": "code"
   },
   "outputs": [
    {
     "name": "stdout",
     "output_type": "stream",
     "text": [
      "Epoch 1/10\n",
      "375/375 [==============================] - 3s 4ms/step - loss: 0.6296 - accuracy: 0.8111 - val_loss: 0.3273 - val_accuracy: 0.8956\n",
      "Epoch 2/10\n",
      "375/375 [==============================] - 1s 3ms/step - loss: 0.2527 - accuracy: 0.9219 - val_loss: 0.2561 - val_accuracy: 0.9194\n",
      "Epoch 3/10\n",
      "375/375 [==============================] - 1s 4ms/step - loss: 0.1634 - accuracy: 0.9490 - val_loss: 0.1824 - val_accuracy: 0.9450\n",
      "Epoch 4/10\n",
      "375/375 [==============================] - 1s 3ms/step - loss: 0.1161 - accuracy: 0.9634 - val_loss: 0.1401 - val_accuracy: 0.9596\n",
      "Epoch 5/10\n",
      "375/375 [==============================] - 1s 3ms/step - loss: 0.0847 - accuracy: 0.9731 - val_loss: 0.1153 - val_accuracy: 0.9678\n",
      "Epoch 6/10\n",
      "375/375 [==============================] - 1s 3ms/step - loss: 0.0656 - accuracy: 0.9788 - val_loss: 0.1225 - val_accuracy: 0.9665\n",
      "Epoch 7/10\n",
      "375/375 [==============================] - 1s 4ms/step - loss: 0.0468 - accuracy: 0.9843 - val_loss: 0.1283 - val_accuracy: 0.9652\n",
      "Epoch 8/10\n",
      "375/375 [==============================] - 2s 4ms/step - loss: 0.0349 - accuracy: 0.9888 - val_loss: 0.1505 - val_accuracy: 0.9628\n",
      "Epoch 9/10\n",
      "375/375 [==============================] - 1s 4ms/step - loss: 0.0287 - accuracy: 0.9905 - val_loss: 0.1558 - val_accuracy: 0.9607\n",
      "Epoch 10/10\n",
      "375/375 [==============================] - 1s 4ms/step - loss: 0.0212 - accuracy: 0.9932 - val_loss: 0.1387 - val_accuracy: 0.9670\n",
      "Epoch 1/10\n",
      "375/375 [==============================] - 2s 5ms/step - loss: 0.2919 - accuracy: 0.9165 - val_loss: 0.1479 - val_accuracy: 0.9568\n",
      "Epoch 2/10\n",
      "375/375 [==============================] - 1s 4ms/step - loss: 0.1216 - accuracy: 0.9640 - val_loss: 0.1115 - val_accuracy: 0.9672\n",
      "Epoch 3/10\n",
      "375/375 [==============================] - 2s 4ms/step - loss: 0.0788 - accuracy: 0.9767 - val_loss: 0.0981 - val_accuracy: 0.9698\n",
      "Epoch 4/10\n",
      "375/375 [==============================] - 1s 4ms/step - loss: 0.0567 - accuracy: 0.9830 - val_loss: 0.0810 - val_accuracy: 0.9759\n",
      "Epoch 5/10\n",
      "375/375 [==============================] - 1s 4ms/step - loss: 0.0425 - accuracy: 0.9873 - val_loss: 0.0784 - val_accuracy: 0.9762\n",
      "Epoch 6/10\n",
      "375/375 [==============================] - 1s 4ms/step - loss: 0.0320 - accuracy: 0.9908 - val_loss: 0.0816 - val_accuracy: 0.9772\n",
      "Epoch 7/10\n",
      "375/375 [==============================] - 1s 4ms/step - loss: 0.0243 - accuracy: 0.9927 - val_loss: 0.0808 - val_accuracy: 0.9787\n",
      "Epoch 8/10\n",
      "375/375 [==============================] - 1s 4ms/step - loss: 0.0185 - accuracy: 0.9946 - val_loss: 0.0864 - val_accuracy: 0.9781\n",
      "Epoch 9/10\n",
      "375/375 [==============================] - 1s 4ms/step - loss: 0.0141 - accuracy: 0.9960 - val_loss: 0.0908 - val_accuracy: 0.9778\n",
      "Epoch 10/10\n",
      "375/375 [==============================] - 1s 4ms/step - loss: 0.0105 - accuracy: 0.9971 - val_loss: 0.0845 - val_accuracy: 0.9797\n"
     ]
    }
   ],
   "source": [
    "from tensorflow import keras\n",
    "from tensorflow.keras import layers\n",
    "\n",
    "def get_model():\n",
    "    model = keras.Sequential([\n",
    "        layers.Dense(512, activation=\"relu\"),\n",
    "        layers.Dense(10, activation=\"softmax\")\n",
    "    ])\n",
    "    # 稀疏分类交叉熵\n",
    "    model.compile(optimizer=\"rmsprop\",\n",
    "                  loss=\"sparse_categorical_crossentropy\",\n",
    "                  metrics=[\"accuracy\"])\n",
    "    return model\n",
    "\n",
    "model = get_model()\n",
    "# 验证集为20%\n",
    "history_noise = model.fit(\n",
    "    train_images_with_noise_channels, train_labels,\n",
    "    epochs=10,\n",
    "    batch_size=128,\n",
    "    validation_split=0.2)\n",
    "\n",
    "model = get_model()\n",
    "history_zeros = model.fit(\n",
    "    train_images_with_zeros_channels, train_labels,\n",
    "    epochs=10,\n",
    "    batch_size=128,\n",
    "    validation_split=0.2)"
   ]
  },
  {
   "cell_type": "markdown",
   "metadata": {
    "colab_type": "text"
   },
   "source": [
    "**Plotting a validation accuracy comparison**"
   ]
  },
  {
   "cell_type": "code",
   "execution_count": 3,
   "metadata": {
    "colab_type": "code"
   },
   "outputs": [
    {
     "data": {
      "text/plain": [
       "<matplotlib.legend.Legend at 0x2c706116af0>"
      ]
     },
     "execution_count": 3,
     "metadata": {},
     "output_type": "execute_result"
    },
    {
     "data": {
      "image/png": "[encoded data removed]",
      "text/plain": [
       "<Figure size 640x480 with 1 Axes>"
      ]
     },
     "metadata": {},
     "output_type": "display_data"
    }
   ],
   "source": [
    "import matplotlib.pyplot as plt\n",
    "val_acc_noise = history_noise.history[\"val_accuracy\"]\n",
    "val_acc_zeros = history_zeros.history[\"val_accuracy\"]\n",
    "epochs = range(1, 11)\n",
    "plt.plot(epochs, val_acc_noise, \"b-\",\n",
    "         label=\"Validation accuracy with noise channels\")\n",
    "plt.plot(epochs, val_acc_zeros, \"b--\",\n",
    "         label=\"Validation accuracy with zeros channels\")\n",
    "plt.title(\"Effect of noise channels on validation accuracy\")\n",
    "plt.xlabel(\"Epochs\")\n",
    "plt.ylabel(\"Accuracy\")\n",
    "plt.legend()"
   ]
  },
  {
   "cell_type": "markdown",
   "metadata": {
    "colab_type": "text"
   },
   "source": [
    "### The nature of generalization in deep learning"
   ]
  },
  {
   "cell_type": "markdown",
   "metadata": {
    "colab_type": "text"
   },
   "source": [
    "**Fitting a MNIST model with randomly shuffled labels**"
   ]
  },
  {
   "cell_type": "code",
   "execution_count": 5,
   "metadata": {
    "colab_type": "code",
    "scrolled": true
   },
   "outputs": [
    {
     "data": {
      "text/plain": [
       "<keras.callbacks.History at 0x2c712d07700>"
      ]
     },
     "execution_count": 5,
     "metadata": {},
     "output_type": "execute_result"
    }
   ],
   "source": [
    "(train_images, train_labels), _ = mnist.load_data()\n",
    "train_images = train_images.reshape((60000, 28 * 28))\n",
    "train_images = train_images.astype(\"float32\") / 255\n",
    "\n",
    "random_train_labels = train_labels[:]\n",
    "# 将标签随机打乱\n",
    "np.random.shuffle(random_train_labels)\n",
    "\n",
    "model = keras.Sequential([\n",
    "    layers.Dense(512, activation=\"relu\"),\n",
    "    layers.Dense(10, activation=\"softmax\")\n",
    "])\n",
    "model.compile(optimizer=\"rmsprop\",\n",
    "              loss=\"sparse_categorical_crossentropy\",\n",
    "              metrics=[\"accuracy\"])\n",
    "model.fit(train_images, random_train_labels,\n",
    "          epochs=100,\n",
    "          batch_size=128,\n",
    "          validation_split=0.2, verbose=0)"
   ]
  },
  {
   "cell_type": "markdown",
   "metadata": {
    "colab_type": "text"
   },
   "source": [
    "#### The manifold hypothesis"
   ]
  },
  {
   "cell_type": "markdown",
   "metadata": {
    "colab_type": "text"
   },
   "source": [
    "#### Interpolation as a source of generalization"
   ]
  },
  {
   "cell_type": "markdown",
   "metadata": {
    "colab_type": "text"
   },
   "source": [
    "#### Why deep learning works"
   ]
  },
  {
   "cell_type": "markdown",
   "metadata": {
    "colab_type": "text"
   },
   "source": [
    "#### Training data is paramount"
   ]
  },
  {
   "cell_type": "markdown",
   "metadata": {
    "colab_type": "text"
   },
   "source": [
    "## Evaluating machine-learning models"
   ]
  },
  {
   "cell_type": "markdown",
   "metadata": {
    "colab_type": "text"
   },
   "source": [
    "### Training, validation, and test sets"
   ]
  },
  {
   "cell_type": "markdown",
   "metadata": {
    "colab_type": "text"
   },
   "source": [
    "#### Simple hold-out validation"
   ]
  },
  {
   "cell_type": "markdown",
   "metadata": {
    "colab_type": "text"
   },
   "source": [
    "#### K-fold validation"
   ]
  },
  {
   "cell_type": "markdown",
   "metadata": {
    "colab_type": "text"
   },
   "source": [
    "#### Iterated K-fold validation with shuffling"
   ]
  },
  {
   "cell_type": "markdown",
   "metadata": {
    "colab_type": "text"
   },
   "source": [
    "### Beating a common-sense baseline"
   ]
  },
  {
   "cell_type": "markdown",
   "metadata": {
    "colab_type": "text"
   },
   "source": [
    "### Things to keep in mind about model evaluation"
   ]
  },
  {
   "cell_type": "markdown",
   "metadata": {
    "colab_type": "text"
   },
   "source": [
    "## Improving model fit"
   ]
  },
  {
   "cell_type": "markdown",
   "metadata": {
    "colab_type": "text"
   },
   "source": [
    "### Tuning key gradient descent parameters"
   ]
  },
  {
   "cell_type": "markdown",
   "metadata": {
    "colab_type": "text"
   },
   "source": [
    "**Training a MNIST model with an incorrectly high learning rate**"
   ]
  },
  {
   "cell_type": "code",
   "execution_count": 6,
   "metadata": {
    "colab_type": "code"
   },
   "outputs": [
    {
     "name": "stdout",
     "output_type": "stream",
     "text": [
      "Epoch 1/10\n",
      "375/375 [==============================] - 2s 5ms/step - loss: 1132.5944 - accuracy: 0.4512 - val_loss: 10.1530 - val_accuracy: 0.3450\n",
      "Epoch 2/10\n",
      "375/375 [==============================] - 2s 4ms/step - loss: 5.7576 - accuracy: 0.2816 - val_loss: 3.4377 - val_accuracy: 0.2474\n",
      "Epoch 3/10\n",
      "375/375 [==============================] - 2s 4ms/step - loss: 4.7185 - accuracy: 0.2723 - val_loss: 2.1212 - val_accuracy: 0.2822\n",
      "Epoch 4/10\n",
      "375/375 [==============================] - 2s 4ms/step - loss: 3.2106 - accuracy: 0.2608 - val_loss: 2.2722 - val_accuracy: 0.2309\n",
      "Epoch 5/10\n",
      "375/375 [==============================] - 2s 4ms/step - loss: 2.8021 - accuracy: 0.2706 - val_loss: 2.3478 - val_accuracy: 0.3157\n",
      "Epoch 6/10\n",
      "375/375 [==============================] - 2s 4ms/step - loss: 2.7123 - accuracy: 0.2738 - val_loss: 2.3678 - val_accuracy: 0.2765\n",
      "Epoch 7/10\n",
      "375/375 [==============================] - 2s 4ms/step - loss: 3.0988 - accuracy: 0.2790 - val_loss: 3.3263 - val_accuracy: 0.3396\n",
      "Epoch 8/10\n",
      "375/375 [==============================] - 2s 4ms/step - loss: 2.7558 - accuracy: 0.3000 - val_loss: 3.1431 - val_accuracy: 0.3031\n",
      "Epoch 9/10\n",
      "375/375 [==============================] - 2s 4ms/step - loss: 2.5563 - accuracy: 0.3153 - val_loss: 2.2754 - val_accuracy: 0.3227\n",
      "Epoch 10/10\n",
      "375/375 [==============================] - 2s 4ms/step - loss: 2.3391 - accuracy: 0.3001 - val_loss: 3.4421 - val_accuracy: 0.2994\n"
     ]
    },
    {
     "data": {
      "text/plain": [
       "<keras.callbacks.History at 0x2c712263700>"
      ]
     },
     "execution_count": 6,
     "metadata": {},
     "output_type": "execute_result"
    }
   ],
   "source": [
    "(train_images, train_labels), _ = mnist.load_data()\n",
    "train_images = train_images.reshape((60000, 28 * 28))\n",
    "train_images = train_images.astype(\"float32\") / 255\n",
    "\n",
    "model = keras.Sequential([\n",
    "    layers.Dense(512, activation=\"relu\"),\n",
    "    layers.Dense(10, activation=\"softmax\")\n",
    "])\n",
    "model.compile(optimizer=keras.optimizers.RMSprop(1.),\n",
    "              loss=\"sparse_categorical_crossentropy\",\n",
    "              metrics=[\"accuracy\"])\n",
    "model.fit(train_images, train_labels,\n",
    "          epochs=10,\n",
    "          batch_size=128,\n",
    "          validation_split=0.2)"
   ]
  },
  {
   "cell_type": "markdown",
   "metadata": {
    "colab_type": "text"
   },
   "source": [
    "**The same model with a more appropriate learning rate**"
   ]
  },
  {
   "cell_type": "code",
   "execution_count": 7,
   "metadata": {
    "colab_type": "code"
   },
   "outputs": [
    {
     "name": "stdout",
     "output_type": "stream",
     "text": [
      "Epoch 1/10\n",
      "375/375 [==============================] - 2s 5ms/step - loss: 0.3419 - accuracy: 0.9137 - val_loss: 0.1952 - val_accuracy: 0.9528\n",
      "Epoch 2/10\n",
      "375/375 [==============================] - 2s 4ms/step - loss: 0.1458 - accuracy: 0.9630 - val_loss: 0.1531 - val_accuracy: 0.9653\n",
      "Epoch 3/10\n",
      "375/375 [==============================] - 2s 4ms/step - loss: 0.1127 - accuracy: 0.9730 - val_loss: 0.2019 - val_accuracy: 0.9641\n",
      "Epoch 4/10\n",
      "375/375 [==============================] - 2s 4ms/step - loss: 0.1020 - accuracy: 0.9779 - val_loss: 0.2060 - val_accuracy: 0.9693\n",
      "Epoch 5/10\n",
      "375/375 [==============================] - 2s 4ms/step - loss: 0.0905 - accuracy: 0.9811 - val_loss: 0.2384 - val_accuracy: 0.9672\n",
      "Epoch 6/10\n",
      "375/375 [==============================] - 2s 4ms/step - loss: 0.0800 - accuracy: 0.9845 - val_loss: 0.2484 - val_accuracy: 0.9703\n",
      "Epoch 7/10\n",
      "375/375 [==============================] - 2s 4ms/step - loss: 0.0758 - accuracy: 0.9864 - val_loss: 0.2761 - val_accuracy: 0.9693\n",
      "Epoch 8/10\n",
      "375/375 [==============================] - 2s 4ms/step - loss: 0.0734 - accuracy: 0.9868 - val_loss: 0.2617 - val_accuracy: 0.9731\n",
      "Epoch 9/10\n",
      "375/375 [==============================] - 2s 4ms/step - loss: 0.0672 - accuracy: 0.9881 - val_loss: 0.3057 - val_accuracy: 0.9759\n",
      "Epoch 10/10\n",
      "375/375 [==============================] - 2s 5ms/step - loss: 0.0609 - accuracy: 0.9901 - val_loss: 0.3208 - val_accuracy: 0.9732\n"
     ]
    },
    {
     "data": {
      "text/plain": [
       "<keras.callbacks.History at 0x2c70636f610>"
      ]
     },
     "execution_count": 7,
     "metadata": {},
     "output_type": "execute_result"
    }
   ],
   "source": [
    "model = keras.Sequential([\n",
    "    layers.Dense(512, activation=\"relu\"),\n",
    "    layers.Dense(10, activation=\"softmax\")\n",
    "])\n",
    "model.compile(optimizer=keras.optimizers.RMSprop(1e-2),\n",
    "              loss=\"sparse_categorical_crossentropy\",\n",
    "              metrics=[\"accuracy\"])\n",
    "model.fit(train_images, train_labels,\n",
    "          epochs=10,\n",
    "          batch_size=128,\n",
    "          validation_split=0.2)"
   ]
  },
  {
   "cell_type": "markdown",
   "metadata": {
    "colab_type": "text"
   },
   "source": [
    "### Leveraging better architecture priors"
   ]
  },
  {
   "cell_type": "markdown",
   "metadata": {
    "colab_type": "text"
   },
   "source": [
    "### Increasing model capacity"
   ]
  },
  {
   "cell_type": "markdown",
   "metadata": {
    "colab_type": "text"
   },
   "source": [
    "**A simple logistic regression on MNIST**"
   ]
  },
  {
   "cell_type": "code",
   "execution_count": 8,
   "metadata": {
    "colab_type": "code"
   },
   "outputs": [
    {
     "name": "stdout",
     "output_type": "stream",
     "text": [
      "Epoch 1/20\n",
      "375/375 [==============================] - 2s 4ms/step - loss: 0.6680 - accuracy: 0.8346 - val_loss: 0.3588 - val_accuracy: 0.9030\n",
      "Epoch 2/20\n",
      "375/375 [==============================] - 1s 3ms/step - loss: 0.3507 - accuracy: 0.9027 - val_loss: 0.3065 - val_accuracy: 0.9143\n",
      "Epoch 3/20\n",
      "375/375 [==============================] - 1s 3ms/step - loss: 0.3154 - accuracy: 0.9125 - val_loss: 0.2903 - val_accuracy: 0.9195\n",
      "Epoch 4/20\n",
      "375/375 [==============================] - 1s 3ms/step - loss: 0.2991 - accuracy: 0.9160 - val_loss: 0.2815 - val_accuracy: 0.9219\n",
      "Epoch 5/20\n",
      "375/375 [==============================] - 1s 3ms/step - loss: 0.2897 - accuracy: 0.9190 - val_loss: 0.2748 - val_accuracy: 0.9242\n",
      "Epoch 6/20\n",
      "375/375 [==============================] - 1s 3ms/step - loss: 0.2830 - accuracy: 0.9206 - val_loss: 0.2728 - val_accuracy: 0.9255\n",
      "Epoch 7/20\n",
      "375/375 [==============================] - 1s 3ms/step - loss: 0.2780 - accuracy: 0.9224 - val_loss: 0.2685 - val_accuracy: 0.9274\n",
      "Epoch 8/20\n",
      "375/375 [==============================] - 1s 3ms/step - loss: 0.2744 - accuracy: 0.9238 - val_loss: 0.2682 - val_accuracy: 0.9260\n",
      "Epoch 9/20\n",
      "375/375 [==============================] - 1s 3ms/step - loss: 0.2713 - accuracy: 0.9246 - val_loss: 0.2640 - val_accuracy: 0.9288\n",
      "Epoch 10/20\n",
      "375/375 [==============================] - 1s 3ms/step - loss: 0.2688 - accuracy: 0.9254 - val_loss: 0.2640 - val_accuracy: 0.9277\n",
      "Epoch 11/20\n",
      "375/375 [==============================] - 1s 3ms/step - loss: 0.2667 - accuracy: 0.9256 - val_loss: 0.2635 - val_accuracy: 0.9288\n",
      "Epoch 12/20\n",
      "375/375 [==============================] - 1s 3ms/step - loss: 0.2648 - accuracy: 0.9273 - val_loss: 0.2618 - val_accuracy: 0.9293\n",
      "Epoch 13/20\n",
      "375/375 [==============================] - 1s 3ms/step - loss: 0.2632 - accuracy: 0.9275 - val_loss: 0.2631 - val_accuracy: 0.9282\n",
      "Epoch 14/20\n",
      "375/375 [==============================] - 1s 3ms/step - loss: 0.2618 - accuracy: 0.9274 - val_loss: 0.2632 - val_accuracy: 0.9292\n",
      "Epoch 15/20\n",
      "375/375 [==============================] - 1s 3ms/step - loss: 0.2602 - accuracy: 0.9283 - val_loss: 0.2628 - val_accuracy: 0.9300\n",
      "Epoch 16/20\n",
      "375/375 [==============================] - 1s 3ms/step - loss: 0.2592 - accuracy: 0.9290 - val_loss: 0.2617 - val_accuracy: 0.9298\n",
      "Epoch 17/20\n",
      "375/375 [==============================] - 1s 3ms/step - loss: 0.2582 - accuracy: 0.9293 - val_loss: 0.2607 - val_accuracy: 0.9312\n",
      "Epoch 18/20\n",
      "375/375 [==============================] - 1s 3ms/step - loss: 0.2571 - accuracy: 0.9296 - val_loss: 0.2600 - val_accuracy: 0.9310\n",
      "Epoch 19/20\n",
      "375/375 [==============================] - 1s 3ms/step - loss: 0.2565 - accuracy: 0.9293 - val_loss: 0.2619 - val_accuracy: 0.9314\n",
      "Epoch 20/20\n",
      "375/375 [==============================] - 1s 3ms/step - loss: 0.2557 - accuracy: 0.9300 - val_loss: 0.2626 - val_accuracy: 0.9300\n"
     ]
    }
   ],
   "source": [
    "model = keras.Sequential([layers.Dense(10, activation=\"softmax\")])\n",
    "model.compile(optimizer=\"rmsprop\",\n",
    "              loss=\"sparse_categorical_crossentropy\",\n",
    "              metrics=[\"accuracy\"])\n",
    "history_small_model = model.fit(\n",
    "    train_images, train_labels,\n",
    "    epochs=20,\n",
    "    batch_size=128,\n",
    "    validation_split=0.2)"
   ]
  },
  {
   "cell_type": "code",
   "execution_count": 9,
   "metadata": {
    "colab_type": "code"
   },
   "outputs": [
    {
     "data": {
      "text/plain": [
       "<matplotlib.legend.Legend at 0x2c7128327c0>"
      ]
     },
     "execution_count": 9,
     "metadata": {},
     "output_type": "execute_result"
    },
    {
     "data": {
      "image/png": "[encoded data removed]",
      "text/plain": [
       "<Figure size 640x480 with 1 Axes>"
      ]
     },
     "metadata": {},
     "output_type": "display_data"
    }
   ],
   "source": [
    "import matplotlib.pyplot as plt\n",
    "val_loss = history_small_model.history[\"val_loss\"]\n",
    "epochs = range(1, 21)\n",
    "plt.plot(epochs, val_loss, \"b--\",\n",
    "         label=\"Validation loss\")\n",
    "plt.title(\"Effect of insufficient model capacity on validation loss\")\n",
    "plt.xlabel(\"Epochs\")\n",
    "plt.ylabel(\"Loss\")\n",
    "plt.legend()"
   ]
  },
  {
   "cell_type": "code",
   "execution_count": 10,
   "metadata": {
    "colab_type": "code"
   },
   "outputs": [
    {
     "name": "stdout",
     "output_type": "stream",
     "text": [
      "Epoch 1/20\n",
      "375/375 [==============================] - 3s 6ms/step - loss: 0.3604 - accuracy: 0.8990 - val_loss: 0.1892 - val_accuracy: 0.9458\n",
      "Epoch 2/20\n",
      "375/375 [==============================] - 2s 5ms/step - loss: 0.1605 - accuracy: 0.9523 - val_loss: 0.1507 - val_accuracy: 0.9542\n",
      "Epoch 3/20\n",
      "375/375 [==============================] - 2s 5ms/step - loss: 0.1128 - accuracy: 0.9675 - val_loss: 0.1125 - val_accuracy: 0.9672\n",
      "Epoch 4/20\n",
      "375/375 [==============================] - 2s 5ms/step - loss: 0.0867 - accuracy: 0.9739 - val_loss: 0.1028 - val_accuracy: 0.9689\n",
      "Epoch 5/20\n",
      "375/375 [==============================] - 2s 5ms/step - loss: 0.0701 - accuracy: 0.9789 - val_loss: 0.0970 - val_accuracy: 0.9720\n",
      "Epoch 6/20\n",
      "375/375 [==============================] - 2s 5ms/step - loss: 0.0572 - accuracy: 0.9829 - val_loss: 0.0981 - val_accuracy: 0.9719\n",
      "Epoch 7/20\n",
      "375/375 [==============================] - 2s 5ms/step - loss: 0.0478 - accuracy: 0.9854 - val_loss: 0.0969 - val_accuracy: 0.9737\n",
      "Epoch 8/20\n",
      "375/375 [==============================] - 2s 5ms/step - loss: 0.0404 - accuracy: 0.9876 - val_loss: 0.0910 - val_accuracy: 0.9743\n",
      "Epoch 9/20\n",
      "375/375 [==============================] - 2s 5ms/step - loss: 0.0342 - accuracy: 0.9900 - val_loss: 0.0947 - val_accuracy: 0.9745\n",
      "Epoch 10/20\n",
      "375/375 [==============================] - 2s 5ms/step - loss: 0.0279 - accuracy: 0.9913 - val_loss: 0.1007 - val_accuracy: 0.9743\n",
      "Epoch 11/20\n",
      "375/375 [==============================] - 2s 5ms/step - loss: 0.0231 - accuracy: 0.9928 - val_loss: 0.1012 - val_accuracy: 0.9740\n",
      "Epoch 12/20\n",
      "375/375 [==============================] - 2s 5ms/step - loss: 0.0201 - accuracy: 0.9941 - val_loss: 0.1098 - val_accuracy: 0.9746\n",
      "Epoch 13/20\n",
      "375/375 [==============================] - 2s 5ms/step - loss: 0.0179 - accuracy: 0.9944 - val_loss: 0.1267 - val_accuracy: 0.9712\n",
      "Epoch 14/20\n",
      "375/375 [==============================] - 2s 5ms/step - loss: 0.0146 - accuracy: 0.9953 - val_loss: 0.1276 - val_accuracy: 0.9719\n",
      "Epoch 15/20\n",
      "375/375 [==============================] - 2s 5ms/step - loss: 0.0127 - accuracy: 0.9961 - val_loss: 0.1148 - val_accuracy: 0.9761\n",
      "Epoch 16/20\n",
      "375/375 [==============================] - 2s 5ms/step - loss: 0.0099 - accuracy: 0.9968 - val_loss: 0.1224 - val_accuracy: 0.9735\n",
      "Epoch 17/20\n",
      "375/375 [==============================] - 2s 5ms/step - loss: 0.0093 - accuracy: 0.9971 - val_loss: 0.1279 - val_accuracy: 0.9756\n",
      "Epoch 18/20\n",
      "375/375 [==============================] - 2s 5ms/step - loss: 0.0081 - accuracy: 0.9976 - val_loss: 0.1279 - val_accuracy: 0.9748\n",
      "Epoch 19/20\n",
      "375/375 [==============================] - 2s 5ms/step - loss: 0.0067 - accuracy: 0.9981 - val_loss: 0.1366 - val_accuracy: 0.9747\n",
      "Epoch 20/20\n",
      "375/375 [==============================] - 2s 5ms/step - loss: 0.0061 - accuracy: 0.9980 - val_loss: 0.1311 - val_accuracy: 0.9768\n"
     ]
    }
   ],
   "source": [
    "model = keras.Sequential([\n",
    "    layers.Dense(96, activation=\"relu\"),\n",
    "    layers.Dense(96, activation=\"relu\"),\n",
    "    layers.Dense(10, activation=\"softmax\"),\n",
    "])\n",
    "model.compile(optimizer=\"rmsprop\",\n",
    "              loss=\"sparse_categorical_crossentropy\",\n",
    "              metrics=[\"accuracy\"])\n",
    "history_large_model = model.fit(\n",
    "    train_images, train_labels,\n",
    "    epochs=20,\n",
    "    batch_size=128,\n",
    "    validation_split=0.2)"
   ]
  },
  {
   "cell_type": "markdown",
   "metadata": {
    "colab_type": "text"
   },
   "source": [
    "## Improving generalization"
   ]
  },
  {
   "cell_type": "markdown",
   "metadata": {
    "colab_type": "text"
   },
   "source": [
    "### Dataset curation"
   ]
  },
  {
   "cell_type": "markdown",
   "metadata": {
    "colab_type": "text"
   },
   "source": [
    "### Feature engineering"
   ]
  },
  {
   "cell_type": "markdown",
   "metadata": {
    "colab_type": "text"
   },
   "source": [
    "### Using early stopping"
   ]
  },
  {
   "cell_type": "markdown",
   "metadata": {
    "colab_type": "text"
   },
   "source": [
    "### Regularizing your model"
   ]
  },
  {
   "cell_type": "markdown",
   "metadata": {
    "colab_type": "text"
   },
   "source": [
    "#### Reducing the network's size"
   ]
  },
  {
   "cell_type": "markdown",
   "metadata": {
    "colab_type": "text"
   },
   "source": [
    "**Original model**"
   ]
  },
  {
   "cell_type": "code",
   "execution_count": 11,
   "metadata": {
    "colab_type": "code"
   },
   "outputs": [
    {
     "name": "stdout",
     "output_type": "stream",
     "text": [
      "Epoch 1/20\n",
      "30/30 [==============================] - 1s 29ms/step - loss: 0.5210 - accuracy: 0.7797 - val_loss: 0.3941 - val_accuracy: 0.8724\n",
      "Epoch 2/20\n",
      "30/30 [==============================] - 0s 15ms/step - loss: 0.3176 - accuracy: 0.8992 - val_loss: 0.3100 - val_accuracy: 0.8888\n",
      "Epoch 3/20\n",
      "30/30 [==============================] - 0s 15ms/step - loss: 0.2357 - accuracy: 0.9255 - val_loss: 0.3017 - val_accuracy: 0.8804\n",
      "Epoch 4/20\n",
      "30/30 [==============================] - 0s 15ms/step - loss: 0.1898 - accuracy: 0.9406 - val_loss: 0.2786 - val_accuracy: 0.8911\n",
      "Epoch 5/20\n",
      "30/30 [==============================] - 0s 15ms/step - loss: 0.1522 - accuracy: 0.9516 - val_loss: 0.2761 - val_accuracy: 0.8912\n",
      "Epoch 6/20\n",
      "30/30 [==============================] - 0s 15ms/step - loss: 0.1279 - accuracy: 0.9599 - val_loss: 0.2889 - val_accuracy: 0.8869\n",
      "Epoch 7/20\n",
      "30/30 [==============================] - 0s 15ms/step - loss: 0.1073 - accuracy: 0.9677 - val_loss: 0.3116 - val_accuracy: 0.8843\n",
      "Epoch 8/20\n",
      "30/30 [==============================] - 0s 15ms/step - loss: 0.0889 - accuracy: 0.9741 - val_loss: 0.3213 - val_accuracy: 0.8823\n",
      "Epoch 9/20\n",
      "30/30 [==============================] - 0s 15ms/step - loss: 0.0723 - accuracy: 0.9813 - val_loss: 0.3554 - val_accuracy: 0.8783\n",
      "Epoch 10/20\n",
      "30/30 [==============================] - 0s 15ms/step - loss: 0.0633 - accuracy: 0.9841 - val_loss: 0.3649 - val_accuracy: 0.8792\n",
      "Epoch 11/20\n",
      "30/30 [==============================] - 0s 15ms/step - loss: 0.0493 - accuracy: 0.9887 - val_loss: 0.4096 - val_accuracy: 0.8745\n",
      "Epoch 12/20\n",
      "30/30 [==============================] - 0s 15ms/step - loss: 0.0422 - accuracy: 0.9899 - val_loss: 0.4134 - val_accuracy: 0.8761\n",
      "Epoch 13/20\n",
      "30/30 [==============================] - 0s 15ms/step - loss: 0.0337 - accuracy: 0.9927 - val_loss: 0.4464 - val_accuracy: 0.8750\n",
      "Epoch 14/20\n",
      "30/30 [==============================] - 0s 15ms/step - loss: 0.0261 - accuracy: 0.9955 - val_loss: 0.4864 - val_accuracy: 0.8725\n",
      "Epoch 15/20\n",
      "30/30 [==============================] - 0s 15ms/step - loss: 0.0223 - accuracy: 0.9953 - val_loss: 0.5104 - val_accuracy: 0.8723\n",
      "Epoch 16/20\n",
      "30/30 [==============================] - 0s 15ms/step - loss: 0.0181 - accuracy: 0.9967 - val_loss: 0.5428 - val_accuracy: 0.8714\n",
      "Epoch 17/20\n",
      "30/30 [==============================] - 0s 15ms/step - loss: 0.0136 - accuracy: 0.9982 - val_loss: 0.5744 - val_accuracy: 0.8712\n",
      "Epoch 18/20\n",
      "30/30 [==============================] - 0s 15ms/step - loss: 0.0109 - accuracy: 0.9983 - val_loss: 0.6086 - val_accuracy: 0.8690\n",
      "Epoch 19/20\n",
      "30/30 [==============================] - 0s 15ms/step - loss: 0.0072 - accuracy: 0.9994 - val_loss: 0.6635 - val_accuracy: 0.8659\n",
      "Epoch 20/20\n",
      "30/30 [==============================] - 0s 15ms/step - loss: 0.0090 - accuracy: 0.9979 - val_loss: 0.6822 - val_accuracy: 0.8667\n"
     ]
    }
   ],
   "source": [
    "from tensorflow.keras.datasets import imdb\n",
    "(train_data, train_labels), _ = imdb.load_data(num_words=10000)\n",
    "\n",
    "def vectorize_sequences(sequences, dimension=10000):\n",
    "    results = np.zeros((len(sequences), dimension))\n",
    "    for i, sequence in enumerate(sequences):\n",
    "        results[i, sequence] = 1.\n",
    "    return results\n",
    "train_data = vectorize_sequences(train_data)\n",
    "\n",
    "model = keras.Sequential([\n",
    "    layers.Dense(16, activation=\"relu\"),\n",
    "    layers.Dense(16, activation=\"relu\"),\n",
    "    layers.Dense(1, activation=\"sigmoid\")\n",
    "])\n",
    "model.compile(optimizer=\"rmsprop\",\n",
    "              loss=\"binary_crossentropy\",\n",
    "              metrics=[\"accuracy\"])\n",
    "history_original = model.fit(train_data, train_labels,\n",
    "                             epochs=20, batch_size=512, validation_split=0.4)"
   ]
  },
  {
   "cell_type": "markdown",
   "metadata": {
    "colab_type": "text"
   },
   "source": [
    "**Version of the model with lower capacity**"
   ]
  },
  {
   "cell_type": "code",
   "execution_count": 12,
   "metadata": {
    "colab_type": "code"
   },
   "outputs": [
    {
     "name": "stdout",
     "output_type": "stream",
     "text": [
      "Epoch 1/20\n",
      "30/30 [==============================] - 1s 30ms/step - loss: 0.6546 - accuracy: 0.5897 - val_loss: 0.6104 - val_accuracy: 0.6914\n",
      "Epoch 2/20\n",
      "30/30 [==============================] - 0s 15ms/step - loss: 0.5805 - accuracy: 0.7297 - val_loss: 0.5609 - val_accuracy: 0.7708\n",
      "Epoch 3/20\n",
      "30/30 [==============================] - 0s 15ms/step - loss: 0.5308 - accuracy: 0.8018 - val_loss: 0.5286 - val_accuracy: 0.7681\n",
      "Epoch 4/20\n",
      "30/30 [==============================] - 0s 15ms/step - loss: 0.4923 - accuracy: 0.8443 - val_loss: 0.4996 - val_accuracy: 0.8244\n",
      "Epoch 5/20\n",
      "30/30 [==============================] - 0s 15ms/step - loss: 0.4610 - accuracy: 0.8756 - val_loss: 0.4830 - val_accuracy: 0.8244\n",
      "Epoch 6/20\n",
      "30/30 [==============================] - 0s 15ms/step - loss: 0.4355 - accuracy: 0.8957 - val_loss: 0.4650 - val_accuracy: 0.8552\n",
      "Epoch 7/20\n",
      "30/30 [==============================] - 0s 15ms/step - loss: 0.4133 - accuracy: 0.9135 - val_loss: 0.4520 - val_accuracy: 0.8695\n",
      "Epoch 8/20\n",
      "30/30 [==============================] - 0s 15ms/step - loss: 0.3933 - accuracy: 0.9270 - val_loss: 0.4435 - val_accuracy: 0.8723\n",
      "Epoch 9/20\n",
      "30/30 [==============================] - 0s 15ms/step - loss: 0.3761 - accuracy: 0.9375 - val_loss: 0.4432 - val_accuracy: 0.8658\n",
      "Epoch 10/20\n",
      "30/30 [==============================] - 0s 15ms/step - loss: 0.3601 - accuracy: 0.9462 - val_loss: 0.4374 - val_accuracy: 0.8699\n",
      "Epoch 11/20\n",
      "30/30 [==============================] - 0s 15ms/step - loss: 0.3455 - accuracy: 0.9539 - val_loss: 0.4280 - val_accuracy: 0.8784\n",
      "Epoch 12/20\n",
      "30/30 [==============================] - 0s 15ms/step - loss: 0.3320 - accuracy: 0.9606 - val_loss: 0.4601 - val_accuracy: 0.8526\n",
      "Epoch 13/20\n",
      "30/30 [==============================] - 0s 15ms/step - loss: 0.3197 - accuracy: 0.9640 - val_loss: 0.4481 - val_accuracy: 0.8636\n",
      "Epoch 14/20\n",
      "30/30 [==============================] - 0s 15ms/step - loss: 0.3082 - accuracy: 0.9695 - val_loss: 0.4367 - val_accuracy: 0.8740\n",
      "Epoch 15/20\n",
      "30/30 [==============================] - 0s 15ms/step - loss: 0.2971 - accuracy: 0.9729 - val_loss: 0.4580 - val_accuracy: 0.8655\n",
      "Epoch 16/20\n",
      "30/30 [==============================] - 0s 15ms/step - loss: 0.2869 - accuracy: 0.9761 - val_loss: 0.4404 - val_accuracy: 0.8758\n",
      "Epoch 17/20\n",
      "30/30 [==============================] - 0s 15ms/step - loss: 0.2768 - accuracy: 0.9793 - val_loss: 0.5046 - val_accuracy: 0.8521\n",
      "Epoch 18/20\n",
      "30/30 [==============================] - 0s 15ms/step - loss: 0.2681 - accuracy: 0.9817 - val_loss: 0.4779 - val_accuracy: 0.8649\n",
      "Epoch 19/20\n",
      "30/30 [==============================] - 0s 15ms/step - loss: 0.2593 - accuracy: 0.9833 - val_loss: 0.4703 - val_accuracy: 0.8704\n",
      "Epoch 20/20\n",
      "30/30 [==============================] - 0s 15ms/step - loss: 0.2506 - accuracy: 0.9843 - val_loss: 0.5114 - val_accuracy: 0.8599\n"
     ]
    }
   ],
   "source": [
    "model = keras.Sequential([\n",
    "    layers.Dense(4, activation=\"relu\"),\n",
    "    layers.Dense(4, activation=\"relu\"),\n",
    "    layers.Dense(1, activation=\"sigmoid\")\n",
    "])\n",
    "model.compile(optimizer=\"rmsprop\",\n",
    "              loss=\"binary_crossentropy\",\n",
    "              metrics=[\"accuracy\"])\n",
    "history_smaller_model = model.fit(\n",
    "    train_data, train_labels,\n",
    "    epochs=20, batch_size=512, validation_split=0.4)"
   ]
  },
  {
   "cell_type": "markdown",
   "metadata": {
    "colab_type": "text"
   },
   "source": [
    "**Version of the model with higher capacity**"
   ]
  },
  {
   "cell_type": "code",
   "execution_count": 13,
   "metadata": {
    "colab_type": "code"
   },
   "outputs": [
    {
     "name": "stdout",
     "output_type": "stream",
     "text": [
      "Epoch 1/20\n",
      "30/30 [==============================] - 2s 42ms/step - loss: 0.5515 - accuracy: 0.7604 - val_loss: 0.3014 - val_accuracy: 0.8833\n",
      "Epoch 2/20\n",
      "30/30 [==============================] - 1s 17ms/step - loss: 0.2550 - accuracy: 0.8968 - val_loss: 0.3980 - val_accuracy: 0.8383\n",
      "Epoch 3/20\n",
      "30/30 [==============================] - 1s 17ms/step - loss: 0.1608 - accuracy: 0.9375 - val_loss: 0.3070 - val_accuracy: 0.8877\n",
      "Epoch 4/20\n",
      "30/30 [==============================] - 0s 17ms/step - loss: 0.0982 - accuracy: 0.9674 - val_loss: 0.3428 - val_accuracy: 0.8895\n",
      "Epoch 5/20\n",
      "30/30 [==============================] - 0s 17ms/step - loss: 0.0354 - accuracy: 0.9909 - val_loss: 0.5898 - val_accuracy: 0.8266\n",
      "Epoch 6/20\n",
      "30/30 [==============================] - 1s 17ms/step - loss: 0.0070 - accuracy: 0.9994 - val_loss: 0.5372 - val_accuracy: 0.8825\n",
      "Epoch 7/20\n",
      "30/30 [==============================] - 0s 17ms/step - loss: 8.5276e-04 - accuracy: 0.9999 - val_loss: 0.6366 - val_accuracy: 0.8850\n",
      "Epoch 8/20\n",
      "30/30 [==============================] - 0s 17ms/step - loss: 1.0863e-04 - accuracy: 1.0000 - val_loss: 0.9981 - val_accuracy: 0.8670\n",
      "Epoch 9/20\n",
      "30/30 [==============================] - 1s 18ms/step - loss: 0.2623 - accuracy: 0.9744 - val_loss: 0.5631 - val_accuracy: 0.8839\n",
      "Epoch 10/20\n",
      "30/30 [==============================] - 1s 18ms/step - loss: 3.7049e-04 - accuracy: 1.0000 - val_loss: 0.6170 - val_accuracy: 0.8857\n",
      "Epoch 11/20\n",
      "30/30 [==============================] - 0s 17ms/step - loss: 1.1922e-04 - accuracy: 1.0000 - val_loss: 0.6906 - val_accuracy: 0.8867\n",
      "Epoch 12/20\n",
      "30/30 [==============================] - 0s 17ms/step - loss: 3.6289e-05 - accuracy: 1.0000 - val_loss: 0.7892 - val_accuracy: 0.8858\n",
      "Epoch 13/20\n",
      "30/30 [==============================] - 0s 17ms/step - loss: 9.1389e-06 - accuracy: 1.0000 - val_loss: 0.8858 - val_accuracy: 0.8864\n",
      "Epoch 14/20\n",
      "30/30 [==============================] - 0s 17ms/step - loss: 2.2441e-06 - accuracy: 1.0000 - val_loss: 0.9798 - val_accuracy: 0.8860\n",
      "Epoch 15/20\n",
      "30/30 [==============================] - 1s 17ms/step - loss: 6.7870e-07 - accuracy: 1.0000 - val_loss: 1.0572 - val_accuracy: 0.8861\n",
      "Epoch 16/20\n",
      "30/30 [==============================] - 0s 17ms/step - loss: 2.3902e-07 - accuracy: 1.0000 - val_loss: 1.1274 - val_accuracy: 0.8850\n",
      "Epoch 17/20\n",
      "30/30 [==============================] - 0s 17ms/step - loss: 9.2167e-08 - accuracy: 1.0000 - val_loss: 1.1889 - val_accuracy: 0.8855\n",
      "Epoch 18/20\n",
      "30/30 [==============================] - 0s 17ms/step - loss: 4.2522e-08 - accuracy: 1.0000 - val_loss: 1.2387 - val_accuracy: 0.8844\n",
      "Epoch 19/20\n",
      "30/30 [==============================] - 0s 17ms/step - loss: 2.4451e-08 - accuracy: 1.0000 - val_loss: 1.2694 - val_accuracy: 0.8842\n",
      "Epoch 20/20\n",
      "30/30 [==============================] - 0s 16ms/step - loss: 1.6867e-08 - accuracy: 1.0000 - val_loss: 1.2928 - val_accuracy: 0.8845\n"
     ]
    }
   ],
   "source": [
    "model = keras.Sequential([\n",
    "    layers.Dense(512, activation=\"relu\"),\n",
    "    layers.Dense(512, activation=\"relu\"),\n",
    "    layers.Dense(1, activation=\"sigmoid\")\n",
    "])\n",
    "model.compile(optimizer=\"rmsprop\",\n",
    "              loss=\"binary_crossentropy\",\n",
    "              metrics=[\"accuracy\"])\n",
    "history_larger_model = model.fit(\n",
    "    train_data, train_labels,\n",
    "    epochs=20, batch_size=512, validation_split=0.4)"
   ]
  },
  {
   "cell_type": "markdown",
   "metadata": {
    "colab_type": "text"
   },
   "source": [
    "#### Adding weight regularization"
   ]
  },
  {
   "cell_type": "markdown",
   "metadata": {
    "colab_type": "text"
   },
   "source": [
    "**Adding L2 weight regularization to the model**"
   ]
  },
  {
   "cell_type": "code",
   "execution_count": 14,
   "metadata": {
    "colab_type": "code"
   },
   "outputs": [
    {
     "name": "stdout",
     "output_type": "stream",
     "text": [
      "Epoch 1/20\n",
      "30/30 [==============================] - 1s 30ms/step - loss: 0.5950 - accuracy: 0.7829 - val_loss: 0.4614 - val_accuracy: 0.8688\n",
      "Epoch 2/20\n",
      "30/30 [==============================] - 0s 17ms/step - loss: 0.3917 - accuracy: 0.8929 - val_loss: 0.3813 - val_accuracy: 0.8874\n",
      "Epoch 3/20\n",
      "30/30 [==============================] - 1s 17ms/step - loss: 0.3235 - accuracy: 0.9156 - val_loss: 0.3953 - val_accuracy: 0.8687\n",
      "Epoch 4/20\n",
      "30/30 [==============================] - 0s 16ms/step - loss: 0.2946 - accuracy: 0.9243 - val_loss: 0.3581 - val_accuracy: 0.8898\n",
      "Epoch 5/20\n",
      "30/30 [==============================] - 0s 15ms/step - loss: 0.2728 - accuracy: 0.9345 - val_loss: 0.3705 - val_accuracy: 0.8811\n",
      "Epoch 6/20\n",
      "30/30 [==============================] - 0s 15ms/step - loss: 0.2620 - accuracy: 0.9362 - val_loss: 0.3739 - val_accuracy: 0.8812\n",
      "Epoch 7/20\n",
      "30/30 [==============================] - 0s 15ms/step - loss: 0.2510 - accuracy: 0.9411 - val_loss: 0.3659 - val_accuracy: 0.8834\n",
      "Epoch 8/20\n",
      "30/30 [==============================] - 0s 15ms/step - loss: 0.2426 - accuracy: 0.9441 - val_loss: 0.4102 - val_accuracy: 0.8701\n",
      "Epoch 9/20\n",
      "30/30 [==============================] - 0s 15ms/step - loss: 0.2387 - accuracy: 0.9443 - val_loss: 0.3764 - val_accuracy: 0.8812\n",
      "Epoch 10/20\n",
      "30/30 [==============================] - 0s 15ms/step - loss: 0.2321 - accuracy: 0.9481 - val_loss: 0.3867 - val_accuracy: 0.8776\n",
      "Epoch 11/20\n",
      "30/30 [==============================] - 0s 15ms/step - loss: 0.2247 - accuracy: 0.9507 - val_loss: 0.3957 - val_accuracy: 0.8775\n",
      "Epoch 12/20\n",
      "30/30 [==============================] - 0s 15ms/step - loss: 0.2185 - accuracy: 0.9542 - val_loss: 0.3931 - val_accuracy: 0.8779\n",
      "Epoch 13/20\n",
      "30/30 [==============================] - 0s 15ms/step - loss: 0.2191 - accuracy: 0.9527 - val_loss: 0.4026 - val_accuracy: 0.8754\n",
      "Epoch 14/20\n",
      "30/30 [==============================] - 0s 15ms/step - loss: 0.2133 - accuracy: 0.9558 - val_loss: 0.4230 - val_accuracy: 0.8715\n",
      "Epoch 15/20\n",
      "30/30 [==============================] - 0s 15ms/step - loss: 0.2118 - accuracy: 0.9546 - val_loss: 0.4015 - val_accuracy: 0.8784\n",
      "Epoch 16/20\n",
      "30/30 [==============================] - 0s 15ms/step - loss: 0.2069 - accuracy: 0.9569 - val_loss: 0.4145 - val_accuracy: 0.8739\n",
      "Epoch 17/20\n",
      "30/30 [==============================] - 0s 15ms/step - loss: 0.2086 - accuracy: 0.9560 - val_loss: 0.4243 - val_accuracy: 0.8732\n",
      "Epoch 18/20\n",
      "30/30 [==============================] - 0s 15ms/step - loss: 0.2045 - accuracy: 0.9573 - val_loss: 0.4189 - val_accuracy: 0.8766\n",
      "Epoch 19/20\n",
      "30/30 [==============================] - 0s 15ms/step - loss: 0.1982 - accuracy: 0.9595 - val_loss: 0.4456 - val_accuracy: 0.8672\n",
      "Epoch 20/20\n",
      "30/30 [==============================] - 0s 15ms/step - loss: 0.1987 - accuracy: 0.9594 - val_loss: 0.5440 - val_accuracy: 0.8502\n"
     ]
    }
   ],
   "source": [
    "from tensorflow.keras import regularizers\n",
    "\n",
    "# L2正则化\n",
    "model = keras.Sequential([\n",
    "    layers.Dense(16,\n",
    "                 kernel_regularizer=regularizers.l2(0.002),\n",
    "                 activation=\"relu\"),\n",
    "    layers.Dense(16,\n",
    "                 kernel_regularizer=regularizers.l2(0.002),\n",
    "                 activation=\"relu\"),\n",
    "    layers.Dense(1, activation=\"sigmoid\")\n",
    "])\n",
    "model.compile(optimizer=\"rmsprop\",\n",
    "              loss=\"binary_crossentropy\",\n",
    "              metrics=[\"accuracy\"])\n",
    "history_l2_reg = model.fit(\n",
    "    train_data, train_labels,\n",
    "    epochs=20, batch_size=512, validation_split=0.4)"
   ]
  },
  {
   "cell_type": "markdown",
   "metadata": {
    "colab_type": "text"
   },
   "source": [
    "**Different weight regularizers available in Keras**"
   ]
  },
  {
   "cell_type": "code",
   "execution_count": 15,
   "metadata": {
    "colab_type": "code"
   },
   "outputs": [
    {
     "data": {
      "text/plain": [
       "<keras.regularizers.L1L2 at 0x2c96d1fe070>"
      ]
     },
     "execution_count": 15,
     "metadata": {},
     "output_type": "execute_result"
    }
   ],
   "source": [
    "from tensorflow.keras import regularizers\n",
    "# L1正则化\n",
    "regularizers.l1(0.001)\n",
    "# 同时做L1正则化和L2正则化\n",
    "regularizers.l1_l2(l1=0.001, l2=0.001)"
   ]
  },
  {
   "cell_type": "markdown",
   "metadata": {
    "colab_type": "text"
   },
   "source": [
    "#### Adding dropout"
   ]
  },
  {
   "cell_type": "markdown",
   "metadata": {
    "colab_type": "text"
   },
   "source": [
    "**Adding dropout to the IMDB model**"
   ]
  },
  {
   "cell_type": "markdown",
   "metadata": {},
   "source": [
    "dropout的核心思想：在层的输出值中引入噪声，打破不重要的偶然模式。"
   ]
  },
  {
   "cell_type": "code",
   "execution_count": 16,
   "metadata": {
    "colab_type": "code"
   },
   "outputs": [
    {
     "name": "stdout",
     "output_type": "stream",
     "text": [
      "Epoch 1/20\n",
      "30/30 [==============================] - 1s 31ms/step - loss: 0.6473 - accuracy: 0.6140 - val_loss: 0.5570 - val_accuracy: 0.8447\n",
      "Epoch 2/20\n",
      "30/30 [==============================] - 0s 16ms/step - loss: 0.5481 - accuracy: 0.7443 - val_loss: 0.4655 - val_accuracy: 0.8710\n",
      "Epoch 3/20\n",
      "30/30 [==============================] - 0s 15ms/step - loss: 0.4689 - accuracy: 0.8149 - val_loss: 0.3876 - val_accuracy: 0.8768\n",
      "Epoch 4/20\n",
      "30/30 [==============================] - 0s 16ms/step - loss: 0.4026 - accuracy: 0.8485 - val_loss: 0.3526 - val_accuracy: 0.8832\n",
      "Epoch 5/20\n",
      "30/30 [==============================] - 0s 15ms/step - loss: 0.3462 - accuracy: 0.8804 - val_loss: 0.3143 - val_accuracy: 0.8884\n",
      "Epoch 6/20\n",
      "30/30 [==============================] - 0s 16ms/step - loss: 0.3008 - accuracy: 0.9030 - val_loss: 0.2955 - val_accuracy: 0.8871\n",
      "Epoch 7/20\n",
      "30/30 [==============================] - 0s 15ms/step - loss: 0.2674 - accuracy: 0.9145 - val_loss: 0.2905 - val_accuracy: 0.8861\n",
      "Epoch 8/20\n",
      "30/30 [==============================] - 0s 16ms/step - loss: 0.2315 - accuracy: 0.9309 - val_loss: 0.2920 - val_accuracy: 0.8831\n",
      "Epoch 9/20\n",
      "30/30 [==============================] - 0s 15ms/step - loss: 0.2111 - accuracy: 0.9358 - val_loss: 0.3082 - val_accuracy: 0.8893\n",
      "Epoch 10/20\n",
      "30/30 [==============================] - 0s 16ms/step - loss: 0.1914 - accuracy: 0.9419 - val_loss: 0.3298 - val_accuracy: 0.8898\n",
      "Epoch 11/20\n",
      "30/30 [==============================] - 0s 16ms/step - loss: 0.1721 - accuracy: 0.9487 - val_loss: 0.3292 - val_accuracy: 0.8902\n",
      "Epoch 12/20\n",
      "30/30 [==============================] - 0s 16ms/step - loss: 0.1514 - accuracy: 0.9547 - val_loss: 0.3338 - val_accuracy: 0.8861\n",
      "Epoch 13/20\n",
      "30/30 [==============================] - 0s 15ms/step - loss: 0.1386 - accuracy: 0.9588 - val_loss: 0.3642 - val_accuracy: 0.8862\n",
      "Epoch 14/20\n",
      "30/30 [==============================] - 0s 15ms/step - loss: 0.1281 - accuracy: 0.9623 - val_loss: 0.3828 - val_accuracy: 0.8858\n",
      "Epoch 15/20\n",
      "30/30 [==============================] - 0s 15ms/step - loss: 0.1194 - accuracy: 0.9651 - val_loss: 0.4791 - val_accuracy: 0.8842\n",
      "Epoch 16/20\n",
      "30/30 [==============================] - 0s 15ms/step - loss: 0.1062 - accuracy: 0.9683 - val_loss: 0.4730 - val_accuracy: 0.8856\n",
      "Epoch 17/20\n",
      "30/30 [==============================] - 0s 16ms/step - loss: 0.1012 - accuracy: 0.9706 - val_loss: 0.5266 - val_accuracy: 0.8860\n",
      "Epoch 18/20\n",
      "30/30 [==============================] - 0s 15ms/step - loss: 0.0939 - accuracy: 0.9729 - val_loss: 0.5295 - val_accuracy: 0.8864\n",
      "Epoch 19/20\n",
      "30/30 [==============================] - 0s 16ms/step - loss: 0.0912 - accuracy: 0.9741 - val_loss: 0.5378 - val_accuracy: 0.8833\n",
      "Epoch 20/20\n",
      "30/30 [==============================] - 0s 15ms/step - loss: 0.0891 - accuracy: 0.9749 - val_loss: 0.6153 - val_accuracy: 0.8832\n"
     ]
    }
   ],
   "source": [
    "# 添加dropout层\n",
    "model = keras.Sequential([\n",
    "    layers.Dense(16, activation=\"relu\"),\n",
    "    layers.Dropout(0.5),\n",
    "    layers.Dense(16, activation=\"relu\"),\n",
    "    layers.Dropout(0.5),\n",
    "    layers.Dense(1, activation=\"sigmoid\")\n",
    "])\n",
    "model.compile(optimizer=\"rmsprop\",\n",
    "              loss=\"binary_crossentropy\",\n",
    "              metrics=[\"accuracy\"])\n",
    "history_dropout = model.fit(\n",
    "    train_data, train_labels,\n",
    "    epochs=20, batch_size=512, validation_split=0.4)"
   ]
  },
  {
   "cell_type": "markdown",
   "metadata": {
    "colab_type": "text"
   },
   "source": [
    "## Summary"
   ]
  }
 ],
 "metadata": {
  "colab": {
   "collapsed_sections": [],
   "name": "chapter05_fundamentals-of-ml.i",
   "private_outputs": false,
   "provenance": [],
   "toc_visible": true
  },
  "kernelspec": {
   "display_name": "Python 3 (ipykernel)",
   "language": "python",
   "name": "python3"
  },
  "language_info": {
   "codemirror_mode": {
    "name": "ipython",
    "version": 3
   },
   "file_extension": ".py",
   "mimetype": "text/x-python",
   "name": "python",
   "nbconvert_exporter": "python",
   "pygments_lexer": "ipython3",
   "version": "3.8.10"
  }
 },
 "nbformat": 4,
 "nbformat_minor": 1
}
